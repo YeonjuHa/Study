{
 "cells": [
  {
   "cell_type": "markdown",
   "id": "cc2ce315",
   "metadata": {},
   "source": [
    "## Hello, worlds! 출력\n",
    "print 함수로 Hello, worlds!를 출력합니다."
   ]
  },
  {
   "cell_type": "code",
   "execution_count": 2,
   "id": "d70bd672",
   "metadata": {},
   "outputs": [
    {
     "name": "stdout",
     "output_type": "stream",
     "text": [
      "Hello, worlds!\n"
     ]
    }
   ],
   "source": [
    "print('Hello, worlds!')"
   ]
  },
  {
   "cell_type": "code",
   "execution_count": null,
   "id": "c9accb19",
   "metadata": {},
   "outputs": [],
   "source": []
  }
 ],
 "metadata": {
  "kernelspec": {
   "display_name": "Python 3 (ipykernel)",
   "language": "python",
   "name": "python3"
  },
  "language_info": {
   "codemirror_mode": {
    "name": "ipython",
    "version": 3
   },
   "file_extension": ".py",
   "mimetype": "text/x-python",
   "name": "python",
   "nbconvert_exporter": "python",
   "pygments_lexer": "ipython3",
   "version": "3.11.5"
  }
 },
 "nbformat": 4,
 "nbformat_minor": 5
}
