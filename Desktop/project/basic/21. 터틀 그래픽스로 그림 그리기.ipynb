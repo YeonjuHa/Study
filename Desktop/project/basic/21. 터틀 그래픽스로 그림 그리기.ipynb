{
 "cells": [
  {
   "cell_type": "markdown",
   "id": "63412543",
   "metadata": {},
   "source": [
    "## 1. 사각형 그리기"
   ]
  },
  {
   "cell_type": "code",
   "execution_count": 4,
   "id": "cdc9d52d",
   "metadata": {},
   "outputs": [],
   "source": [
    "import turtle as t\n",
    "t.shape('turtle')"
   ]
  },
  {
   "cell_type": "code",
   "execution_count": 3,
   "id": "fe401a0f",
   "metadata": {},
   "outputs": [],
   "source": [
    "# 앞으로 100 이동\n",
    "t.forward(100)\n",
    "\n",
    "# 방향을 오른쪽으로 90도\n",
    "t.right(90)"
   ]
  },
  {
   "cell_type": "code",
   "execution_count": null,
   "id": "9934b720",
   "metadata": {},
   "outputs": [],
   "source": [
    "t.forward(100)\n",
    "t.right(90)\n",
    "t.forward(100)\n",
    "t.right(90)\n",
    "t.forward(100)\n",
    "t.right(90)"
   ]
  }
 ],
 "metadata": {
  "kernelspec": {
   "display_name": "Python 3 (ipykernel)",
   "language": "python",
   "name": "python3"
  },
  "language_info": {
   "codemirror_mode": {
    "name": "ipython",
    "version": 3
   },
   "file_extension": ".py",
   "mimetype": "text/x-python",
   "name": "python",
   "nbconvert_exporter": "python",
   "pygments_lexer": "ipython3",
   "version": "3.11.4"
  }
 },
 "nbformat": 4,
 "nbformat_minor": 5
}
