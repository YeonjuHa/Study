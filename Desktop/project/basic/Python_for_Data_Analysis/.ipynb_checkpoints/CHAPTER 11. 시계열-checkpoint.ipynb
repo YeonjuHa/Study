{
 "cells": [
  {
   "cell_type": "markdown",
   "id": "bfa350da",
   "metadata": {},
   "source": [
    "시계열은 금융, 경제, 생태학, 신경 과학, 물리학 등 여러 다양한 분야에서 사용돼ㅣ는 매우 중요한 구조화된 데이터이다."
   ]
  },
  {
   "cell_type": "code",
   "execution_count": 1,
   "id": "86c8fd87",
   "metadata": {},
   "outputs": [],
   "source": [
    "import numpy as np\n",
    "import pandas as pd\n",
    "\n",
    "from IPython.core.interactiveshell import InteractiveShell\n",
    "InteractiveShell.ast_node_interactivity = 'all'"
   ]
  },
  {
   "cell_type": "markdown",
   "id": "6831754d",
   "metadata": {},
   "source": [
    "# 11.1 날짜, 시간 자료형과 도구"
   ]
  },
  {
   "cell_type": "markdown",
   "id": "3b19a793",
   "metadata": {},
   "source": [
    "datetime은 날짜와 시간을 모두 저장하며 마이크로초까지 지원한다."
   ]
  },
  {
   "cell_type": "code",
   "execution_count": 2,
   "id": "ac9c01a8",
   "metadata": {},
   "outputs": [
    {
     "data": {
      "text/plain": [
       "datetime.datetime(2023, 12, 13, 9, 13, 54, 812369)"
      ]
     },
     "execution_count": 2,
     "metadata": {},
     "output_type": "execute_result"
    },
    {
     "data": {
      "text/plain": [
       "(2023, 12, 13)"
      ]
     },
     "execution_count": 2,
     "metadata": {},
     "output_type": "execute_result"
    }
   ],
   "source": [
    "from datetime import datetime\n",
    "\n",
    "now = datetime.now()\n",
    "now\n",
    "\n",
    "now.year, now.month, now.day"
   ]
  },
  {
   "cell_type": "markdown",
   "id": "6b9ccccd",
   "metadata": {},
   "source": [
    "datetime.timedelta는 두 datetime 객체 간의 시간적 차이를 표현한다. (간단하게 timedelta로 표현)"
   ]
  },
  {
   "cell_type": "code",
   "execution_count": 3,
   "id": "c9301b69",
   "metadata": {},
   "outputs": [
    {
     "data": {
      "text/plain": [
       "datetime.timedelta(days=926, seconds=56700)"
      ]
     },
     "execution_count": 3,
     "metadata": {},
     "output_type": "execute_result"
    },
    {
     "data": {
      "text/plain": [
       "926"
      ]
     },
     "execution_count": 3,
     "metadata": {},
     "output_type": "execute_result"
    },
    {
     "data": {
      "text/plain": [
       "56700"
      ]
     },
     "execution_count": 3,
     "metadata": {},
     "output_type": "execute_result"
    }
   ],
   "source": [
    "delta = datetime(2011, 1, 7) - datetime(2008, 6, 24, 8, 15)\n",
    "delta\n",
    "\n",
    "delta.days\n",
    "delta.seconds"
   ]
  },
  {
   "cell_type": "markdown",
   "id": "44aba130",
   "metadata": {},
   "source": [
    "timedelta를 더하거나 빼면 그만큼의 시간이 datetime 객체에 적용되어 새로운 객체가 만들어진다."
   ]
  },
  {
   "cell_type": "code",
   "execution_count": 4,
   "id": "db81f0e1",
   "metadata": {},
   "outputs": [
    {
     "data": {
      "text/plain": [
       "datetime.datetime(2011, 1, 19, 0, 0)"
      ]
     },
     "execution_count": 4,
     "metadata": {},
     "output_type": "execute_result"
    },
    {
     "data": {
      "text/plain": [
       "datetime.datetime(2010, 12, 14, 0, 0)"
      ]
     },
     "execution_count": 4,
     "metadata": {},
     "output_type": "execute_result"
    }
   ],
   "source": [
    "from datetime import timedelta\n",
    "start = datetime(2011, 1, 7)\n",
    "\n",
    "start + timedelta(12)\n",
    "start - 2 * timedelta(12)"
   ]
  },
  {
   "cell_type": "markdown",
   "id": "718dd928",
   "metadata": {},
   "source": [
    "### datetime 모듈의 자료형\n",
    "- `date` : 그레고리력을 사용해서 날짜(연, 월, 일)를 저장\n",
    "- `time` : 하루의 시간을 시, 분, 초, 마이크로초 단위로 저장\n",
    "- `datetime` : 날짜와 시간을 저장\n",
    "- `timedelta` : 두 datetime 값 간의 차이(일, 초, 마이크로초)를 표현\n",
    "- `tzinfo` : 표준 시간대를 저장하기 위한 기본 자료형"
   ]
  },
  {
   "cell_type": "markdown",
   "id": "0e43bcfb",
   "metadata": {},
   "source": [
    "## 11.1.1 문자열을 datetime으로 변환하기"
   ]
  },
  {
   "cell_type": "markdown",
   "id": "e17f4b4b",
   "metadata": {},
   "source": [
    "datetime 객체와 Timestamp 객체는 str이나 strftime 메서드에 포맷(형식) 규칙을 넘겨서 문자열로 나타낼 수 있다."
   ]
  },
  {
   "cell_type": "code",
   "execution_count": 5,
   "id": "cf309bcd",
   "metadata": {},
   "outputs": [
    {
     "data": {
      "text/plain": [
       "'2011-01-03 00:00:00'"
      ]
     },
     "execution_count": 5,
     "metadata": {},
     "output_type": "execute_result"
    },
    {
     "data": {
      "text/plain": [
       "'2011-01-03'"
      ]
     },
     "execution_count": 5,
     "metadata": {},
     "output_type": "execute_result"
    }
   ],
   "source": [
    "stamp = datetime(2011, 1, 3)\n",
    "str(stamp)\n",
    "stamp.strftime(\"%Y-%m-%d\")"
   ]
  },
  {
   "cell_type": "markdown",
   "id": "e232f18e",
   "metadata": {},
   "source": [
    "### datetime 포맷 규칙 (ISO C89 호환)\n",
    "- `%Y` : 연도(4자리)\n",
    "- `%y` : 연도(2자리)\n",
    "- `%m` : 월(2자리)[01, 12]\n",
    "- `%d` : 일(2자리)[01, 31]\n",
    "- `%H` : 시간(24시간 형식)[00, 23]\n",
    "- `%I` : 시간(12시간 형식)[01, 12]\n",
    "- `%M` : 분(2자리)[00, 59]\n",
    "- `%S` : 초[00, 61] (60, 61은 윤초)\n",
    "- `%f` : 0으로 채운 정수로 표현된 마이크로초(000000~999999)\n",
    "- `%j` : 0으로 채운 정수로 표현된 연중 날짜(001~366)\n",
    "- `%w` : 정수로 나타낸 요일 [0(일요일), 6]\n",
    "- `%u` : 1부터 시작하는 정수로 나타낸 요일 (1은 월요일)\n",
    "- `%U` :\n",
    "- `%W` :\n",
    "- `%z` :\n",
    "- `%Z` :\n",
    "- `%F` :\n",
    "- `%D` :"
   ]
  },
  {
   "cell_type": "markdown",
   "id": "43edadfe",
   "metadata": {},
   "source": [
    "포맷 코드는 datetime.strptime으로 문자열을 날짜로 변환할 때 사용한다. (%F와 같은 일부 코드는 사용 불가능)\n",
    "\n",
    "`datetime.strptime`은 알려진 포맷을 날짜를 파싱하는 하나의 방법이다."
   ]
  },
  {
   "cell_type": "code",
   "execution_count": 6,
   "id": "e95522f6",
   "metadata": {},
   "outputs": [
    {
     "data": {
      "text/plain": [
       "datetime.datetime(2011, 1, 3, 0, 0)"
      ]
     },
     "execution_count": 6,
     "metadata": {},
     "output_type": "execute_result"
    },
    {
     "data": {
      "text/plain": [
       "[datetime.datetime(2011, 7, 6, 0, 0), datetime.datetime(2011, 8, 6, 0, 0)]"
      ]
     },
     "execution_count": 6,
     "metadata": {},
     "output_type": "execute_result"
    }
   ],
   "source": [
    "value = \"2011-01-03\"\n",
    "datetime.strptime(value, \"%Y-%m-%d\")\n",
    "\n",
    "datestrs = [\"7/6/2011\", \"8/6/2011\"]\n",
    "[datetime.strptime(x, \"%m/%d/%Y\") for x in datestrs]"
   ]
  },
  {
   "cell_type": "markdown",
   "id": "67bd8990",
   "metadata": {},
   "source": [
    "`pandas.to_datetime` 메서드는 여러 종류의 날짜 표현을 처리하고 ISO 8601 같은 표준 날짜 포맷을 매우 빠르게 처리할 수 있다."
   ]
  },
  {
   "cell_type": "code",
   "execution_count": 7,
   "id": "ae008b03",
   "metadata": {},
   "outputs": [
    {
     "data": {
      "text/plain": [
       "DatetimeIndex(['2011-07-06 12:00:00', '2011-08-06 00:00:00'], dtype='datetime64[ns]', freq=None)"
      ]
     },
     "execution_count": 7,
     "metadata": {},
     "output_type": "execute_result"
    }
   ],
   "source": [
    "datestrs = [\"2011-07-06 12:00:00\", \"2011-08-06 00:00:00\"]\n",
    "pd.to_datetime(datestrs)"
   ]
  },
  {
   "cell_type": "markdown",
   "id": "9429af4d",
   "metadata": {},
   "source": [
    "누락된 값(None, 빈 문자열 등)으로 간주되어야 할 값도 처리한다."
   ]
  },
  {
   "cell_type": "code",
   "execution_count": 8,
   "id": "688e0f83",
   "metadata": {},
   "outputs": [
    {
     "data": {
      "text/plain": [
       "DatetimeIndex(['2011-07-06 12:00:00', '2011-08-06 00:00:00', 'NaT'], dtype='datetime64[ns]', freq=None)"
      ]
     },
     "execution_count": 8,
     "metadata": {},
     "output_type": "execute_result"
    },
    {
     "data": {
      "text/plain": [
       "NaT"
      ]
     },
     "execution_count": 8,
     "metadata": {},
     "output_type": "execute_result"
    },
    {
     "data": {
      "text/plain": [
       "array([False, False,  True])"
      ]
     },
     "execution_count": 8,
     "metadata": {},
     "output_type": "execute_result"
    }
   ],
   "source": [
    "idx = pd.to_datetime(datestrs + [None])\n",
    "idx\n",
    "idx[2]\n",
    "pd.isna(idx)"
   ]
  },
  {
   "cell_type": "markdown",
   "id": "7fc05646",
   "metadata": {},
   "source": [
    "### 로케일별 날짜 포맷\n",
    "- `%a` : 축약된 요일 이름\n",
    "- `%A` : 요일 이름\n",
    "- `%b` : 축약된 월 이름\n",
    "- `%B` : 월 이름\n",
    "- `%c` : 전체 날짜와 시간 (Tue 01 May 2012 04:20:57 PM)\n",
    "- `%p` : 해당 로케일에서 AM, PM에 대응되는 이름 (AM 오전, PM 오후)\n",
    "- `%x` : 로케일에 맞는 날짜 형식 (미국 2012년 5월 1일을 05/01/2012)\n",
    "- `%X` : 로케일에 맞는 시간 형식 (04:24:12 PM)"
   ]
  },
  {
   "cell_type": "markdown",
   "id": "3da792e0",
   "metadata": {},
   "source": [
    "# 11.2 시계열 기초"
   ]
  },
  {
   "cell_type": "markdown",
   "id": "84f14764",
   "metadata": {},
   "source": [
    "판다스에서 찾아볼 수 있는 가장 기본적인 시계열의 종류는 파이썬 문자열이나 datetime 객체로 표현되는 타임스탬프로 색인된 Series 객체이다."
   ]
  },
  {
   "cell_type": "code",
   "execution_count": 9,
   "id": "daaad383",
   "metadata": {},
   "outputs": [
    {
     "data": {
      "text/plain": [
       "2011-01-02    1.221384\n",
       "2011-01-05    0.764230\n",
       "2011-01-07   -0.462754\n",
       "2011-01-08    0.819502\n",
       "2011-01-10   -0.135479\n",
       "2011-01-12   -0.387422\n",
       "dtype: float64"
      ]
     },
     "execution_count": 9,
     "metadata": {},
     "output_type": "execute_result"
    }
   ],
   "source": [
    "dates = [datetime(2011, 1, 2), datetime(2011, 1, 5),\n",
    "         datetime(2011, 1, 7), datetime(2011, 1, 8),\n",
    "         datetime(2011, 1, 10), datetime(2011, 1, 12)]\n",
    "ts = pd.Series(np.random.standard_normal(6), index=dates)\n",
    "ts"
   ]
  },
  {
   "cell_type": "markdown",
   "id": "23d215e2",
   "metadata": {},
   "source": [
    "내부적으로 살펴보면 DatetimeIndex에 datetime 객체가 들어있다."
   ]
  },
  {
   "cell_type": "code",
   "execution_count": 10,
   "id": "48f023ce",
   "metadata": {},
   "outputs": [
    {
     "data": {
      "text/plain": [
       "DatetimeIndex(['2011-01-02', '2011-01-05', '2011-01-07', '2011-01-08',\n",
       "               '2011-01-10', '2011-01-12'],\n",
       "              dtype='datetime64[ns]', freq=None)"
      ]
     },
     "execution_count": 10,
     "metadata": {},
     "output_type": "execute_result"
    }
   ],
   "source": [
    "ts.index"
   ]
  },
  {
   "cell_type": "markdown",
   "id": "71cbcd7d",
   "metadata": {},
   "source": [
    "서로 다르게 색인된 시계열 객체 간의 산술 연산은 자동으로 날짜에 맞춰진다."
   ]
  },
  {
   "cell_type": "code",
   "execution_count": 11,
   "id": "a2c6603e",
   "metadata": {},
   "outputs": [
    {
     "data": {
      "text/plain": [
       "2011-01-02    2.442768\n",
       "2011-01-05         NaN\n",
       "2011-01-07   -0.925508\n",
       "2011-01-08         NaN\n",
       "2011-01-10   -0.270958\n",
       "2011-01-12         NaN\n",
       "dtype: float64"
      ]
     },
     "execution_count": 11,
     "metadata": {},
     "output_type": "execute_result"
    }
   ],
   "source": [
    "ts + ts[::2]"
   ]
  },
  {
   "cell_type": "code",
   "execution_count": 12,
   "id": "53c2d35e",
   "metadata": {},
   "outputs": [
    {
     "data": {
      "text/plain": [
       "dtype('<M8[ns]')"
      ]
     },
     "execution_count": 12,
     "metadata": {},
     "output_type": "execute_result"
    }
   ],
   "source": [
    "ts.index.dtype"
   ]
  },
  {
   "cell_type": "code",
   "execution_count": 13,
   "id": "f72c7cef",
   "metadata": {},
   "outputs": [
    {
     "data": {
      "text/plain": [
       "Timestamp('2011-01-02 00:00:00')"
      ]
     },
     "execution_count": 13,
     "metadata": {},
     "output_type": "execute_result"
    }
   ],
   "source": [
    "stamp = ts.index[0]\n",
    "stamp"
   ]
  },
  {
   "cell_type": "markdown",
   "id": "67a7af83",
   "metadata": {},
   "source": [
    "## 11.2.1 색인, 선택, 부분 선택"
   ]
  },
  {
   "cell_type": "markdown",
   "id": "088e6b4e",
   "metadata": {},
   "source": [
    "시계열은 레이블에 기반해 데이터를 선택하고, 인덱싱할 때 pandas.Series와 동일하게 작동한다."
   ]
  },
  {
   "cell_type": "code",
   "execution_count": 14,
   "id": "a87ae2d1",
   "metadata": {},
   "outputs": [
    {
     "data": {
      "text/plain": [
       "-0.4627537768125431"
      ]
     },
     "execution_count": 14,
     "metadata": {},
     "output_type": "execute_result"
    },
    {
     "data": {
      "text/plain": [
       "-0.13547906898580814"
      ]
     },
     "execution_count": 14,
     "metadata": {},
     "output_type": "execute_result"
    }
   ],
   "source": [
    "stamp = ts.index[2]\n",
    "ts[stamp]\n",
    "ts[\"2011-01-10\"]"
   ]
  },
  {
   "cell_type": "markdown",
   "id": "0eba6660",
   "metadata": {},
   "source": [
    "긴 시계열에서는 연을 넘기거나 연, 월만 넘겨서 데이터의 일부 구간만 선택할 수도 있다."
   ]
  },
  {
   "cell_type": "code",
   "execution_count": 15,
   "id": "2b29d56a",
   "metadata": {},
   "outputs": [
    {
     "data": {
      "text/plain": [
       "2000-01-01   -0.343717\n",
       "2000-01-02    0.504576\n",
       "2000-01-03    1.155405\n",
       "2000-01-04    1.898606\n",
       "2000-01-05    0.411151\n",
       "                ...   \n",
       "2002-09-22    1.180659\n",
       "2002-09-23   -0.551408\n",
       "2002-09-24    0.971911\n",
       "2002-09-25    0.090999\n",
       "2002-09-26    0.986399\n",
       "Freq: D, Length: 1000, dtype: float64"
      ]
     },
     "execution_count": 15,
     "metadata": {},
     "output_type": "execute_result"
    },
    {
     "name": "stdout",
     "output_type": "stream",
     "text": [
      "# 연도\n"
     ]
    },
    {
     "data": {
      "text/plain": [
       "2001-01-01   -0.557020\n",
       "2001-01-02    0.550164\n",
       "2001-01-03   -1.713711\n",
       "2001-01-04   -0.708871\n",
       "2001-01-05   -0.872593\n",
       "                ...   \n",
       "2001-12-27   -2.122660\n",
       "2001-12-28    0.468999\n",
       "2001-12-29    1.812032\n",
       "2001-12-30    0.571907\n",
       "2001-12-31   -0.493088\n",
       "Freq: D, Length: 365, dtype: float64"
      ]
     },
     "execution_count": 15,
     "metadata": {},
     "output_type": "execute_result"
    },
    {
     "name": "stdout",
     "output_type": "stream",
     "text": [
      "# 연, 월\n"
     ]
    },
    {
     "data": {
      "text/plain": [
       "2001-05-01    0.362165\n",
       "2001-05-02    0.835129\n",
       "2001-05-03    0.811790\n",
       "2001-05-04   -0.019058\n",
       "2001-05-05    0.537369\n",
       "2001-05-06    2.431224\n",
       "2001-05-07   -0.746706\n",
       "2001-05-08   -1.748728\n",
       "2001-05-09   -0.292136\n",
       "2001-05-10    0.973392\n",
       "2001-05-11    0.608687\n",
       "2001-05-12   -1.127728\n",
       "2001-05-13    0.609748\n",
       "2001-05-14   -0.999527\n",
       "2001-05-15    0.489439\n",
       "2001-05-16   -0.121228\n",
       "2001-05-17    0.116557\n",
       "2001-05-18    1.435349\n",
       "2001-05-19    1.332289\n",
       "2001-05-20    0.505349\n",
       "2001-05-21    0.637178\n",
       "2001-05-22    0.355867\n",
       "2001-05-23    1.542221\n",
       "2001-05-24    0.531624\n",
       "2001-05-25    1.012640\n",
       "2001-05-26    0.233120\n",
       "2001-05-27   -0.100072\n",
       "2001-05-28    0.421383\n",
       "2001-05-29    1.216713\n",
       "2001-05-30   -0.608644\n",
       "2001-05-31   -0.188906\n",
       "Freq: D, dtype: float64"
      ]
     },
     "execution_count": 15,
     "metadata": {},
     "output_type": "execute_result"
    }
   ],
   "source": [
    "longer_ts = pd.Series(np.random.standard_normal(1000),\n",
    "                      index=pd.date_range(\"2000-01-01\", periods=1000))\n",
    "longer_ts\n",
    "print(\"# 연도\")\n",
    "longer_ts[\"2001\"]\n",
    "print(\"# 연, 월\")\n",
    "longer_ts[\"2001-05\"]"
   ]
  },
  {
   "cell_type": "markdown",
   "id": "f86769dc",
   "metadata": {},
   "source": [
    "날짜로 데이터를 잘래내는 것도 가능하다."
   ]
  },
  {
   "cell_type": "code",
   "execution_count": 16,
   "id": "48d49bb0",
   "metadata": {},
   "outputs": [
    {
     "data": {
      "text/plain": [
       "2011-01-07   -0.462754\n",
       "2011-01-08    0.819502\n",
       "2011-01-10   -0.135479\n",
       "2011-01-12   -0.387422\n",
       "dtype: float64"
      ]
     },
     "execution_count": 16,
     "metadata": {},
     "output_type": "execute_result"
    },
    {
     "data": {
      "text/plain": [
       "2011-01-07   -0.462754\n",
       "2011-01-08    0.819502\n",
       "2011-01-10   -0.135479\n",
       "dtype: float64"
      ]
     },
     "execution_count": 16,
     "metadata": {},
     "output_type": "execute_result"
    }
   ],
   "source": [
    "ts[datetime(2011, 1, 7):]\n",
    "\n",
    "ts[datetime(2011, 1, 7):datetime(2011, 1, 10)]"
   ]
  },
  {
   "cell_type": "markdown",
   "id": "db8e2575",
   "metadata": {},
   "source": [
    "대부분의 시계열 데이터는 연대순으로 정렬되기 때문에 범위를 지정하려면 시계열에 기재하지 않고 타임스탬프를 이용해서 Series를 나눈다."
   ]
  },
  {
   "cell_type": "code",
   "execution_count": 17,
   "id": "f5f935a4",
   "metadata": {},
   "outputs": [
    {
     "data": {
      "text/plain": [
       "2011-01-02    1.221384\n",
       "2011-01-05    0.764230\n",
       "2011-01-07   -0.462754\n",
       "2011-01-08    0.819502\n",
       "2011-01-10   -0.135479\n",
       "2011-01-12   -0.387422\n",
       "dtype: float64"
      ]
     },
     "execution_count": 17,
     "metadata": {},
     "output_type": "execute_result"
    },
    {
     "data": {
      "text/plain": [
       "2011-01-07   -0.462754\n",
       "2011-01-08    0.819502\n",
       "2011-01-10   -0.135479\n",
       "dtype: float64"
      ]
     },
     "execution_count": 17,
     "metadata": {},
     "output_type": "execute_result"
    }
   ],
   "source": [
    "ts\n",
    "ts[\"2011-01-06\":\"2011-01-11\"]"
   ]
  },
  {
   "cell_type": "code",
   "execution_count": 18,
   "id": "736027e8",
   "metadata": {},
   "outputs": [
    {
     "data": {
      "text/plain": [
       "2011-01-02    1.221384\n",
       "2011-01-05    0.764230\n",
       "2011-01-07   -0.462754\n",
       "2011-01-08    0.819502\n",
       "dtype: float64"
      ]
     },
     "execution_count": 18,
     "metadata": {},
     "output_type": "execute_result"
    }
   ],
   "source": [
    "ts.truncate(after=\"2011-01-09\")"
   ]
  },
  {
   "cell_type": "code",
   "execution_count": 19,
   "id": "ed362c15",
   "metadata": {},
   "outputs": [
    {
     "data": {
      "text/html": [
       "<div>\n",
       "<style scoped>\n",
       "    .dataframe tbody tr th:only-of-type {\n",
       "        vertical-align: middle;\n",
       "    }\n",
       "\n",
       "    .dataframe tbody tr th {\n",
       "        vertical-align: top;\n",
       "    }\n",
       "\n",
       "    .dataframe thead th {\n",
       "        text-align: right;\n",
       "    }\n",
       "</style>\n",
       "<table border=\"1\" class=\"dataframe\">\n",
       "  <thead>\n",
       "    <tr style=\"text-align: right;\">\n",
       "      <th></th>\n",
       "      <th>Colorado</th>\n",
       "      <th>Texas</th>\n",
       "      <th>New York</th>\n",
       "      <th>Ohio</th>\n",
       "    </tr>\n",
       "  </thead>\n",
       "  <tbody>\n",
       "    <tr>\n",
       "      <th>2001-05-02</th>\n",
       "      <td>-0.308188</td>\n",
       "      <td>-1.903429</td>\n",
       "      <td>-0.514310</td>\n",
       "      <td>0.116509</td>\n",
       "    </tr>\n",
       "    <tr>\n",
       "      <th>2001-05-09</th>\n",
       "      <td>1.997738</td>\n",
       "      <td>0.999231</td>\n",
       "      <td>0.126156</td>\n",
       "      <td>-2.348334</td>\n",
       "    </tr>\n",
       "    <tr>\n",
       "      <th>2001-05-16</th>\n",
       "      <td>0.114747</td>\n",
       "      <td>0.973071</td>\n",
       "      <td>0.416081</td>\n",
       "      <td>-0.521002</td>\n",
       "    </tr>\n",
       "    <tr>\n",
       "      <th>2001-05-23</th>\n",
       "      <td>1.187014</td>\n",
       "      <td>-0.686343</td>\n",
       "      <td>0.222284</td>\n",
       "      <td>0.111977</td>\n",
       "    </tr>\n",
       "    <tr>\n",
       "      <th>2001-05-30</th>\n",
       "      <td>-1.067110</td>\n",
       "      <td>-1.686905</td>\n",
       "      <td>-0.059063</td>\n",
       "      <td>1.523085</td>\n",
       "    </tr>\n",
       "  </tbody>\n",
       "</table>\n",
       "</div>"
      ],
      "text/plain": [
       "            Colorado     Texas  New York      Ohio\n",
       "2001-05-02 -0.308188 -1.903429 -0.514310  0.116509\n",
       "2001-05-09  1.997738  0.999231  0.126156 -2.348334\n",
       "2001-05-16  0.114747  0.973071  0.416081 -0.521002\n",
       "2001-05-23  1.187014 -0.686343  0.222284  0.111977\n",
       "2001-05-30 -1.067110 -1.686905 -0.059063  1.523085"
      ]
     },
     "execution_count": 19,
     "metadata": {},
     "output_type": "execute_result"
    }
   ],
   "source": [
    "dates = pd.date_range(\"2000-01-01\", periods=100, freq=\"W-WED\")\n",
    "long_df = pd.DataFrame(np.random.standard_normal((100, 4)),\n",
    "                       index=dates, columns=[\"Colorado\", \"Texas\", \"New York\", \"Ohio\"])\n",
    "long_df.loc[\"2001-05\"]"
   ]
  },
  {
   "cell_type": "markdown",
   "id": "28a7c671",
   "metadata": {},
   "source": [
    "## 11.2.2 중복된 색인을 갖는 시계열"
   ]
  },
  {
   "cell_type": "code",
   "execution_count": 20,
   "id": "7211f8d9",
   "metadata": {},
   "outputs": [
    {
     "data": {
      "text/plain": [
       "2000-01-01    0\n",
       "2000-01-02    1\n",
       "2000-01-02    2\n",
       "2000-01-02    3\n",
       "2000-01-03    4\n",
       "dtype: int32"
      ]
     },
     "execution_count": 20,
     "metadata": {},
     "output_type": "execute_result"
    }
   ],
   "source": [
    "dates = pd.DatetimeIndex([\"2000-01-01\", \"2000-01-02\", \"2000-01-02\", \"2000-01-02\", \"2000-01-03\"])\n",
    "dup_ts = pd.Series(np.arange(5), index=dates)\n",
    "dup_ts"
   ]
  },
  {
   "cell_type": "markdown",
   "id": "dce082d4",
   "metadata": {},
   "source": [
    "`is_unique` 속성으로 데이터를 확인해보면 색인이 유일한지 여부를 알 수 있다."
   ]
  },
  {
   "cell_type": "code",
   "execution_count": 21,
   "id": "087ad9ba",
   "metadata": {},
   "outputs": [
    {
     "data": {
      "text/plain": [
       "False"
      ]
     },
     "execution_count": 21,
     "metadata": {},
     "output_type": "execute_result"
    }
   ],
   "source": [
    "dup_ts.index.is_unique"
   ]
  },
  {
   "cell_type": "markdown",
   "id": "60643496",
   "metadata": {},
   "source": [
    "시계열 데이터를 인덱싱하면 타임스탬프의 중복 여부에 따라 스칼라 값이나 슬라이스가 생성된다."
   ]
  },
  {
   "cell_type": "code",
   "execution_count": 22,
   "id": "f4d5ab65",
   "metadata": {},
   "outputs": [
    {
     "name": "stdout",
     "output_type": "stream",
     "text": [
      "# 중복 없음\n"
     ]
    },
    {
     "data": {
      "text/plain": [
       "4"
      ]
     },
     "execution_count": 22,
     "metadata": {},
     "output_type": "execute_result"
    },
    {
     "name": "stdout",
     "output_type": "stream",
     "text": [
      "# 중복 있음\n"
     ]
    },
    {
     "data": {
      "text/plain": [
       "2000-01-02    1\n",
       "2000-01-02    2\n",
       "2000-01-02    3\n",
       "dtype: int32"
      ]
     },
     "execution_count": 22,
     "metadata": {},
     "output_type": "execute_result"
    }
   ],
   "source": [
    "print(\"# 중복 없음\")\n",
    "dup_ts[\"2000-01-03\"]\n",
    "\n",
    "print(\"# 중복 있음\")\n",
    "dup_ts[\"2000-01-02\"]"
   ]
  },
  {
   "cell_type": "markdown",
   "id": "19973579",
   "metadata": {},
   "source": [
    "groupby에 level=0(단일 단계 인덱싱)을 넘겨서 유일하지 않는 타임스탬프를 갖는 데이터를 집계할 수 있다."
   ]
  },
  {
   "cell_type": "code",
   "execution_count": 23,
   "id": "09cbed18",
   "metadata": {},
   "outputs": [
    {
     "data": {
      "text/plain": [
       "2000-01-01    0.0\n",
       "2000-01-02    2.0\n",
       "2000-01-03    4.0\n",
       "dtype: float64"
      ]
     },
     "execution_count": 23,
     "metadata": {},
     "output_type": "execute_result"
    },
    {
     "data": {
      "text/plain": [
       "2000-01-01    1\n",
       "2000-01-02    3\n",
       "2000-01-03    1\n",
       "dtype: int64"
      ]
     },
     "execution_count": 23,
     "metadata": {},
     "output_type": "execute_result"
    }
   ],
   "source": [
    "grouped = dup_ts.groupby(level=0)\n",
    "grouped.mean()\n",
    "grouped.count()"
   ]
  },
  {
   "cell_type": "markdown",
   "id": "fd882578",
   "metadata": {},
   "source": [
    "# 11.3 날짜 범위, 빈도, 이동"
   ]
  },
  {
   "cell_type": "markdown",
   "id": "841de212",
   "metadata": {},
   "source": [
    "고정된 일간 빈도로 변환하려면 `resample` 메서드를 사용한다."
   ]
  },
  {
   "cell_type": "code",
   "execution_count": 24,
   "id": "52255a66",
   "metadata": {},
   "outputs": [
    {
     "data": {
      "text/plain": [
       "2011-01-02    1.221384\n",
       "2011-01-05    0.764230\n",
       "2011-01-07   -0.462754\n",
       "2011-01-08    0.819502\n",
       "2011-01-10   -0.135479\n",
       "2011-01-12   -0.387422\n",
       "dtype: float64"
      ]
     },
     "execution_count": 24,
     "metadata": {},
     "output_type": "execute_result"
    },
    {
     "data": {
      "text/plain": [
       "<pandas.core.resample.DatetimeIndexResampler object at 0x00000282A4248D10>"
      ]
     },
     "execution_count": 24,
     "metadata": {},
     "output_type": "execute_result"
    }
   ],
   "source": [
    "ts\n",
    "resampler = ts.resample(\"D\")    # 문자열 \"D\"는 일간 빈도\n",
    "resampler"
   ]
  },
  {
   "cell_type": "markdown",
   "id": "13251f4a",
   "metadata": {},
   "source": [
    "## 11.3.1 날짜 범위 생성하기"
   ]
  },
  {
   "cell_type": "markdown",
   "id": "f00aaea2",
   "metadata": {},
   "source": [
    "`pandas.date_range`를 사용하면 특정 빈도에 따라 지정된 길이만큼의 DatetimeIndex를 생성한다."
   ]
  },
  {
   "cell_type": "code",
   "execution_count": 25,
   "id": "5566c8a0",
   "metadata": {},
   "outputs": [
    {
     "data": {
      "text/plain": [
       "DatetimeIndex(['2012-04-01', '2012-04-02', '2012-04-03', '2012-04-04',\n",
       "               '2012-04-05', '2012-04-06', '2012-04-07', '2012-04-08',\n",
       "               '2012-04-09', '2012-04-10', '2012-04-11', '2012-04-12',\n",
       "               '2012-04-13', '2012-04-14', '2012-04-15', '2012-04-16',\n",
       "               '2012-04-17', '2012-04-18', '2012-04-19', '2012-04-20',\n",
       "               '2012-04-21', '2012-04-22', '2012-04-23', '2012-04-24',\n",
       "               '2012-04-25', '2012-04-26', '2012-04-27', '2012-04-28',\n",
       "               '2012-04-29', '2012-04-30', '2012-05-01', '2012-05-02',\n",
       "               '2012-05-03', '2012-05-04', '2012-05-05', '2012-05-06',\n",
       "               '2012-05-07', '2012-05-08', '2012-05-09', '2012-05-10',\n",
       "               '2012-05-11', '2012-05-12', '2012-05-13', '2012-05-14',\n",
       "               '2012-05-15', '2012-05-16', '2012-05-17', '2012-05-18',\n",
       "               '2012-05-19', '2012-05-20', '2012-05-21', '2012-05-22',\n",
       "               '2012-05-23', '2012-05-24', '2012-05-25', '2012-05-26',\n",
       "               '2012-05-27', '2012-05-28', '2012-05-29', '2012-05-30',\n",
       "               '2012-05-31', '2012-06-01'],\n",
       "              dtype='datetime64[ns]', freq='D')"
      ]
     },
     "execution_count": 25,
     "metadata": {},
     "output_type": "execute_result"
    }
   ],
   "source": [
    "index = pd.date_range(\"2012-04-01\", \"2012-06-01\")\n",
    "index"
   ]
  },
  {
   "cell_type": "markdown",
   "id": "0223c8de",
   "metadata": {},
   "source": [
    "시작 날짜나 종료 날짜 하나만 넘긴다면 생성할 기간의 숫자도 함께 전달해야 한다."
   ]
  },
  {
   "cell_type": "code",
   "execution_count": 26,
   "id": "81e0a9f3",
   "metadata": {},
   "outputs": [
    {
     "data": {
      "text/plain": [
       "DatetimeIndex(['2012-04-01', '2012-04-02', '2012-04-03', '2012-04-04',\n",
       "               '2012-04-05', '2012-04-06', '2012-04-07', '2012-04-08',\n",
       "               '2012-04-09', '2012-04-10', '2012-04-11', '2012-04-12',\n",
       "               '2012-04-13', '2012-04-14', '2012-04-15', '2012-04-16',\n",
       "               '2012-04-17', '2012-04-18', '2012-04-19', '2012-04-20'],\n",
       "              dtype='datetime64[ns]', freq='D')"
      ]
     },
     "execution_count": 26,
     "metadata": {},
     "output_type": "execute_result"
    },
    {
     "data": {
      "text/plain": [
       "DatetimeIndex(['2012-05-13', '2012-05-14', '2012-05-15', '2012-05-16',\n",
       "               '2012-05-17', '2012-05-18', '2012-05-19', '2012-05-20',\n",
       "               '2012-05-21', '2012-05-22', '2012-05-23', '2012-05-24',\n",
       "               '2012-05-25', '2012-05-26', '2012-05-27', '2012-05-28',\n",
       "               '2012-05-29', '2012-05-30', '2012-05-31', '2012-06-01'],\n",
       "              dtype='datetime64[ns]', freq='D')"
      ]
     },
     "execution_count": 26,
     "metadata": {},
     "output_type": "execute_result"
    }
   ],
   "source": [
    "pd.date_range(start=\"2012-04-01\", periods=20)\n",
    "\n",
    "pd.date_range(end=\"2012-06-01\", periods=20)"
   ]
  },
  {
   "cell_type": "markdown",
   "id": "c84c3010",
   "metadata": {},
   "source": [
    "시작과 종료 날짜는 생성된 날짜 색인에 대해 엄격한 경계를 정의한다."
   ]
  },
  {
   "cell_type": "code",
   "execution_count": 27,
   "id": "cacd2efd",
   "metadata": {},
   "outputs": [
    {
     "data": {
      "text/plain": [
       "DatetimeIndex(['2000-01-31', '2000-02-29', '2000-03-31', '2000-04-28',\n",
       "               '2000-05-31', '2000-06-30', '2000-07-31', '2000-08-31',\n",
       "               '2000-09-29', '2000-10-31', '2000-11-30'],\n",
       "              dtype='datetime64[ns]', freq='BM')"
      ]
     },
     "execution_count": 27,
     "metadata": {},
     "output_type": "execute_result"
    }
   ],
   "source": [
    "pd.date_range(\"2000-01-01\", \"2000-12-01\", freq=\"BM\")"
   ]
  },
  {
   "cell_type": "markdown",
   "id": "da4c5c33",
   "metadata": {},
   "source": [
    "### 기본 시계열 빈도\n",
    "- `D` : 달력상의 일\n",
    "- `B` : 매 영업일\n",
    "- `H` : 매시\n",
    "- `T` 또는 `min` : 배분\n",
    "- `S` : 매초\n",
    "- `L` 또는 `ms` : 밀리초(1/1000초)\n",
    "- `U` : 마이크로초(1/1000000초)\n",
    "- `M` : 월 마지막 일\n",
    "- `BM` : 월 영업 마감일\n",
    "- `MS` : 월 시작일\n",
    "- `BMS` : 월 영업 시작일\n",
    "- `W-MON`, `W-TUE`, ... : 요일, MON, TUE, WED, THU, FRI, SAT, SUN\n",
    "- `WOM-1MON`, `WOM-2MON`, ... : 월별 주차와 요일, WOM-3FRI는 매월 셋째 주 금요일\n",
    "- `Q-JAN`, `Q-FEB`, ... : 지정된 월을 해당 연도의 마감으로 하며 지정된 월의 마지막 날짜를 가리키는 분기주기(JAN, FEB, MAR, APR, MAY, JUN, JUL, AUG, SEP, OCT, NOV, DEC)\n",
    "- `BQ-JAN`, `BQ-FEB`, ... :\n",
    "- `BQS-JAN`, `BQS-FEB`, ... :\n",
    "- `A-JAN`, `A-FEB`, ... :\n",
    "- `BA-JAN`, `BA-FEB`, ... :\n",
    "- `AS-JAN`, `AS-FEB`, ... :\n",
    "- `BAS-JAN`, `BAS-FEB`, ... :"
   ]
  },
  {
   "cell_type": "markdown",
   "id": "203166cf",
   "metadata": {},
   "source": [
    "pandas.date_range는 기본적으로 시작 시간이나 종료 시간의 타임스탬프를 보존한다."
   ]
  },
  {
   "cell_type": "code",
   "execution_count": 28,
   "id": "d7eb5c5c",
   "metadata": {},
   "outputs": [
    {
     "data": {
      "text/plain": [
       "DatetimeIndex(['2012-05-02 12:56:31', '2012-05-03 12:56:31',\n",
       "               '2012-05-04 12:56:31', '2012-05-05 12:56:31',\n",
       "               '2012-05-06 12:56:31'],\n",
       "              dtype='datetime64[ns]', freq='D')"
      ]
     },
     "execution_count": 28,
     "metadata": {},
     "output_type": "execute_result"
    }
   ],
   "source": [
    "pd.date_range(\"2012-05-02 12:56:31\", periods=5)"
   ]
  },
  {
   "cell_type": "markdown",
   "id": "eead1de5",
   "metadata": {},
   "source": [
    "시간 정보를 포함한 시작 날짜와 종료 날짜를 갖지만 자정에 맞춰 타임스탬츠를 정규화하고 싶을 때는 `normalize` 옵션을 사용한다."
   ]
  },
  {
   "cell_type": "code",
   "execution_count": 29,
   "id": "12bdef2d",
   "metadata": {},
   "outputs": [
    {
     "data": {
      "text/plain": [
       "DatetimeIndex(['2012-05-02', '2012-05-03', '2012-05-04', '2012-05-05',\n",
       "               '2012-05-06'],\n",
       "              dtype='datetime64[ns]', freq='D')"
      ]
     },
     "execution_count": 29,
     "metadata": {},
     "output_type": "execute_result"
    }
   ],
   "source": [
    "pd.date_range(\"2012-05-02 12:56:31\", periods=5, normalize=True)"
   ]
  },
  {
   "cell_type": "markdown",
   "id": "ba361564",
   "metadata": {},
   "source": [
    "## 11.3.2 빈도와 날짜 오프셋"
   ]
  },
  {
   "cell_type": "markdown",
   "id": "72f96582",
   "metadata": {},
   "source": [
    "판다스에서 빈도는 기본 빈도와 배수의 조합으로 이루어진다.\n",
    "\n",
    "기본 빈도는 보통 \"M\"(월별), \"H\"(시간별)처럼 짧은 문자열로 참조된다.\n",
    "\n",
    "기본 빈도에는 날짜 오프셋이라고 부르는 객체를 사용한다."
   ]
  },
  {
   "cell_type": "code",
   "execution_count": 30,
   "id": "b41796f0",
   "metadata": {},
   "outputs": [
    {
     "data": {
      "text/plain": [
       "<Hour>"
      ]
     },
     "execution_count": 30,
     "metadata": {},
     "output_type": "execute_result"
    }
   ],
   "source": [
    "from pandas.tseries.offsets import Hour, Minute\n",
    "\n",
    "hour = Hour()\n",
    "hour"
   ]
  },
  {
   "cell_type": "markdown",
   "id": "6aa3f55a",
   "metadata": {},
   "source": [
    "오프셋 곱은 정수를 넘겨서 구한다."
   ]
  },
  {
   "cell_type": "code",
   "execution_count": 31,
   "id": "7386481f",
   "metadata": {},
   "outputs": [
    {
     "data": {
      "text/plain": [
       "<4 * Hours>"
      ]
     },
     "execution_count": 31,
     "metadata": {},
     "output_type": "execute_result"
    }
   ],
   "source": [
    "four_hours = Hour(4)\n",
    "four_hours"
   ]
  },
  {
   "cell_type": "markdown",
   "id": "52c64fd7",
   "metadata": {},
   "source": [
    "객체를 직접만들어야 할 필요는 없고 \"H\", \"4H\"처럼 문자열로 표현하면 된다.\n",
    "\n",
    "기본 빈도 앞에 정수를 두면 해당 빈도의 곱을 생성한다."
   ]
  },
  {
   "cell_type": "code",
   "execution_count": 32,
   "id": "46ccd06b",
   "metadata": {},
   "outputs": [
    {
     "data": {
      "text/plain": [
       "DatetimeIndex(['2000-01-01 00:00:00', '2000-01-01 04:00:00',\n",
       "               '2000-01-01 08:00:00', '2000-01-01 12:00:00',\n",
       "               '2000-01-01 16:00:00', '2000-01-01 20:00:00',\n",
       "               '2000-01-02 00:00:00', '2000-01-02 04:00:00',\n",
       "               '2000-01-02 08:00:00', '2000-01-02 12:00:00',\n",
       "               '2000-01-02 16:00:00', '2000-01-02 20:00:00',\n",
       "               '2000-01-03 00:00:00', '2000-01-03 04:00:00',\n",
       "               '2000-01-03 08:00:00', '2000-01-03 12:00:00',\n",
       "               '2000-01-03 16:00:00', '2000-01-03 20:00:00'],\n",
       "              dtype='datetime64[ns]', freq='4H')"
      ]
     },
     "execution_count": 32,
     "metadata": {},
     "output_type": "execute_result"
    }
   ],
   "source": [
    "pd.date_range(\"2000-01-01\", \"2000-01-03 23:59\", freq=\"4H\")"
   ]
  },
  {
   "cell_type": "markdown",
   "id": "70ab562c",
   "metadata": {},
   "source": [
    "여러 오프셋을 덧셈으로 합칠 수 있다."
   ]
  },
  {
   "cell_type": "code",
   "execution_count": 33,
   "id": "6a8fd9a4",
   "metadata": {},
   "outputs": [
    {
     "data": {
      "text/plain": [
       "<150 * Minutes>"
      ]
     },
     "execution_count": 33,
     "metadata": {},
     "output_type": "execute_result"
    }
   ],
   "source": [
    "Hour(2) + Minute(30)"
   ]
  },
  {
   "cell_type": "markdown",
   "id": "6e7cc753",
   "metadata": {},
   "source": [
    "\"1h30min\"처럼 빈도 문자열을 넘겨도 잘 생성된다."
   ]
  },
  {
   "cell_type": "code",
   "execution_count": 34,
   "id": "5ba3fecf",
   "metadata": {},
   "outputs": [
    {
     "data": {
      "text/plain": [
       "DatetimeIndex(['2000-01-01 00:00:00', '2000-01-01 01:30:00',\n",
       "               '2000-01-01 03:00:00', '2000-01-01 04:30:00',\n",
       "               '2000-01-01 06:00:00', '2000-01-01 07:30:00',\n",
       "               '2000-01-01 09:00:00', '2000-01-01 10:30:00',\n",
       "               '2000-01-01 12:00:00', '2000-01-01 13:30:00'],\n",
       "              dtype='datetime64[ns]', freq='90T')"
      ]
     },
     "execution_count": 34,
     "metadata": {},
     "output_type": "execute_result"
    }
   ],
   "source": [
    "pd.date_range(\"2000-01-01\", periods=10, freq=\"1h30min\")"
   ]
  },
  {
   "cell_type": "markdown",
   "id": "c4d06936",
   "metadata": {},
   "source": [
    "### 월별 주차\n",
    "WOM으로 시작하는 월별 주차를 사용하면, 매월 셋째 주 금요일의 날짜를 얻을 수 있다."
   ]
  },
  {
   "cell_type": "code",
   "execution_count": 35,
   "id": "223f160d",
   "metadata": {},
   "outputs": [
    {
     "data": {
      "text/plain": [
       "[Timestamp('2012-01-20 00:00:00'),\n",
       " Timestamp('2012-02-17 00:00:00'),\n",
       " Timestamp('2012-03-16 00:00:00'),\n",
       " Timestamp('2012-04-20 00:00:00'),\n",
       " Timestamp('2012-05-18 00:00:00'),\n",
       " Timestamp('2012-06-15 00:00:00'),\n",
       " Timestamp('2012-07-20 00:00:00'),\n",
       " Timestamp('2012-08-17 00:00:00')]"
      ]
     },
     "execution_count": 35,
     "metadata": {},
     "output_type": "execute_result"
    }
   ],
   "source": [
    "monthly_dates = pd.date_range(\"2012-01-01\", \"2012-09-01\", freq=\"WOM-3FRI\")\n",
    "list(monthly_dates)"
   ]
  },
  {
   "cell_type": "markdown",
   "id": "6a765e45",
   "metadata": {},
   "source": [
    "## 11.3.3 데이터 시프트"
   ]
  },
  {
   "cell_type": "markdown",
   "id": "aade6a70",
   "metadata": {},
   "source": [
    "시프트는 데이터를 시간 축에서 앞이나 뒤로 이동하는 것을 의미한다."
   ]
  },
  {
   "cell_type": "code",
   "execution_count": 36,
   "id": "af316542",
   "metadata": {},
   "outputs": [
    {
     "data": {
      "text/plain": [
       "2000-01-31   -0.454697\n",
       "2000-02-29   -0.859288\n",
       "2000-03-31    0.910128\n",
       "2000-04-30   -0.951493\n",
       "Freq: M, dtype: float64"
      ]
     },
     "execution_count": 36,
     "metadata": {},
     "output_type": "execute_result"
    },
    {
     "name": "stdout",
     "output_type": "stream",
     "text": [
      "# shift(2)\n"
     ]
    },
    {
     "data": {
      "text/plain": [
       "2000-01-31         NaN\n",
       "2000-02-29         NaN\n",
       "2000-03-31   -0.454697\n",
       "2000-04-30   -0.859288\n",
       "Freq: M, dtype: float64"
      ]
     },
     "execution_count": 36,
     "metadata": {},
     "output_type": "execute_result"
    },
    {
     "name": "stdout",
     "output_type": "stream",
     "text": [
      "# shift(-2)\n"
     ]
    },
    {
     "data": {
      "text/plain": [
       "2000-01-31    0.910128\n",
       "2000-02-29   -0.951493\n",
       "2000-03-31         NaN\n",
       "2000-04-30         NaN\n",
       "Freq: M, dtype: float64"
      ]
     },
     "execution_count": 36,
     "metadata": {},
     "output_type": "execute_result"
    }
   ],
   "source": [
    "ts = pd.Series(np.random.standard_normal(4),\n",
    "               index=pd.date_range(\"2000-01-01\", periods=4, freq=\"M\"))\n",
    "ts\n",
    "\n",
    "print(\"# shift(2)\")\n",
    "ts.shift(2)\n",
    "print(\"# shift(-2)\")\n",
    "ts.shift(-2)"
   ]
  },
  {
   "cell_type": "markdown",
   "id": "449e67a0",
   "metadata": {},
   "source": [
    "빈도를 알고 있는 경우에는 shift에 빈도를 넘겨서 타임스탬프를 확장할 수 있다."
   ]
  },
  {
   "cell_type": "code",
   "execution_count": 37,
   "id": "5bfd59a8",
   "metadata": {},
   "outputs": [
    {
     "data": {
      "text/plain": [
       "2000-03-31   -0.454697\n",
       "2000-04-30   -0.859288\n",
       "2000-05-31    0.910128\n",
       "2000-06-30   -0.951493\n",
       "Freq: M, dtype: float64"
      ]
     },
     "execution_count": 37,
     "metadata": {},
     "output_type": "execute_result"
    }
   ],
   "source": [
    "ts.shift(2, freq=\"M\")"
   ]
  },
  {
   "cell_type": "markdown",
   "id": "5db78bb6",
   "metadata": {},
   "source": [
    "다른 빈도를 넘겨서 데이터를 밀거나 당길 수 있다."
   ]
  },
  {
   "cell_type": "code",
   "execution_count": 38,
   "id": "242be5e3",
   "metadata": {},
   "outputs": [
    {
     "data": {
      "text/plain": [
       "2000-02-03   -0.454697\n",
       "2000-03-03   -0.859288\n",
       "2000-04-03    0.910128\n",
       "2000-05-03   -0.951493\n",
       "dtype: float64"
      ]
     },
     "execution_count": 38,
     "metadata": {},
     "output_type": "execute_result"
    },
    {
     "data": {
      "text/plain": [
       "2000-01-31 01:30:00   -0.454697\n",
       "2000-02-29 01:30:00   -0.859288\n",
       "2000-03-31 01:30:00    0.910128\n",
       "2000-04-30 01:30:00   -0.951493\n",
       "dtype: float64"
      ]
     },
     "execution_count": 38,
     "metadata": {},
     "output_type": "execute_result"
    }
   ],
   "source": [
    "ts.shift(3, freq=\"D\")\n",
    "\n",
    "ts.shift(1, freq=\"90T\")    # T는 분을 의미"
   ]
  },
  {
   "cell_type": "markdown",
   "id": "e78d00ab",
   "metadata": {},
   "source": [
    "### 오프셋만큼 날짜 시프트하기"
   ]
  },
  {
   "cell_type": "markdown",
   "id": "c1a53f04",
   "metadata": {},
   "source": [
    "판다스의 날짜 오프셋은 datetime이나 Timestamp 객체에서도 사용할 수 있다."
   ]
  },
  {
   "cell_type": "code",
   "execution_count": 39,
   "id": "bf0ef6df",
   "metadata": {},
   "outputs": [
    {
     "data": {
      "text/plain": [
       "Timestamp('2011-11-20 00:00:00')"
      ]
     },
     "execution_count": 39,
     "metadata": {},
     "output_type": "execute_result"
    }
   ],
   "source": [
    "from pandas.tseries.offsets import Day, MonthEnd\n",
    "\n",
    "now = datetime(2011, 11, 17)\n",
    "now + 3 * Day()"
   ]
  },
  {
   "cell_type": "markdown",
   "id": "a7633a1a",
   "metadata": {},
   "source": [
    "MonthEnd 같은 앵커드 오프셋을 추가하면 빈도 규칙이 다음 날짜로 롤 포워드 된다."
   ]
  },
  {
   "cell_type": "code",
   "execution_count": 40,
   "id": "cfca7451",
   "metadata": {},
   "outputs": [
    {
     "data": {
      "text/plain": [
       "Timestamp('2011-11-30 00:00:00')"
      ]
     },
     "execution_count": 40,
     "metadata": {},
     "output_type": "execute_result"
    },
    {
     "data": {
      "text/plain": [
       "Timestamp('2011-12-31 00:00:00')"
      ]
     },
     "execution_count": 40,
     "metadata": {},
     "output_type": "execute_result"
    }
   ],
   "source": [
    "now + MonthEnd()\n",
    "\n",
    "now + MonthEnd(2)"
   ]
  },
  {
   "cell_type": "markdown",
   "id": "2b8677ce",
   "metadata": {},
   "source": []
  },
  {
   "cell_type": "code",
   "execution_count": 41,
   "id": "a12d326a",
   "metadata": {},
   "outputs": [
    {
     "data": {
      "text/plain": [
       "Timestamp('2011-11-30 00:00:00')"
      ]
     },
     "execution_count": 41,
     "metadata": {},
     "output_type": "execute_result"
    },
    {
     "data": {
      "text/plain": [
       "Timestamp('2011-10-31 00:00:00')"
      ]
     },
     "execution_count": 41,
     "metadata": {},
     "output_type": "execute_result"
    }
   ],
   "source": [
    "offset = MonthEnd()\n",
    "offset.rollforward(now)\n",
    "offset.rollback(now)"
   ]
  },
  {
   "cell_type": "code",
   "execution_count": 42,
   "id": "818edc02",
   "metadata": {},
   "outputs": [
    {
     "data": {
      "text/plain": [
       "2000-01-15   -0.297982\n",
       "2000-01-19    1.275198\n",
       "2000-01-23    0.506433\n",
       "2000-01-27   -0.539820\n",
       "2000-01-31    1.118092\n",
       "2000-02-04    1.898767\n",
       "2000-02-08   -0.872216\n",
       "2000-02-12    1.539038\n",
       "2000-02-16    0.313106\n",
       "2000-02-20    0.186451\n",
       "2000-02-24    1.347862\n",
       "2000-02-28    1.138473\n",
       "2000-03-03    0.278979\n",
       "2000-03-07   -0.846332\n",
       "2000-03-11   -1.813392\n",
       "2000-03-15    0.309582\n",
       "2000-03-19   -0.294441\n",
       "2000-03-23    0.894405\n",
       "2000-03-27    0.701738\n",
       "2000-03-31   -1.085604\n",
       "Freq: 4D, dtype: float64"
      ]
     },
     "execution_count": 42,
     "metadata": {},
     "output_type": "execute_result"
    },
    {
     "data": {
      "text/plain": [
       "2000-01-31    0.412384\n",
       "2000-02-29    0.793069\n",
       "2000-03-31   -0.231883\n",
       "dtype: float64"
      ]
     },
     "execution_count": 42,
     "metadata": {},
     "output_type": "execute_result"
    }
   ],
   "source": [
    "ts = pd.Series(np.random.standard_normal(20),\n",
    "               index=pd.date_range(\"2000-01-15\", periods=20, freq=\"4D\"))\n",
    "ts\n",
    "\n",
    "ts.groupby(MonthEnd().rollforward).mean()"
   ]
  },
  {
   "cell_type": "code",
   "execution_count": 43,
   "id": "e356bee5",
   "metadata": {},
   "outputs": [
    {
     "data": {
      "text/plain": [
       "2000-01-31    0.412384\n",
       "2000-02-29    0.793069\n",
       "2000-03-31   -0.231883\n",
       "Freq: M, dtype: float64"
      ]
     },
     "execution_count": 43,
     "metadata": {},
     "output_type": "execute_result"
    }
   ],
   "source": [
    "ts.resample(\"M\").mean()"
   ]
  },
  {
   "cell_type": "markdown",
   "id": "e5a0d8d3",
   "metadata": {},
   "source": [
    "# 11.4 시간대 다루기"
   ]
  },
  {
   "cell_type": "markdown",
   "id": "a49b375f",
   "metadata": {},
   "source": [
    "파이썬은 전 세계 시간대 정보를 모아둔 올슨 데이터베이스를 담고 있는 서드파티 라이브러리인 pytz에서 시간대 정보를 얻는다. (pip나 콘다로 설치 가능)"
   ]
  },
  {
   "cell_type": "code",
   "execution_count": 44,
   "id": "8fc1925b",
   "metadata": {},
   "outputs": [
    {
     "data": {
      "text/plain": [
       "['US/Eastern', 'US/Hawaii', 'US/Mountain', 'US/Pacific', 'UTC']"
      ]
     },
     "execution_count": 44,
     "metadata": {},
     "output_type": "execute_result"
    }
   ],
   "source": [
    "import pytz\n",
    "\n",
    "pytz.common_timezones[-5:]"
   ]
  },
  {
   "cell_type": "markdown",
   "id": "d22f4eaf",
   "metadata": {},
   "source": [
    "`pytz.timezone`을 사용해 pytz에서 시간대 객체를 얻을 수 있다.\n",
    "\n",
    "판다스 메서드에서는 시간대 이름이나 객체를 모두 사용할 수 있다."
   ]
  },
  {
   "cell_type": "code",
   "execution_count": 45,
   "id": "341d12ec",
   "metadata": {},
   "outputs": [
    {
     "data": {
      "text/plain": [
       "<DstTzInfo 'America/New_York' LMT-1 day, 19:04:00 STD>"
      ]
     },
     "execution_count": 45,
     "metadata": {},
     "output_type": "execute_result"
    },
    {
     "data": {
      "text/plain": [
       "<DstTzInfo 'Asia/Seoul' LMT+8:28:00 STD>"
      ]
     },
     "execution_count": 45,
     "metadata": {},
     "output_type": "execute_result"
    }
   ],
   "source": [
    "tz1 = pytz.timezone(\"America/New_York\")\n",
    "tz1\n",
    "\n",
    "tz2 = pytz.timezone(\"Asia/Seoul\")\n",
    "tz2"
   ]
  },
  {
   "cell_type": "markdown",
   "id": "04d39753",
   "metadata": {},
   "source": [
    "## 11.4.1 시간대 지역화와 변환"
   ]
  },
  {
   "cell_type": "code",
   "execution_count": 46,
   "id": "3c5ba87c",
   "metadata": {},
   "outputs": [
    {
     "data": {
      "text/plain": [
       "2012-03-09 09:30:00   -0.481783\n",
       "2012-03-10 09:30:00   -1.798057\n",
       "2012-03-11 09:30:00    0.143633\n",
       "2012-03-12 09:30:00   -1.210737\n",
       "2012-03-13 09:30:00   -1.426887\n",
       "2012-03-14 09:30:00   -0.378209\n",
       "Freq: D, dtype: float64"
      ]
     },
     "execution_count": 46,
     "metadata": {},
     "output_type": "execute_result"
    },
    {
     "name": "stdout",
     "output_type": "stream",
     "text": [
      "None\n"
     ]
    },
    {
     "data": {
      "text/plain": [
       "DatetimeIndex(['2012-03-09 09:30:00+00:00', '2012-03-10 09:30:00+00:00',\n",
       "               '2012-03-11 09:30:00+00:00', '2012-03-12 09:30:00+00:00',\n",
       "               '2012-03-13 09:30:00+00:00', '2012-03-14 09:30:00+00:00',\n",
       "               '2012-03-15 09:30:00+00:00', '2012-03-16 09:30:00+00:00',\n",
       "               '2012-03-17 09:30:00+00:00', '2012-03-18 09:30:00+00:00'],\n",
       "              dtype='datetime64[ns, UTC]', freq='D')"
      ]
     },
     "execution_count": 46,
     "metadata": {},
     "output_type": "execute_result"
    }
   ],
   "source": [
    "dates = pd.date_range(\"2012-03-09 09:30\", periods=6)\n",
    "ts = pd.Series(np.random.standard_normal(len(dates)), index=dates)\n",
    "ts\n",
    "\n",
    "# 색인의 tz 필드 None\n",
    "print(ts.index.tz)\n",
    "\n",
    "# 시간대를 지정해서 날짜 범위 생성\n",
    "pd.date_range(\"2012-03-09 09:30\", periods=10, tz=\"UTC\")"
   ]
  },
  {
   "cell_type": "markdown",
   "id": "7df86199",
   "metadata": {},
   "source": [
    "특정 시간대에 맞춰 재해석된 지역화 시간으로의 변환은 `tz_localize` 메서드로 처리한다."
   ]
  },
  {
   "cell_type": "code",
   "execution_count": 47,
   "id": "fca22372",
   "metadata": {},
   "outputs": [
    {
     "data": {
      "text/plain": [
       "2012-03-09 09:30:00   -0.481783\n",
       "2012-03-10 09:30:00   -1.798057\n",
       "2012-03-11 09:30:00    0.143633\n",
       "2012-03-12 09:30:00   -1.210737\n",
       "2012-03-13 09:30:00   -1.426887\n",
       "2012-03-14 09:30:00   -0.378209\n",
       "Freq: D, dtype: float64"
      ]
     },
     "execution_count": 47,
     "metadata": {},
     "output_type": "execute_result"
    },
    {
     "data": {
      "text/plain": [
       "2012-03-09 09:30:00+00:00   -0.481783\n",
       "2012-03-10 09:30:00+00:00   -1.798057\n",
       "2012-03-11 09:30:00+00:00    0.143633\n",
       "2012-03-12 09:30:00+00:00   -1.210737\n",
       "2012-03-13 09:30:00+00:00   -1.426887\n",
       "2012-03-14 09:30:00+00:00   -0.378209\n",
       "Freq: D, dtype: float64"
      ]
     },
     "execution_count": 47,
     "metadata": {},
     "output_type": "execute_result"
    },
    {
     "data": {
      "text/plain": [
       "DatetimeIndex(['2012-03-09 09:30:00+00:00', '2012-03-10 09:30:00+00:00',\n",
       "               '2012-03-11 09:30:00+00:00', '2012-03-12 09:30:00+00:00',\n",
       "               '2012-03-13 09:30:00+00:00', '2012-03-14 09:30:00+00:00'],\n",
       "              dtype='datetime64[ns, UTC]', freq='D')"
      ]
     },
     "execution_count": 47,
     "metadata": {},
     "output_type": "execute_result"
    }
   ],
   "source": [
    "ts\n",
    "\n",
    "ts_utc = ts.tz_localize(\"UTC\")\n",
    "ts_utc\n",
    "ts_utc.index"
   ]
  },
  {
   "cell_type": "markdown",
   "id": "be139e7a",
   "metadata": {},
   "source": [
    "시계열이 특정 시간대로 지역화되고 나면 `tz_convert`를 이용해서 다른 시간대로 변환이 가능하다."
   ]
  },
  {
   "cell_type": "code",
   "execution_count": 48,
   "id": "aa30e30d",
   "metadata": {},
   "outputs": [
    {
     "data": {
      "text/plain": [
       "2012-03-09 04:30:00-05:00   -0.481783\n",
       "2012-03-10 04:30:00-05:00   -1.798057\n",
       "2012-03-11 05:30:00-04:00    0.143633\n",
       "2012-03-12 05:30:00-04:00   -1.210737\n",
       "2012-03-13 05:30:00-04:00   -1.426887\n",
       "2012-03-14 05:30:00-04:00   -0.378209\n",
       "Freq: D, dtype: float64"
      ]
     },
     "execution_count": 48,
     "metadata": {},
     "output_type": "execute_result"
    }
   ],
   "source": [
    "ts_utc.tz_convert(\"America/New_York\")"
   ]
  },
  {
   "cell_type": "markdown",
   "id": "679902f3",
   "metadata": {},
   "source": [
    "동부 표준시(ET)로 맞춘 다음 UTC 혹은 베를린 시간으로 변화할 수 있다."
   ]
  },
  {
   "cell_type": "code",
   "execution_count": 49,
   "id": "82be75ca",
   "metadata": {},
   "outputs": [
    {
     "data": {
      "text/plain": [
       "2012-03-09 14:30:00+00:00   -0.481783\n",
       "2012-03-10 14:30:00+00:00   -1.798057\n",
       "2012-03-11 13:30:00+00:00    0.143633\n",
       "2012-03-12 13:30:00+00:00   -1.210737\n",
       "2012-03-13 13:30:00+00:00   -1.426887\n",
       "2012-03-14 13:30:00+00:00   -0.378209\n",
       "dtype: float64"
      ]
     },
     "execution_count": 49,
     "metadata": {},
     "output_type": "execute_result"
    },
    {
     "data": {
      "text/plain": [
       "2012-03-09 15:30:00+01:00   -0.481783\n",
       "2012-03-10 15:30:00+01:00   -1.798057\n",
       "2012-03-11 14:30:00+01:00    0.143633\n",
       "2012-03-12 14:30:00+01:00   -1.210737\n",
       "2012-03-13 14:30:00+01:00   -1.426887\n",
       "2012-03-14 14:30:00+01:00   -0.378209\n",
       "dtype: float64"
      ]
     },
     "execution_count": 49,
     "metadata": {},
     "output_type": "execute_result"
    }
   ],
   "source": [
    "ts_eastern = ts.tz_localize(\"America/New_York\")\n",
    "ts_eastern.tz_convert(\"UTC\")\n",
    "ts_eastern.tz_convert(\"Europe/Berlin\")"
   ]
  },
  {
   "cell_type": "markdown",
   "id": "7cc9b76e",
   "metadata": {},
   "source": [
    "`tz_localize`와 `tz_convert`는 모두 DatetimeIndex의 인스턴스 메서드이다."
   ]
  },
  {
   "cell_type": "code",
   "execution_count": 50,
   "id": "2e8d867b",
   "metadata": {},
   "outputs": [
    {
     "data": {
      "text/plain": [
       "DatetimeIndex(['2012-03-09 09:30:00+08:00', '2012-03-10 09:30:00+08:00',\n",
       "               '2012-03-11 09:30:00+08:00', '2012-03-12 09:30:00+08:00',\n",
       "               '2012-03-13 09:30:00+08:00', '2012-03-14 09:30:00+08:00'],\n",
       "              dtype='datetime64[ns, Asia/Shanghai]', freq=None)"
      ]
     },
     "execution_count": 50,
     "metadata": {},
     "output_type": "execute_result"
    },
    {
     "data": {
      "text/plain": [
       "DatetimeIndex(['2012-03-09 09:30:00+09:00', '2012-03-10 09:30:00+09:00',\n",
       "               '2012-03-11 09:30:00+09:00', '2012-03-12 09:30:00+09:00',\n",
       "               '2012-03-13 09:30:00+09:00', '2012-03-14 09:30:00+09:00'],\n",
       "              dtype='datetime64[ns, Asia/Seoul]', freq=None)"
      ]
     },
     "execution_count": 50,
     "metadata": {},
     "output_type": "execute_result"
    }
   ],
   "source": [
    " ts.index.tz_localize(\"Asia/Shanghai\")\n",
    "    \n",
    "ts.index.tz_localize(\"Asia/Seoul\")"
   ]
  },
  {
   "cell_type": "markdown",
   "id": "51dbf1db",
   "metadata": {},
   "source": [
    "## 11.4.2 시간대를 고려해서 Timestamp 객체 다루기"
   ]
  },
  {
   "cell_type": "markdown",
   "id": "ed5ef058",
   "metadata": {},
   "source": [
    "시계열과 날짜 범위를 비슷하게 개별 Timestamp 객체도 시간대를 고려한 형태로 변환 가능하다."
   ]
  },
  {
   "cell_type": "code",
   "execution_count": 51,
   "id": "e99f7199",
   "metadata": {},
   "outputs": [
    {
     "data": {
      "text/plain": [
       "Timestamp('2011-03-11 23:00:00-0500', tz='America/New_York')"
      ]
     },
     "execution_count": 51,
     "metadata": {},
     "output_type": "execute_result"
    }
   ],
   "source": [
    "stamp = pd.Timestamp(\"2011-03-12 04:00\")\n",
    "stamp_utc = stamp.tz_localize(\"utc\")\n",
    "\n",
    "stamp_utc.tz_convert(\"America/New_York\")"
   ]
  },
  {
   "cell_type": "markdown",
   "id": "3512a3f3",
   "metadata": {},
   "source": [
    "Timestamp 객체를 생성할 때 시간대를 직접 넘길수 있다."
   ]
  },
  {
   "cell_type": "code",
   "execution_count": 52,
   "id": "052c98d3",
   "metadata": {},
   "outputs": [
    {
     "data": {
      "text/plain": [
       "Timestamp('2011-03-12 04:00:00+0300', tz='Europe/Moscow')"
      ]
     },
     "execution_count": 52,
     "metadata": {},
     "output_type": "execute_result"
    }
   ],
   "source": [
    "stamp_moscow = pd.Timestamp(\"2011-03-12 04:00\", tz=\"Europe/Moscow\")\n",
    "stamp_moscow"
   ]
  },
  {
   "cell_type": "markdown",
   "id": "0ba2777b",
   "metadata": {},
   "source": [
    "Timestamp 객체는 내부적으로 UTC 타임스탬프 값을 유닉스 시간(1970년 1월 1일)에서부터 현재까지의 나노초로 저장한다."
   ]
  },
  {
   "cell_type": "code",
   "execution_count": 53,
   "id": "df64eed6",
   "metadata": {},
   "outputs": [
    {
     "data": {
      "text/plain": [
       "1299902400000000000"
      ]
     },
     "execution_count": 53,
     "metadata": {},
     "output_type": "execute_result"
    },
    {
     "data": {
      "text/plain": [
       "1299902400000000000"
      ]
     },
     "execution_count": 53,
     "metadata": {},
     "output_type": "execute_result"
    }
   ],
   "source": [
    "stamp_utc.value\n",
    "\n",
    "stamp_utc.tz_convert(\"America/New_York\").value"
   ]
  },
  {
   "cell_type": "markdown",
   "id": "293983e5",
   "metadata": {},
   "source": [
    "판다스의 DateOffset 객체를 이용해서 시간 연산을 수행할 때는 가능하다면 DST를 고려하며 수행한다."
   ]
  },
  {
   "cell_type": "code",
   "execution_count": 54,
   "id": "5be2c94c",
   "metadata": {},
   "outputs": [
    {
     "data": {
      "text/plain": [
       "Timestamp('2012-03-11 01:30:00-0500', tz='US/Eastern')"
      ]
     },
     "execution_count": 54,
     "metadata": {},
     "output_type": "execute_result"
    },
    {
     "data": {
      "text/plain": [
       "Timestamp('2012-03-11 03:30:00-0400', tz='US/Eastern')"
      ]
     },
     "execution_count": 54,
     "metadata": {},
     "output_type": "execute_result"
    }
   ],
   "source": [
    "# DST 시행 30분 전 Timestamp\n",
    "stamp = pd.Timestamp(\"2012-03-11 01:30\", tz=\"US/Eastern\")\n",
    "stamp\n",
    "stamp + Hour()"
   ]
  },
  {
   "cell_type": "code",
   "execution_count": 55,
   "id": "b4916544",
   "metadata": {},
   "outputs": [
    {
     "data": {
      "text/plain": [
       "Timestamp('2012-11-04 00:30:00-0400', tz='US/Eastern')"
      ]
     },
     "execution_count": 55,
     "metadata": {},
     "output_type": "execute_result"
    },
    {
     "data": {
      "text/plain": [
       "Timestamp('2012-11-04 01:30:00-0500', tz='US/Eastern')"
      ]
     },
     "execution_count": 55,
     "metadata": {},
     "output_type": "execute_result"
    }
   ],
   "source": [
    "# DST 시행 90분 전 Timestamp\n",
    "stamp = pd.Timestamp(\"2012-11-04 00:30\", tz=\"US/Eastern\")\n",
    "stamp\n",
    "stamp + 2 * Hour()"
   ]
  },
  {
   "cell_type": "markdown",
   "id": "ce736cd9",
   "metadata": {},
   "source": [
    "## 11.4.3 서로 다른 시간대 간의 연산"
   ]
  },
  {
   "cell_type": "markdown",
   "id": "d832e982",
   "metadata": {},
   "source": [
    "서로 다른 시간대를 갖는 두 시계열이 하나로 합쳐지면 결과는 UTC가 된다."
   ]
  },
  {
   "cell_type": "code",
   "execution_count": 56,
   "id": "d341defc",
   "metadata": {},
   "outputs": [
    {
     "data": {
      "text/plain": [
       "2012-03-07 09:30:00   -0.198110\n",
       "2012-03-08 09:30:00   -0.631259\n",
       "2012-03-09 09:30:00   -0.627765\n",
       "2012-03-12 09:30:00    0.482451\n",
       "2012-03-13 09:30:00    1.347272\n",
       "2012-03-14 09:30:00   -0.443865\n",
       "2012-03-15 09:30:00    0.401190\n",
       "2012-03-16 09:30:00    0.192304\n",
       "2012-03-19 09:30:00   -0.934707\n",
       "2012-03-20 09:30:00    0.247767\n",
       "Freq: B, dtype: float64"
      ]
     },
     "execution_count": 56,
     "metadata": {},
     "output_type": "execute_result"
    },
    {
     "data": {
      "text/plain": [
       "DatetimeIndex(['2012-03-07 09:30:00+00:00', '2012-03-08 09:30:00+00:00',\n",
       "               '2012-03-09 09:30:00+00:00', '2012-03-12 09:30:00+00:00',\n",
       "               '2012-03-13 09:30:00+00:00', '2012-03-14 09:30:00+00:00',\n",
       "               '2012-03-15 09:30:00+00:00'],\n",
       "              dtype='datetime64[ns, UTC]', freq=None)"
      ]
     },
     "execution_count": 56,
     "metadata": {},
     "output_type": "execute_result"
    }
   ],
   "source": [
    "dates = pd.date_range(\"2012-03-07 09:30\", periods=10, freq=\"B\")\n",
    "ts = pd.Series(np.random.standard_normal(len(dates)), index=dates)\n",
    "ts\n",
    "\n",
    "ts1 = ts[:7].tz_localize(\"Europe/London\")\n",
    "ts2 = ts1[2:].tz_convert(\"Europe/Moscow\")\n",
    "\n",
    "result = ts1 + ts2\n",
    "result.index"
   ]
  },
  {
   "cell_type": "markdown",
   "id": "99d26b0f",
   "metadata": {},
   "source": [
    "# 11.5 기간과 기간 연산"
   ]
  },
  {
   "cell_type": "markdown",
   "id": "85fd68f3",
   "metadata": {},
   "source": [
    "며칠, 몇 개월, 몇 분기, 몇 해 같은 기간은 `pandas.Period` 클래스로 표현할 수 있고, 클래스를 생성할 때 문자열이나 정수, 시계열 빈도가 필요하다."
   ]
  },
  {
   "cell_type": "code",
   "execution_count": 57,
   "id": "f59f2cd4",
   "metadata": {},
   "outputs": [
    {
     "data": {
      "text/plain": [
       "Period('2011', 'A-DEC')"
      ]
     },
     "execution_count": 57,
     "metadata": {},
     "output_type": "execute_result"
    }
   ],
   "source": [
    "# 2011년 1월 1일부터 같ㅇ느 해 12월 31일까지의 기간\n",
    "p = pd.Period(\"2011\", freq=\"A-DEC\")\n",
    "p"
   ]
  },
  {
   "cell_type": "markdown",
   "id": "5087a884",
   "metadata": {},
   "source": [
    "정수를 더하거나 빼는 방식으로 정해진 빈도에 따라 기간을 이동할 수 있다."
   ]
  },
  {
   "cell_type": "code",
   "execution_count": 58,
   "id": "5d9e744e",
   "metadata": {},
   "outputs": [
    {
     "data": {
      "text/plain": [
       "Period('2016', 'A-DEC')"
      ]
     },
     "execution_count": 58,
     "metadata": {},
     "output_type": "execute_result"
    },
    {
     "data": {
      "text/plain": [
       "Period('2009', 'A-DEC')"
      ]
     },
     "execution_count": 58,
     "metadata": {},
     "output_type": "execute_result"
    }
   ],
   "source": [
    "p + 5\n",
    "p - 2"
   ]
  },
  {
   "cell_type": "markdown",
   "id": "e7bf98d5",
   "metadata": {},
   "source": [
    "두 기간의 빈도가 동일하면 두 기간의 차는 둘 사이의 간격이 된다."
   ]
  },
  {
   "cell_type": "code",
   "execution_count": 59,
   "id": "ac7cb640",
   "metadata": {},
   "outputs": [
    {
     "data": {
      "text/plain": [
       "<3 * YearEnds: month=12>"
      ]
     },
     "execution_count": 59,
     "metadata": {},
     "output_type": "execute_result"
    }
   ],
   "source": [
    "pd.Period(\"2014\",freq=\"A-DEC\") - p"
   ]
  },
  {
   "cell_type": "markdown",
   "id": "84946d4f",
   "metadata": {},
   "source": [
    "일반적인 기간 범위는 `period_range` 함수로 생성한다."
   ]
  },
  {
   "cell_type": "code",
   "execution_count": 60,
   "id": "e2cecd81",
   "metadata": {},
   "outputs": [
    {
     "data": {
      "text/plain": [
       "PeriodIndex(['2000-01', '2000-02', '2000-03', '2000-04', '2000-05', '2000-06'], dtype='period[M]')"
      ]
     },
     "execution_count": 60,
     "metadata": {},
     "output_type": "execute_result"
    }
   ],
   "source": [
    "periods = pd.period_range(\"2000-01-01\", \"2000-06-30\", freq=\"M\")\n",
    "periods"
   ]
  },
  {
   "cell_type": "markdown",
   "id": "64390c09",
   "metadata": {},
   "source": [
    "PeriodIndex 클래스는 순차적인 기간을 저장하며 몸든 판다스 자료구조의 축 색인처럼 사용된다,"
   ]
  },
  {
   "cell_type": "code",
   "execution_count": 61,
   "id": "f0f1e870",
   "metadata": {},
   "outputs": [
    {
     "data": {
      "text/plain": [
       "2000-01   -0.694151\n",
       "2000-02   -0.066460\n",
       "2000-03   -1.216752\n",
       "2000-04   -1.685330\n",
       "2000-05    0.576789\n",
       "2000-06    0.288460\n",
       "Freq: M, dtype: float64"
      ]
     },
     "execution_count": 61,
     "metadata": {},
     "output_type": "execute_result"
    }
   ],
   "source": [
    "pd.Series(np.random.standard_normal(6), index=periods)"
   ]
  },
  {
   "cell_type": "markdown",
   "id": "c39bb772",
   "metadata": {},
   "source": [
    "문자열 배열을 이용해서 PeriodIndex 클래스를 생성할 수도 있다."
   ]
  },
  {
   "cell_type": "code",
   "execution_count": 62,
   "id": "619f2038",
   "metadata": {},
   "outputs": [
    {
     "data": {
      "text/plain": [
       "PeriodIndex(['2001Q3', '2002Q2', '2003Q1'], dtype='period[Q-DEC]')"
      ]
     },
     "execution_count": 62,
     "metadata": {},
     "output_type": "execute_result"
    }
   ],
   "source": [
    "values = [\"2001Q3\", \"2002Q2\", \"2003Q1\"]\n",
    "index = pd.PeriodIndex(values, freq=\"Q-DEC\")\n",
    "index"
   ]
  },
  {
   "cell_type": "markdown",
   "id": "f063fd06",
   "metadata": {},
   "source": [
    "## 11.5.1 Period의 빈도 변환"
   ]
  },
  {
   "cell_type": "markdown",
   "id": "7e258a78",
   "metadata": {},
   "source": [
    "Period와 PeriodIndex 객체는 asfreq 메서드를 사용해 다른 빈도로 변환할 수 있다."
   ]
  },
  {
   "cell_type": "code",
   "execution_count": 63,
   "id": "8060c579",
   "metadata": {},
   "outputs": [
    {
     "data": {
      "text/plain": [
       "Period('2011', 'A-DEC')"
      ]
     },
     "execution_count": 63,
     "metadata": {},
     "output_type": "execute_result"
    },
    {
     "data": {
      "text/plain": [
       "Period('2011-01', 'M')"
      ]
     },
     "execution_count": 63,
     "metadata": {},
     "output_type": "execute_result"
    },
    {
     "data": {
      "text/plain": [
       "Period('2011-12', 'M')"
      ]
     },
     "execution_count": 63,
     "metadata": {},
     "output_type": "execute_result"
    },
    {
     "data": {
      "text/plain": [
       "Period('2011-12', 'M')"
      ]
     },
     "execution_count": 63,
     "metadata": {},
     "output_type": "execute_result"
    }
   ],
   "source": [
    "p = pd.Period(\"2011\", freq=\"A-DEC\")\n",
    "p\n",
    "\n",
    "p.asfreq(\"M\", how=\"start\")\n",
    "p.asfreq(\"M\", how=\"end\")\n",
    "p.asfreq(\"M\")"
   ]
  },
  {
   "cell_type": "code",
   "execution_count": 64,
   "id": "d147350d",
   "metadata": {},
   "outputs": [
    {
     "data": {
      "text/plain": [
       "Period('2011', 'A-JUN')"
      ]
     },
     "execution_count": 64,
     "metadata": {},
     "output_type": "execute_result"
    },
    {
     "data": {
      "text/plain": [
       "Period('2010-07', 'M')"
      ]
     },
     "execution_count": 64,
     "metadata": {},
     "output_type": "execute_result"
    },
    {
     "data": {
      "text/plain": [
       "Period('2011-06', 'M')"
      ]
     },
     "execution_count": 64,
     "metadata": {},
     "output_type": "execute_result"
    }
   ],
   "source": [
    "p = pd.Period(\"2011\", freq=\"A-JUN\")\n",
    "p\n",
    "\n",
    "p.asfreq(\"M\", how=\"start\")\n",
    "p.asfreq(\"M\", how=\"end\")"
   ]
  },
  {
   "cell_type": "markdown",
   "id": "857663ef",
   "metadata": {},
   "source": [
    "빈도가 상위 단계에서 하위 단계로 변환되는 경우 판다스는 상위 기간이 어디에 속했는지에 따라 하위 기간을 결정한다."
   ]
  },
  {
   "cell_type": "code",
   "execution_count": 65,
   "id": "444e55c6",
   "metadata": {},
   "outputs": [
    {
     "data": {
      "text/plain": [
       "Period('2012', 'A-JUN')"
      ]
     },
     "execution_count": 65,
     "metadata": {},
     "output_type": "execute_result"
    }
   ],
   "source": [
    "p = pd.Period(\"Aug-2011\", \"M\")\n",
    "p.asfreq(\"A-JUN\")"
   ]
  },
  {
   "cell_type": "markdown",
   "id": "9a84e8e2",
   "metadata": {},
   "source": [
    "PeropdIndex 객체나 TimeSeries는 지금가지 살펴본 내용과 같은 방식으로 변환할 수 있다."
   ]
  },
  {
   "cell_type": "code",
   "execution_count": 66,
   "id": "18bf22e8",
   "metadata": {},
   "outputs": [
    {
     "data": {
      "text/plain": [
       "2006    0.564161\n",
       "2007    1.198828\n",
       "2008   -1.799483\n",
       "2009    0.792656\n",
       "Freq: A-DEC, dtype: float64"
      ]
     },
     "execution_count": 66,
     "metadata": {},
     "output_type": "execute_result"
    },
    {
     "data": {
      "text/plain": [
       "2006-01    0.564161\n",
       "2007-01    1.198828\n",
       "2008-01   -1.799483\n",
       "2009-01    0.792656\n",
       "Freq: M, dtype: float64"
      ]
     },
     "execution_count": 66,
     "metadata": {},
     "output_type": "execute_result"
    }
   ],
   "source": [
    "periods = pd.period_range(\"2006\", \"2009\", freq=\"A-DEC\")\n",
    "ts = pd.Series(np.random.standard_normal(len(periods)), index=periods)\n",
    "ts\n",
    "\n",
    "ts.asfreq(\"M\", how=\"start\")"
   ]
  },
  {
   "cell_type": "markdown",
   "id": "32586723",
   "metadata": {},
   "source": [
    "매년 마지막 영업일을 사용하고 싶으면 \"B\"를 사용해 해당 기간의 종료 지점을 정할 수 있다."
   ]
  },
  {
   "cell_type": "code",
   "execution_count": 67,
   "id": "d0480d65",
   "metadata": {},
   "outputs": [
    {
     "data": {
      "text/plain": [
       "2006-12-29    0.564161\n",
       "2007-12-31    1.198828\n",
       "2008-12-31   -1.799483\n",
       "2009-12-31    0.792656\n",
       "Freq: B, dtype: float64"
      ]
     },
     "execution_count": 67,
     "metadata": {},
     "output_type": "execute_result"
    }
   ],
   "source": [
    "ts.asfreq(\"B\", how=\"end\")"
   ]
  },
  {
   "cell_type": "markdown",
   "id": "edc7fec6",
   "metadata": {},
   "source": [
    "## 11.5.2 분기 빈도"
   ]
  },
  {
   "cell_type": "markdown",
   "id": "b0dd6c82",
   "metadata": {},
   "source": [
    "분기 데이터는 재정, 금융 및 다른 분야에서 표준으로 사용된다."
   ]
  },
  {
   "cell_type": "code",
   "execution_count": 68,
   "id": "133e4d06",
   "metadata": {},
   "outputs": [
    {
     "data": {
      "text/plain": [
       "Period('2012Q4', 'Q-JAN')"
      ]
     },
     "execution_count": 68,
     "metadata": {},
     "output_type": "execute_result"
    }
   ],
   "source": [
    "p = pd.Period(\"2012Q4\", freq=\"Q-JAN\")\n",
    "p"
   ]
  },
  {
   "cell_type": "markdown",
   "id": "6669942d",
   "metadata": {},
   "source": [
    "회계연도 마감이 1월이라면 2014Q4는 2011년 11월부터 2012년 1월까지가 되고 일간 빈도로 검사할 수 있다."
   ]
  },
  {
   "cell_type": "code",
   "execution_count": 69,
   "id": "588a0731",
   "metadata": {},
   "outputs": [
    {
     "data": {
      "text/plain": [
       "Period('2011-11-01', 'D')"
      ]
     },
     "execution_count": 69,
     "metadata": {},
     "output_type": "execute_result"
    },
    {
     "data": {
      "text/plain": [
       "Period('2012-01-31', 'D')"
      ]
     },
     "execution_count": 69,
     "metadata": {},
     "output_type": "execute_result"
    }
   ],
   "source": [
    "p.asfreq(\"D\", how=\"start\")\n",
    "p.asfreq(\"D\", how=\"end\")"
   ]
  },
  {
   "cell_type": "markdown",
   "id": "bb9a1ba6",
   "metadata": {},
   "source": []
  },
  {
   "cell_type": "code",
   "execution_count": 70,
   "id": "3a4dbe00",
   "metadata": {},
   "outputs": [
    {
     "data": {
      "text/plain": [
       "Period('2012-01-30 16:00', 'T')"
      ]
     },
     "execution_count": 70,
     "metadata": {},
     "output_type": "execute_result"
    },
    {
     "data": {
      "text/plain": [
       "Timestamp('2012-01-30 16:00:00')"
      ]
     },
     "execution_count": 70,
     "metadata": {},
     "output_type": "execute_result"
    }
   ],
   "source": [
    "# 분기 영업 마가일의 오후 4시를 가리키는 타임스탬프\n",
    "p4pm = (p.asfreq(\"B\", how=\"end\") -1).asfreq(\"T\", how=\"start\") + 16 * 60\n",
    "p4pm\n",
    "p4pm.to_timestamp()"
   ]
  },
  {
   "cell_type": "markdown",
   "id": "26985812",
   "metadata": {},
   "source": [
    "`to_timestamp` 메서드는 기본적으로 해당 기간의 시작 Timestamp를 반환한다.\n",
    "\n",
    "`pandas.period_range`를 사용해서 분기 범위를 생성할 수 있다."
   ]
  },
  {
   "cell_type": "code",
   "execution_count": 71,
   "id": "693bd9f4",
   "metadata": {},
   "outputs": [
    {
     "data": {
      "text/plain": [
       "2011Q3    0\n",
       "2011Q4    1\n",
       "2012Q1    2\n",
       "2012Q2    3\n",
       "2012Q3    4\n",
       "2012Q4    5\n",
       "Freq: Q-JAN, dtype: int32"
      ]
     },
     "execution_count": 71,
     "metadata": {},
     "output_type": "execute_result"
    },
    {
     "data": {
      "text/plain": [
       "2010-10-28 16:00:00    0\n",
       "2011-01-28 16:00:00    1\n",
       "2011-04-28 16:00:00    2\n",
       "2011-07-28 16:00:00    3\n",
       "2011-10-28 16:00:00    4\n",
       "2012-01-30 16:00:00    5\n",
       "dtype: int32"
      ]
     },
     "execution_count": 71,
     "metadata": {},
     "output_type": "execute_result"
    }
   ],
   "source": [
    "periods = pd.period_range(\"2011Q3\", \"2012Q4\", freq=\"Q-JAN\")\n",
    "ts = pd.Series(np.arange(len(periods)), index=periods)\n",
    "ts\n",
    "\n",
    "new_periods = (periods.asfreq(\"B\", \"end\") -1).asfreq(\"H\", \"start\") + 16\n",
    "ts.index = new_periods.to_timestamp()\n",
    "ts"
   ]
  },
  {
   "cell_type": "markdown",
   "id": "3b50c596",
   "metadata": {},
   "source": [
    "## 11.5.3  타임스탬프와 기간 서로 변환하기"
   ]
  },
  {
   "cell_type": "markdown",
   "id": "3260bae2",
   "metadata": {},
   "source": [
    "타임스탬프로 색인된 Series와 DataFrame 객체는 `to_period` 메서드를 사용해서 로 변환 가능하다."
   ]
  },
  {
   "cell_type": "code",
   "execution_count": 76,
   "id": "26242c58",
   "metadata": {},
   "outputs": [
    {
     "data": {
      "text/plain": [
       "2000-01-31    0.510954\n",
       "2000-02-29    1.448059\n",
       "2000-03-31   -1.800801\n",
       "Freq: M, dtype: float64"
      ]
     },
     "execution_count": 76,
     "metadata": {},
     "output_type": "execute_result"
    },
    {
     "data": {
      "text/plain": [
       "2000-01    0.510954\n",
       "2000-02    1.448059\n",
       "2000-03   -1.800801\n",
       "Freq: M, dtype: float64"
      ]
     },
     "execution_count": 76,
     "metadata": {},
     "output_type": "execute_result"
    }
   ],
   "source": [
    "dates = pd.date_range(\"2000-01-01\", periods=3, freq=\"M\")\n",
    "ts = pd.Series(np.random.standard_normal(len(dates)), index=dates)\n",
    "ts\n",
    "\n",
    "pts = ts.to_period()\n",
    "pts"
   ]
  },
  {
   "cell_type": "markdown",
   "id": "86f1af36",
   "metadata": {},
   "source": [
    "새로운 PeriodIndex의 빈도는 기본적으로 타임스탬프 값을 통해 추론되지만 지원되는 빈도를 직접 지정할 수도 있다."
   ]
  },
  {
   "cell_type": "code",
   "execution_count": 77,
   "id": "ade45506",
   "metadata": {},
   "outputs": [
    {
     "data": {
      "text/plain": [
       "2000-01-29    0.550994\n",
       "2000-01-30    0.813628\n",
       "2000-01-31   -0.295235\n",
       "2000-02-01   -1.220056\n",
       "2000-02-02   -1.877206\n",
       "2000-02-03   -1.114988\n",
       "Freq: D, dtype: float64"
      ]
     },
     "execution_count": 77,
     "metadata": {},
     "output_type": "execute_result"
    },
    {
     "data": {
      "text/plain": [
       "2000-01    0.550994\n",
       "2000-01    0.813628\n",
       "2000-01   -0.295235\n",
       "2000-02   -1.220056\n",
       "2000-02   -1.877206\n",
       "2000-02   -1.114988\n",
       "Freq: M, dtype: float64"
      ]
     },
     "execution_count": 77,
     "metadata": {},
     "output_type": "execute_result"
    }
   ],
   "source": [
    "dates = pd.date_range(\"2000-01-29\", periods=6)\n",
    "ts2 = pd.Series(np.random.standard_normal(len(dates)), index=dates)\n",
    "ts2\n",
    "\n",
    "ts2.to_period(\"M\")"
   ]
  },
  {
   "cell_type": "markdown",
   "id": "23c090ac",
   "metadata": {},
   "source": [
    "기간은 타임스탬프로 변환하려면 DatetimeIndex를 반환하는 `to_timestamp` 메서드를 사용한다."
   ]
  },
  {
   "cell_type": "code",
   "execution_count": 75,
   "id": "1266eda3",
   "metadata": {},
   "outputs": [
    {
     "data": {
      "text/plain": [
       "2000-01-29   -0.860032\n",
       "2000-01-30   -1.721259\n",
       "2000-01-31   -0.744572\n",
       "2000-02-01    0.399673\n",
       "2000-02-02    0.452113\n",
       "2000-02-03   -0.516228\n",
       "Freq: D, dtype: float64"
      ]
     },
     "execution_count": 75,
     "metadata": {},
     "output_type": "execute_result"
    },
    {
     "data": {
      "text/plain": [
       "2000-01-29 23:59:59.999999999   -0.860032\n",
       "2000-01-30 23:59:59.999999999   -1.721259\n",
       "2000-01-31 23:59:59.999999999   -0.744572\n",
       "2000-02-01 23:59:59.999999999    0.399673\n",
       "2000-02-02 23:59:59.999999999    0.452113\n",
       "2000-02-03 23:59:59.999999999   -0.516228\n",
       "Freq: D, dtype: float64"
      ]
     },
     "execution_count": 75,
     "metadata": {},
     "output_type": "execute_result"
    }
   ],
   "source": [
    "pts = ts2.to_period()\n",
    "pts\n",
    "\n",
    "pts.to_timestamp(how=\"end\")"
   ]
  },
  {
   "cell_type": "markdown",
   "id": "9639f768",
   "metadata": {},
   "source": [
    "## 11.5.4 배열로 PeriodIndex 생성하기"
   ]
  },
  {
   "cell_type": "markdown",
   "id": "4ac3f086",
   "metadata": {},
   "source": [
    "고정된 빈도를 갖는 데이터셋은 종종 여러 열에 걸쳐 기간에 대한 정보를 함께 저장하기도 한다."
   ]
  },
  {
   "cell_type": "code",
   "execution_count": 86,
   "id": "4d58106b",
   "metadata": {},
   "outputs": [
    {
     "data": {
      "text/html": [
       "<div>\n",
       "<style scoped>\n",
       "    .dataframe tbody tr th:only-of-type {\n",
       "        vertical-align: middle;\n",
       "    }\n",
       "\n",
       "    .dataframe tbody tr th {\n",
       "        vertical-align: top;\n",
       "    }\n",
       "\n",
       "    .dataframe thead th {\n",
       "        text-align: right;\n",
       "    }\n",
       "</style>\n",
       "<table border=\"1\" class=\"dataframe\">\n",
       "  <thead>\n",
       "    <tr style=\"text-align: right;\">\n",
       "      <th></th>\n",
       "      <th>year</th>\n",
       "      <th>quarter</th>\n",
       "      <th>realgdp</th>\n",
       "      <th>realcons</th>\n",
       "      <th>realinv</th>\n",
       "      <th>realgovt</th>\n",
       "      <th>realdpi</th>\n",
       "      <th>cpi</th>\n",
       "      <th>m1</th>\n",
       "      <th>tbilrate</th>\n",
       "      <th>unemp</th>\n",
       "      <th>pop</th>\n",
       "      <th>infl</th>\n",
       "      <th>realint</th>\n",
       "    </tr>\n",
       "  </thead>\n",
       "  <tbody>\n",
       "    <tr>\n",
       "      <th>0</th>\n",
       "      <td>1959</td>\n",
       "      <td>1</td>\n",
       "      <td>2710.349</td>\n",
       "      <td>1707.4</td>\n",
       "      <td>286.898</td>\n",
       "      <td>470.045</td>\n",
       "      <td>1886.9</td>\n",
       "      <td>28.98</td>\n",
       "      <td>139.7</td>\n",
       "      <td>2.82</td>\n",
       "      <td>5.8</td>\n",
       "      <td>177.146</td>\n",
       "      <td>0.00</td>\n",
       "      <td>0.00</td>\n",
       "    </tr>\n",
       "    <tr>\n",
       "      <th>1</th>\n",
       "      <td>1959</td>\n",
       "      <td>2</td>\n",
       "      <td>2778.801</td>\n",
       "      <td>1733.7</td>\n",
       "      <td>310.859</td>\n",
       "      <td>481.301</td>\n",
       "      <td>1919.7</td>\n",
       "      <td>29.15</td>\n",
       "      <td>141.7</td>\n",
       "      <td>3.08</td>\n",
       "      <td>5.1</td>\n",
       "      <td>177.830</td>\n",
       "      <td>2.34</td>\n",
       "      <td>0.74</td>\n",
       "    </tr>\n",
       "    <tr>\n",
       "      <th>2</th>\n",
       "      <td>1959</td>\n",
       "      <td>3</td>\n",
       "      <td>2775.488</td>\n",
       "      <td>1751.8</td>\n",
       "      <td>289.226</td>\n",
       "      <td>491.260</td>\n",
       "      <td>1916.4</td>\n",
       "      <td>29.35</td>\n",
       "      <td>140.5</td>\n",
       "      <td>3.82</td>\n",
       "      <td>5.3</td>\n",
       "      <td>178.657</td>\n",
       "      <td>2.74</td>\n",
       "      <td>1.09</td>\n",
       "    </tr>\n",
       "    <tr>\n",
       "      <th>3</th>\n",
       "      <td>1959</td>\n",
       "      <td>4</td>\n",
       "      <td>2785.204</td>\n",
       "      <td>1753.7</td>\n",
       "      <td>299.356</td>\n",
       "      <td>484.052</td>\n",
       "      <td>1931.3</td>\n",
       "      <td>29.37</td>\n",
       "      <td>140.0</td>\n",
       "      <td>4.33</td>\n",
       "      <td>5.6</td>\n",
       "      <td>179.386</td>\n",
       "      <td>0.27</td>\n",
       "      <td>4.06</td>\n",
       "    </tr>\n",
       "    <tr>\n",
       "      <th>4</th>\n",
       "      <td>1960</td>\n",
       "      <td>1</td>\n",
       "      <td>2847.699</td>\n",
       "      <td>1770.5</td>\n",
       "      <td>331.722</td>\n",
       "      <td>462.199</td>\n",
       "      <td>1955.5</td>\n",
       "      <td>29.54</td>\n",
       "      <td>139.6</td>\n",
       "      <td>3.50</td>\n",
       "      <td>5.2</td>\n",
       "      <td>180.007</td>\n",
       "      <td>2.31</td>\n",
       "      <td>1.19</td>\n",
       "    </tr>\n",
       "  </tbody>\n",
       "</table>\n",
       "</div>"
      ],
      "text/plain": [
       "   year  quarter   realgdp  realcons  realinv  realgovt  realdpi    cpi  \\\n",
       "0  1959        1  2710.349    1707.4  286.898   470.045   1886.9  28.98   \n",
       "1  1959        2  2778.801    1733.7  310.859   481.301   1919.7  29.15   \n",
       "2  1959        3  2775.488    1751.8  289.226   491.260   1916.4  29.35   \n",
       "3  1959        4  2785.204    1753.7  299.356   484.052   1931.3  29.37   \n",
       "4  1960        1  2847.699    1770.5  331.722   462.199   1955.5  29.54   \n",
       "\n",
       "      m1  tbilrate  unemp      pop  infl  realint  \n",
       "0  139.7      2.82    5.8  177.146  0.00     0.00  \n",
       "1  141.7      3.08    5.1  177.830  2.34     0.74  \n",
       "2  140.5      3.82    5.3  178.657  2.74     1.09  \n",
       "3  140.0      4.33    5.6  179.386  0.27     4.06  \n",
       "4  139.6      3.50    5.2  180.007  2.31     1.19  "
      ]
     },
     "execution_count": 86,
     "metadata": {},
     "output_type": "execute_result"
    },
    {
     "data": {
      "text/plain": [
       "0      1959\n",
       "1      1959\n",
       "2      1959\n",
       "3      1959\n",
       "4      1960\n",
       "       ... \n",
       "198    2008\n",
       "199    2008\n",
       "200    2009\n",
       "201    2009\n",
       "202    2009\n",
       "Name: year, Length: 203, dtype: int64"
      ]
     },
     "execution_count": 86,
     "metadata": {},
     "output_type": "execute_result"
    },
    {
     "data": {
      "text/plain": [
       "0      1\n",
       "1      2\n",
       "2      3\n",
       "3      4\n",
       "4      1\n",
       "      ..\n",
       "198    3\n",
       "199    4\n",
       "200    1\n",
       "201    2\n",
       "202    3\n",
       "Name: quarter, Length: 203, dtype: int64"
      ]
     },
     "execution_count": 86,
     "metadata": {},
     "output_type": "execute_result"
    }
   ],
   "source": [
    "data = pd.read_csv('macrodata.csv')\n",
    "data.head()\n",
    "\n",
    "data[\"year\"]\n",
    "data[\"quarter\"]"
   ]
  },
  {
   "cell_type": "markdown",
   "id": "ad14281d",
   "metadata": {},
   "source": [
    "배열을 PeriodIndex에 빈돗값과 함께 전달하면 이를 잘 조합해서 DataFrame에서 사용할 수 있는 색인을 만들 수 있다."
   ]
  },
  {
   "cell_type": "code",
   "execution_count": 85,
   "id": "62cfd4d7",
   "metadata": {},
   "outputs": [
    {
     "data": {
      "text/plain": [
       "PeriodIndex(['1959Q1', '1959Q2', '1959Q3', '1959Q4', '1960Q1', '1960Q2',\n",
       "             '1960Q3', '1960Q4', '1961Q1', '1961Q2',\n",
       "             ...\n",
       "             '2007Q2', '2007Q3', '2007Q4', '2008Q1', '2008Q2', '2008Q3',\n",
       "             '2008Q4', '2009Q1', '2009Q2', '2009Q3'],\n",
       "            dtype='period[Q-DEC]', length=203)"
      ]
     },
     "execution_count": 85,
     "metadata": {},
     "output_type": "execute_result"
    },
    {
     "data": {
      "text/plain": [
       "1959Q1    0.00\n",
       "1959Q2    2.34\n",
       "1959Q3    2.74\n",
       "1959Q4    0.27\n",
       "1960Q1    2.31\n",
       "          ... \n",
       "2008Q3   -3.16\n",
       "2008Q4   -8.79\n",
       "2009Q1    0.94\n",
       "2009Q2    3.37\n",
       "2009Q3    3.56\n",
       "Freq: Q-DEC, Name: infl, Length: 203, dtype: float64"
      ]
     },
     "execution_count": 85,
     "metadata": {},
     "output_type": "execute_result"
    },
    {
     "data": {
      "text/html": [
       "<div>\n",
       "<style scoped>\n",
       "    .dataframe tbody tr th:only-of-type {\n",
       "        vertical-align: middle;\n",
       "    }\n",
       "\n",
       "    .dataframe tbody tr th {\n",
       "        vertical-align: top;\n",
       "    }\n",
       "\n",
       "    .dataframe thead th {\n",
       "        text-align: right;\n",
       "    }\n",
       "</style>\n",
       "<table border=\"1\" class=\"dataframe\">\n",
       "  <thead>\n",
       "    <tr style=\"text-align: right;\">\n",
       "      <th></th>\n",
       "      <th>year</th>\n",
       "      <th>quarter</th>\n",
       "      <th>realgdp</th>\n",
       "      <th>realcons</th>\n",
       "      <th>realinv</th>\n",
       "      <th>realgovt</th>\n",
       "      <th>realdpi</th>\n",
       "      <th>cpi</th>\n",
       "      <th>m1</th>\n",
       "      <th>tbilrate</th>\n",
       "      <th>unemp</th>\n",
       "      <th>pop</th>\n",
       "      <th>infl</th>\n",
       "      <th>realint</th>\n",
       "    </tr>\n",
       "  </thead>\n",
       "  <tbody>\n",
       "    <tr>\n",
       "      <th>1959Q1</th>\n",
       "      <td>1959</td>\n",
       "      <td>1</td>\n",
       "      <td>2710.349</td>\n",
       "      <td>1707.4</td>\n",
       "      <td>286.898</td>\n",
       "      <td>470.045</td>\n",
       "      <td>1886.9</td>\n",
       "      <td>28.98</td>\n",
       "      <td>139.7</td>\n",
       "      <td>2.82</td>\n",
       "      <td>5.8</td>\n",
       "      <td>177.146</td>\n",
       "      <td>0.00</td>\n",
       "      <td>0.00</td>\n",
       "    </tr>\n",
       "    <tr>\n",
       "      <th>1959Q2</th>\n",
       "      <td>1959</td>\n",
       "      <td>2</td>\n",
       "      <td>2778.801</td>\n",
       "      <td>1733.7</td>\n",
       "      <td>310.859</td>\n",
       "      <td>481.301</td>\n",
       "      <td>1919.7</td>\n",
       "      <td>29.15</td>\n",
       "      <td>141.7</td>\n",
       "      <td>3.08</td>\n",
       "      <td>5.1</td>\n",
       "      <td>177.830</td>\n",
       "      <td>2.34</td>\n",
       "      <td>0.74</td>\n",
       "    </tr>\n",
       "    <tr>\n",
       "      <th>1959Q3</th>\n",
       "      <td>1959</td>\n",
       "      <td>3</td>\n",
       "      <td>2775.488</td>\n",
       "      <td>1751.8</td>\n",
       "      <td>289.226</td>\n",
       "      <td>491.260</td>\n",
       "      <td>1916.4</td>\n",
       "      <td>29.35</td>\n",
       "      <td>140.5</td>\n",
       "      <td>3.82</td>\n",
       "      <td>5.3</td>\n",
       "      <td>178.657</td>\n",
       "      <td>2.74</td>\n",
       "      <td>1.09</td>\n",
       "    </tr>\n",
       "    <tr>\n",
       "      <th>1959Q4</th>\n",
       "      <td>1959</td>\n",
       "      <td>4</td>\n",
       "      <td>2785.204</td>\n",
       "      <td>1753.7</td>\n",
       "      <td>299.356</td>\n",
       "      <td>484.052</td>\n",
       "      <td>1931.3</td>\n",
       "      <td>29.37</td>\n",
       "      <td>140.0</td>\n",
       "      <td>4.33</td>\n",
       "      <td>5.6</td>\n",
       "      <td>179.386</td>\n",
       "      <td>0.27</td>\n",
       "      <td>4.06</td>\n",
       "    </tr>\n",
       "    <tr>\n",
       "      <th>1960Q1</th>\n",
       "      <td>1960</td>\n",
       "      <td>1</td>\n",
       "      <td>2847.699</td>\n",
       "      <td>1770.5</td>\n",
       "      <td>331.722</td>\n",
       "      <td>462.199</td>\n",
       "      <td>1955.5</td>\n",
       "      <td>29.54</td>\n",
       "      <td>139.6</td>\n",
       "      <td>3.50</td>\n",
       "      <td>5.2</td>\n",
       "      <td>180.007</td>\n",
       "      <td>2.31</td>\n",
       "      <td>1.19</td>\n",
       "    </tr>\n",
       "  </tbody>\n",
       "</table>\n",
       "</div>"
      ],
      "text/plain": [
       "        year  quarter   realgdp  realcons  realinv  realgovt  realdpi    cpi  \\\n",
       "1959Q1  1959        1  2710.349    1707.4  286.898   470.045   1886.9  28.98   \n",
       "1959Q2  1959        2  2778.801    1733.7  310.859   481.301   1919.7  29.15   \n",
       "1959Q3  1959        3  2775.488    1751.8  289.226   491.260   1916.4  29.35   \n",
       "1959Q4  1959        4  2785.204    1753.7  299.356   484.052   1931.3  29.37   \n",
       "1960Q1  1960        1  2847.699    1770.5  331.722   462.199   1955.5  29.54   \n",
       "\n",
       "           m1  tbilrate  unemp      pop  infl  realint  \n",
       "1959Q1  139.7      2.82    5.8  177.146  0.00     0.00  \n",
       "1959Q2  141.7      3.08    5.1  177.830  2.34     0.74  \n",
       "1959Q3  140.5      3.82    5.3  178.657  2.74     1.09  \n",
       "1959Q4  140.0      4.33    5.6  179.386  0.27     4.06  \n",
       "1960Q1  139.6      3.50    5.2  180.007  2.31     1.19  "
      ]
     },
     "execution_count": 85,
     "metadata": {},
     "output_type": "execute_result"
    }
   ],
   "source": [
    "index = pd.PeriodIndex(year=data[\"year\"], quarter=data[\"quarter\"], freq=\"Q-DEC\")\n",
    "index\n",
    "\n",
    "data.index = index\n",
    "data[\"infl\"]\n",
    "\n",
    "data.head()"
   ]
  },
  {
   "cell_type": "markdown",
   "id": "dcac2841",
   "metadata": {},
   "source": [
    "# 11.6 리샘플링과 빈도 변환"
   ]
  },
  {
   "cell_type": "markdown",
   "id": "79ba9a4d",
   "metadata": {},
   "source": [
    "리샘플링은 시계열의 빈도를 변환하는 과정을 말한다. (인덱스가 시간데이터일 때만 가능)\n",
    "\n",
    "높은 빈도의 데이터를 낮은 빈도로 집계하는 것을 다운샘플링, 그 반대 과정을 업샘플링이라고 부른다."
   ]
  },
  {
   "cell_type": "code",
   "execution_count": 88,
   "id": "f607d11d",
   "metadata": {},
   "outputs": [
    {
     "data": {
      "text/plain": [
       "DatetimeIndex(['2000-01-01', '2000-01-02', '2000-01-03', '2000-01-04',\n",
       "               '2000-01-05', '2000-01-06', '2000-01-07', '2000-01-08',\n",
       "               '2000-01-09', '2000-01-10'],\n",
       "              dtype='datetime64[ns]', freq='D')"
      ]
     },
     "execution_count": 88,
     "metadata": {},
     "output_type": "execute_result"
    },
    {
     "data": {
      "text/plain": [
       "2000-01-01   -0.319485\n",
       "2000-01-02   -0.071789\n",
       "2000-01-03   -0.160465\n",
       "2000-01-04    1.773788\n",
       "2000-01-05    0.440751\n",
       "                ...   \n",
       "2000-04-05    0.535150\n",
       "2000-04-06   -0.272012\n",
       "2000-04-07   -0.577612\n",
       "2000-04-08   -0.675316\n",
       "2000-04-09   -0.015860\n",
       "Freq: D, Length: 100, dtype: float64"
      ]
     },
     "execution_count": 88,
     "metadata": {},
     "output_type": "execute_result"
    },
    {
     "data": {
      "text/plain": [
       "2000-01-31   -0.068191\n",
       "2000-02-29   -0.062290\n",
       "2000-03-31   -0.112832\n",
       "2000-04-30    0.165692\n",
       "Freq: M, dtype: float64"
      ]
     },
     "execution_count": 88,
     "metadata": {},
     "output_type": "execute_result"
    },
    {
     "data": {
      "text/plain": [
       "2000-01   -0.068191\n",
       "2000-02   -0.062290\n",
       "2000-03   -0.112832\n",
       "2000-04    0.165692\n",
       "Freq: M, dtype: float64"
      ]
     },
     "execution_count": 88,
     "metadata": {},
     "output_type": "execute_result"
    }
   ],
   "source": [
    "dates = pd.date_range(\"2000-01-01\", periods=100)\n",
    "dates[:10]\n",
    "ts = pd.Series(np.random.standard_normal(len(dates)), index=dates)\n",
    "ts\n",
    "\n",
    "ts.resample(\"M\").mean()\n",
    "ts.resample(\"M\", kind=\"period\").mean()"
   ]
  },
  {
   "cell_type": "markdown",
   "id": "bc751dc7",
   "metadata": {},
   "source": [
    "resample은 유연한 고수준의 메서드로 매우 큰 시계열 데이터를 처리할 수 있다.\n",
    "### resample 메서드 인수\n",
    "- `rule`: 원하는 리샘플링 빈도를 지정하는 문자열,DateOffset, timedelta\n",
    "- `axis`: 리샘플링을 수행할 축 (기본값은 axis=\"index\")\n",
    "- `closed`: 다운샘플링 시 각 간격ㄱ의 어느 쪽을 포함할지 가르킴, right(기본값)와 left\n",
    "- `label`: 다운샘플링 시 집계된 결과의 레이블을 결정, right(기본값)와 left\n",
    "- `limit`: 보간법을 사용할 때 보간을 적용할 최대 기간\n",
    "- `kind`: 기간별 혹은 타임스탬프별로 집계할 것인지 구분, 기본값은 시계열 색인의 종류와 같음\n",
    "- `convention`: 기간을 리샘플링할 때 하위 빈도 기간에서 상위 빈도로 변환 시의 방식, start와 end(기본값)\n",
    "- `origin`: 리샘플링의 각 구간 가장자리를 결정하는 기준이 되는 타임스탬프, epoch, start, start_day, end, end_day 중 하나\n",
    "- `offset`: origin 추가될 timedelta 오프셋, 기본값은 None"
   ]
  },
  {
   "cell_type": "markdown",
   "id": "5e88a282",
   "metadata": {},
   "source": [
    "## 11.6.1 다운샘플링"
   ]
  },
  {
   "cell_type": "markdown",
   "id": "d4dc0891",
   "metadata": {},
   "source": [
    "다운샘플링은 시계열 데이터를 규칙적이고 낮은 빈도로 집계한다.\n",
    "\n",
    "집계할 데이터는 고정 빈도를 가질 필요가 없으며 잘라낸 시계열 조각의 크기를 원하는 빈도로 정의한다.\n",
    "\n",
    "다운샘플링할 때 고려사항\n",
    "- 각 간격의 양 끝 중에서 어느 쪽을 닫아둘지\n",
    "- 집계하려는 구간의 레이블을 간격의 시작으로 할지 끝으로 할지"
   ]
  },
  {
   "cell_type": "code",
   "execution_count": 89,
   "id": "b8ab5eb9",
   "metadata": {},
   "outputs": [
    {
     "data": {
      "text/plain": [
       "2000-01-01 00:00:00     0\n",
       "2000-01-01 00:01:00     1\n",
       "2000-01-01 00:02:00     2\n",
       "2000-01-01 00:03:00     3\n",
       "2000-01-01 00:04:00     4\n",
       "2000-01-01 00:05:00     5\n",
       "2000-01-01 00:06:00     6\n",
       "2000-01-01 00:07:00     7\n",
       "2000-01-01 00:08:00     8\n",
       "2000-01-01 00:09:00     9\n",
       "2000-01-01 00:10:00    10\n",
       "2000-01-01 00:11:00    11\n",
       "Freq: T, dtype: int32"
      ]
     },
     "execution_count": 89,
     "metadata": {},
     "output_type": "execute_result"
    }
   ],
   "source": [
    "dates = pd.date_range(\"2000-01-01\", periods=12, freq=\"T\")\n",
    "ts = pd.Series(np.arange(len(dates)), index=dates)\n",
    "ts"
   ]
  },
  {
   "cell_type": "code",
   "execution_count": 90,
   "id": "0ef805eb",
   "metadata": {},
   "outputs": [
    {
     "data": {
      "text/plain": [
       "2000-01-01 00:00:00    10\n",
       "2000-01-01 00:05:00    35\n",
       "2000-01-01 00:10:00    21\n",
       "Freq: 5T, dtype: int32"
      ]
     },
     "execution_count": 90,
     "metadata": {},
     "output_type": "execute_result"
    }
   ],
   "source": [
    "# 데이터를 5분 단위로 묶어서 각 그룹의 합을 집계\n",
    "ts.resample(\"5min\").sum()"
   ]
  },
  {
   "cell_type": "markdown",
   "id": "25373725",
   "metadata": {},
   "source": [
    "closed=\"right\"를 넘기면 시작값을 그룹 오른쪽에 포함시킨다."
   ]
  },
  {
   "cell_type": "code",
   "execution_count": 91,
   "id": "4fe2f740",
   "metadata": {},
   "outputs": [
    {
     "data": {
      "text/plain": [
       "1999-12-31 23:55:00     0\n",
       "2000-01-01 00:00:00    15\n",
       "2000-01-01 00:05:00    40\n",
       "2000-01-01 00:10:00    11\n",
       "Freq: 5T, dtype: int32"
      ]
     },
     "execution_count": 91,
     "metadata": {},
     "output_type": "execute_result"
    }
   ],
   "source": [
    "ts.resample(\"5min\", closed=\"right\").sum()"
   ]
  },
  {
   "cell_type": "markdown",
   "id": "f2f2dd57",
   "metadata": {},
   "source": [
    "label=\"right\"를 넘겨서 각 그룹의 오른쪽 값을 레이블로 사용할 수 있다."
   ]
  },
  {
   "cell_type": "code",
   "execution_count": 92,
   "id": "66d69c3d",
   "metadata": {},
   "outputs": [
    {
     "data": {
      "text/plain": [
       "2000-01-01 00:00:00     0\n",
       "2000-01-01 00:05:00    15\n",
       "2000-01-01 00:10:00    40\n",
       "2000-01-01 00:15:00    11\n",
       "Freq: 5T, dtype: int32"
      ]
     },
     "execution_count": 92,
     "metadata": {},
     "output_type": "execute_result"
    }
   ],
   "source": [
    "ts.resample(\"5min\", closed=\"right\", label=\"right\").sum()"
   ]
  },
  {
   "cell_type": "markdown",
   "id": "9d1b01e3",
   "metadata": {},
   "source": [
    "반환된 결과의 색인을 특정 크기만큼 이동하고 싶다면 to_offset 메서드를 사용한다."
   ]
  },
  {
   "cell_type": "code",
   "execution_count": 93,
   "id": "48a6cb20",
   "metadata": {},
   "outputs": [
    {
     "data": {
      "text/plain": [
       "1999-12-31 23:59:59     0\n",
       "2000-01-01 00:04:59    15\n",
       "2000-01-01 00:09:59    40\n",
       "2000-01-01 00:14:59    11\n",
       "Freq: 5T, dtype: int32"
      ]
     },
     "execution_count": 93,
     "metadata": {},
     "output_type": "execute_result"
    }
   ],
   "source": [
    "from pandas.tseries.frequencies import to_offset\n",
    "\n",
    "result = ts.resample(\"5min\", closed=\"right\", label=\"right\").sum()\n",
    "result.index = result.index + to_offset(\"-1s\")\n",
    "result"
   ]
  },
  {
   "cell_type": "markdown",
   "id": "de01d45d",
   "metadata": {},
   "source": [
    "### OHLC 리샘플링\n",
    "금융 분야에서 시계열 데이터를 집계하는 아주 흔한 방식은 각 버킷에서 시가, 고가, 저가, 종가의 값을 계산하는 것이다.\n",
    "\n",
    "시가, 고가, 저가, 종가를 OHLC라고 한다."
   ]
  },
  {
   "cell_type": "code",
   "execution_count": 96,
   "id": "669b5d1c",
   "metadata": {},
   "outputs": [
    {
     "data": {
      "text/html": [
       "<div>\n",
       "<style scoped>\n",
       "    .dataframe tbody tr th:only-of-type {\n",
       "        vertical-align: middle;\n",
       "    }\n",
       "\n",
       "    .dataframe tbody tr th {\n",
       "        vertical-align: top;\n",
       "    }\n",
       "\n",
       "    .dataframe thead th {\n",
       "        text-align: right;\n",
       "    }\n",
       "</style>\n",
       "<table border=\"1\" class=\"dataframe\">\n",
       "  <thead>\n",
       "    <tr style=\"text-align: right;\">\n",
       "      <th></th>\n",
       "      <th>open</th>\n",
       "      <th>high</th>\n",
       "      <th>low</th>\n",
       "      <th>close</th>\n",
       "    </tr>\n",
       "  </thead>\n",
       "  <tbody>\n",
       "    <tr>\n",
       "      <th>2000-01-01 00:00:00</th>\n",
       "      <td>3</td>\n",
       "      <td>11</td>\n",
       "      <td>2</td>\n",
       "      <td>11</td>\n",
       "    </tr>\n",
       "    <tr>\n",
       "      <th>2000-01-01 00:05:00</th>\n",
       "      <td>8</td>\n",
       "      <td>10</td>\n",
       "      <td>1</td>\n",
       "      <td>5</td>\n",
       "    </tr>\n",
       "    <tr>\n",
       "      <th>2000-01-01 00:10:00</th>\n",
       "      <td>6</td>\n",
       "      <td>6</td>\n",
       "      <td>0</td>\n",
       "      <td>0</td>\n",
       "    </tr>\n",
       "  </tbody>\n",
       "</table>\n",
       "</div>"
      ],
      "text/plain": [
       "                     open  high  low  close\n",
       "2000-01-01 00:00:00     3    11    2     11\n",
       "2000-01-01 00:05:00     8    10    1      5\n",
       "2000-01-01 00:10:00     6     6    0      0"
      ]
     },
     "execution_count": 96,
     "metadata": {},
     "output_type": "execute_result"
    }
   ],
   "source": [
    "ts = pd.Series(np.random.permutation(np.arange(len(dates))), index=dates)\n",
    "ts.resample(\"5min\").ohlc()"
   ]
  },
  {
   "cell_type": "markdown",
   "id": "d9a52840",
   "metadata": {},
   "source": [
    "## 11.6.2 업샘플링과 보간"
   ]
  },
  {
   "cell_type": "markdown",
   "id": "19034724",
   "metadata": {},
   "source": [
    "낮은 빈도에서 높은 빈도로 업샘플링할 때는 집계가 필요하지 않다."
   ]
  },
  {
   "cell_type": "code",
   "execution_count": 97,
   "id": "5768ca10",
   "metadata": {},
   "outputs": [
    {
     "data": {
      "text/html": [
       "<div>\n",
       "<style scoped>\n",
       "    .dataframe tbody tr th:only-of-type {\n",
       "        vertical-align: middle;\n",
       "    }\n",
       "\n",
       "    .dataframe tbody tr th {\n",
       "        vertical-align: top;\n",
       "    }\n",
       "\n",
       "    .dataframe thead th {\n",
       "        text-align: right;\n",
       "    }\n",
       "</style>\n",
       "<table border=\"1\" class=\"dataframe\">\n",
       "  <thead>\n",
       "    <tr style=\"text-align: right;\">\n",
       "      <th></th>\n",
       "      <th>Colorado</th>\n",
       "      <th>Texas</th>\n",
       "      <th>New York</th>\n",
       "      <th>Ohio</th>\n",
       "    </tr>\n",
       "  </thead>\n",
       "  <tbody>\n",
       "    <tr>\n",
       "      <th>2000-01-05</th>\n",
       "      <td>-1.366707</td>\n",
       "      <td>1.085350</td>\n",
       "      <td>0.610762</td>\n",
       "      <td>0.654943</td>\n",
       "    </tr>\n",
       "    <tr>\n",
       "      <th>2000-01-12</th>\n",
       "      <td>-0.191759</td>\n",
       "      <td>1.533443</td>\n",
       "      <td>0.387278</td>\n",
       "      <td>-1.005385</td>\n",
       "    </tr>\n",
       "  </tbody>\n",
       "</table>\n",
       "</div>"
      ],
      "text/plain": [
       "            Colorado     Texas  New York      Ohio\n",
       "2000-01-05 -1.366707  1.085350  0.610762  0.654943\n",
       "2000-01-12 -0.191759  1.533443  0.387278 -1.005385"
      ]
     },
     "execution_count": 97,
     "metadata": {},
     "output_type": "execute_result"
    }
   ],
   "source": [
    "frame = pd.DataFrame(np.random.standard_normal((2, 4)),\n",
    "                     index=pd.date_range(\"2000-01-01\", periods=2, freq=\"W-WED\"),\n",
    "                     columns=[\"Colorado\", \"Texas\", \"New York\", \"Ohio\"])\n",
    "frame"
   ]
  },
  {
   "cell_type": "markdown",
   "id": "0cdc908b",
   "metadata": {},
   "source": [
    "집계 함수를 사용하면 그룹당 하나의 값이 들어가고 그 사이에는 결측치가 들어간다."
   ]
  },
  {
   "cell_type": "code",
   "execution_count": 98,
   "id": "fe0e571a",
   "metadata": {},
   "outputs": [
    {
     "data": {
      "text/html": [
       "<div>\n",
       "<style scoped>\n",
       "    .dataframe tbody tr th:only-of-type {\n",
       "        vertical-align: middle;\n",
       "    }\n",
       "\n",
       "    .dataframe tbody tr th {\n",
       "        vertical-align: top;\n",
       "    }\n",
       "\n",
       "    .dataframe thead th {\n",
       "        text-align: right;\n",
       "    }\n",
       "</style>\n",
       "<table border=\"1\" class=\"dataframe\">\n",
       "  <thead>\n",
       "    <tr style=\"text-align: right;\">\n",
       "      <th></th>\n",
       "      <th>Colorado</th>\n",
       "      <th>Texas</th>\n",
       "      <th>New York</th>\n",
       "      <th>Ohio</th>\n",
       "    </tr>\n",
       "  </thead>\n",
       "  <tbody>\n",
       "    <tr>\n",
       "      <th>2000-01-05</th>\n",
       "      <td>-1.366707</td>\n",
       "      <td>1.085350</td>\n",
       "      <td>0.610762</td>\n",
       "      <td>0.654943</td>\n",
       "    </tr>\n",
       "    <tr>\n",
       "      <th>2000-01-06</th>\n",
       "      <td>NaN</td>\n",
       "      <td>NaN</td>\n",
       "      <td>NaN</td>\n",
       "      <td>NaN</td>\n",
       "    </tr>\n",
       "    <tr>\n",
       "      <th>2000-01-07</th>\n",
       "      <td>NaN</td>\n",
       "      <td>NaN</td>\n",
       "      <td>NaN</td>\n",
       "      <td>NaN</td>\n",
       "    </tr>\n",
       "    <tr>\n",
       "      <th>2000-01-08</th>\n",
       "      <td>NaN</td>\n",
       "      <td>NaN</td>\n",
       "      <td>NaN</td>\n",
       "      <td>NaN</td>\n",
       "    </tr>\n",
       "    <tr>\n",
       "      <th>2000-01-09</th>\n",
       "      <td>NaN</td>\n",
       "      <td>NaN</td>\n",
       "      <td>NaN</td>\n",
       "      <td>NaN</td>\n",
       "    </tr>\n",
       "    <tr>\n",
       "      <th>2000-01-10</th>\n",
       "      <td>NaN</td>\n",
       "      <td>NaN</td>\n",
       "      <td>NaN</td>\n",
       "      <td>NaN</td>\n",
       "    </tr>\n",
       "    <tr>\n",
       "      <th>2000-01-11</th>\n",
       "      <td>NaN</td>\n",
       "      <td>NaN</td>\n",
       "      <td>NaN</td>\n",
       "      <td>NaN</td>\n",
       "    </tr>\n",
       "    <tr>\n",
       "      <th>2000-01-12</th>\n",
       "      <td>-0.191759</td>\n",
       "      <td>1.533443</td>\n",
       "      <td>0.387278</td>\n",
       "      <td>-1.005385</td>\n",
       "    </tr>\n",
       "  </tbody>\n",
       "</table>\n",
       "</div>"
      ],
      "text/plain": [
       "            Colorado     Texas  New York      Ohio\n",
       "2000-01-05 -1.366707  1.085350  0.610762  0.654943\n",
       "2000-01-06       NaN       NaN       NaN       NaN\n",
       "2000-01-07       NaN       NaN       NaN       NaN\n",
       "2000-01-08       NaN       NaN       NaN       NaN\n",
       "2000-01-09       NaN       NaN       NaN       NaN\n",
       "2000-01-10       NaN       NaN       NaN       NaN\n",
       "2000-01-11       NaN       NaN       NaN       NaN\n",
       "2000-01-12 -0.191759  1.533443  0.387278 -1.005385"
      ]
     },
     "execution_count": 98,
     "metadata": {},
     "output_type": "execute_result"
    }
   ],
   "source": [
    "df_daily = frame.resample(\"D\").asfreq()\n",
    "df_daily"
   ]
  },
  {
   "cell_type": "markdown",
   "id": "a8edfedf",
   "metadata": {},
   "source": [
    "fillna와 reindex 메서드에서 사용했던 보간 메서드를 리샘플링에서도 사용할 수 있다."
   ]
  },
  {
   "cell_type": "code",
   "execution_count": 99,
   "id": "5ca523df",
   "metadata": {},
   "outputs": [
    {
     "data": {
      "text/html": [
       "<div>\n",
       "<style scoped>\n",
       "    .dataframe tbody tr th:only-of-type {\n",
       "        vertical-align: middle;\n",
       "    }\n",
       "\n",
       "    .dataframe tbody tr th {\n",
       "        vertical-align: top;\n",
       "    }\n",
       "\n",
       "    .dataframe thead th {\n",
       "        text-align: right;\n",
       "    }\n",
       "</style>\n",
       "<table border=\"1\" class=\"dataframe\">\n",
       "  <thead>\n",
       "    <tr style=\"text-align: right;\">\n",
       "      <th></th>\n",
       "      <th>Colorado</th>\n",
       "      <th>Texas</th>\n",
       "      <th>New York</th>\n",
       "      <th>Ohio</th>\n",
       "    </tr>\n",
       "  </thead>\n",
       "  <tbody>\n",
       "    <tr>\n",
       "      <th>2000-01-05</th>\n",
       "      <td>-1.366707</td>\n",
       "      <td>1.085350</td>\n",
       "      <td>0.610762</td>\n",
       "      <td>0.654943</td>\n",
       "    </tr>\n",
       "    <tr>\n",
       "      <th>2000-01-06</th>\n",
       "      <td>-1.366707</td>\n",
       "      <td>1.085350</td>\n",
       "      <td>0.610762</td>\n",
       "      <td>0.654943</td>\n",
       "    </tr>\n",
       "    <tr>\n",
       "      <th>2000-01-07</th>\n",
       "      <td>-1.366707</td>\n",
       "      <td>1.085350</td>\n",
       "      <td>0.610762</td>\n",
       "      <td>0.654943</td>\n",
       "    </tr>\n",
       "    <tr>\n",
       "      <th>2000-01-08</th>\n",
       "      <td>-1.366707</td>\n",
       "      <td>1.085350</td>\n",
       "      <td>0.610762</td>\n",
       "      <td>0.654943</td>\n",
       "    </tr>\n",
       "    <tr>\n",
       "      <th>2000-01-09</th>\n",
       "      <td>-1.366707</td>\n",
       "      <td>1.085350</td>\n",
       "      <td>0.610762</td>\n",
       "      <td>0.654943</td>\n",
       "    </tr>\n",
       "    <tr>\n",
       "      <th>2000-01-10</th>\n",
       "      <td>-1.366707</td>\n",
       "      <td>1.085350</td>\n",
       "      <td>0.610762</td>\n",
       "      <td>0.654943</td>\n",
       "    </tr>\n",
       "    <tr>\n",
       "      <th>2000-01-11</th>\n",
       "      <td>-1.366707</td>\n",
       "      <td>1.085350</td>\n",
       "      <td>0.610762</td>\n",
       "      <td>0.654943</td>\n",
       "    </tr>\n",
       "    <tr>\n",
       "      <th>2000-01-12</th>\n",
       "      <td>-0.191759</td>\n",
       "      <td>1.533443</td>\n",
       "      <td>0.387278</td>\n",
       "      <td>-1.005385</td>\n",
       "    </tr>\n",
       "  </tbody>\n",
       "</table>\n",
       "</div>"
      ],
      "text/plain": [
       "            Colorado     Texas  New York      Ohio\n",
       "2000-01-05 -1.366707  1.085350  0.610762  0.654943\n",
       "2000-01-06 -1.366707  1.085350  0.610762  0.654943\n",
       "2000-01-07 -1.366707  1.085350  0.610762  0.654943\n",
       "2000-01-08 -1.366707  1.085350  0.610762  0.654943\n",
       "2000-01-09 -1.366707  1.085350  0.610762  0.654943\n",
       "2000-01-10 -1.366707  1.085350  0.610762  0.654943\n",
       "2000-01-11 -1.366707  1.085350  0.610762  0.654943\n",
       "2000-01-12 -0.191759  1.533443  0.387278 -1.005385"
      ]
     },
     "execution_count": 99,
     "metadata": {},
     "output_type": "execute_result"
    }
   ],
   "source": [
    "frame.resample(\"D\").ffill()"
   ]
  },
  {
   "cell_type": "markdown",
   "id": "5cc67a00",
   "metadata": {},
   "source": [
    "앞으로 특정 기간만 채우도록 설정해 관측값을 계속 사용할 지점을 제한할 수도 있다."
   ]
  },
  {
   "cell_type": "code",
   "execution_count": 100,
   "id": "d6eee3fe",
   "metadata": {},
   "outputs": [
    {
     "data": {
      "text/html": [
       "<div>\n",
       "<style scoped>\n",
       "    .dataframe tbody tr th:only-of-type {\n",
       "        vertical-align: middle;\n",
       "    }\n",
       "\n",
       "    .dataframe tbody tr th {\n",
       "        vertical-align: top;\n",
       "    }\n",
       "\n",
       "    .dataframe thead th {\n",
       "        text-align: right;\n",
       "    }\n",
       "</style>\n",
       "<table border=\"1\" class=\"dataframe\">\n",
       "  <thead>\n",
       "    <tr style=\"text-align: right;\">\n",
       "      <th></th>\n",
       "      <th>Colorado</th>\n",
       "      <th>Texas</th>\n",
       "      <th>New York</th>\n",
       "      <th>Ohio</th>\n",
       "    </tr>\n",
       "  </thead>\n",
       "  <tbody>\n",
       "    <tr>\n",
       "      <th>2000-01-05</th>\n",
       "      <td>-1.366707</td>\n",
       "      <td>1.085350</td>\n",
       "      <td>0.610762</td>\n",
       "      <td>0.654943</td>\n",
       "    </tr>\n",
       "    <tr>\n",
       "      <th>2000-01-06</th>\n",
       "      <td>-1.366707</td>\n",
       "      <td>1.085350</td>\n",
       "      <td>0.610762</td>\n",
       "      <td>0.654943</td>\n",
       "    </tr>\n",
       "    <tr>\n",
       "      <th>2000-01-07</th>\n",
       "      <td>-1.366707</td>\n",
       "      <td>1.085350</td>\n",
       "      <td>0.610762</td>\n",
       "      <td>0.654943</td>\n",
       "    </tr>\n",
       "    <tr>\n",
       "      <th>2000-01-08</th>\n",
       "      <td>NaN</td>\n",
       "      <td>NaN</td>\n",
       "      <td>NaN</td>\n",
       "      <td>NaN</td>\n",
       "    </tr>\n",
       "    <tr>\n",
       "      <th>2000-01-09</th>\n",
       "      <td>NaN</td>\n",
       "      <td>NaN</td>\n",
       "      <td>NaN</td>\n",
       "      <td>NaN</td>\n",
       "    </tr>\n",
       "    <tr>\n",
       "      <th>2000-01-10</th>\n",
       "      <td>NaN</td>\n",
       "      <td>NaN</td>\n",
       "      <td>NaN</td>\n",
       "      <td>NaN</td>\n",
       "    </tr>\n",
       "    <tr>\n",
       "      <th>2000-01-11</th>\n",
       "      <td>NaN</td>\n",
       "      <td>NaN</td>\n",
       "      <td>NaN</td>\n",
       "      <td>NaN</td>\n",
       "    </tr>\n",
       "    <tr>\n",
       "      <th>2000-01-12</th>\n",
       "      <td>-0.191759</td>\n",
       "      <td>1.533443</td>\n",
       "      <td>0.387278</td>\n",
       "      <td>-1.005385</td>\n",
       "    </tr>\n",
       "  </tbody>\n",
       "</table>\n",
       "</div>"
      ],
      "text/plain": [
       "            Colorado     Texas  New York      Ohio\n",
       "2000-01-05 -1.366707  1.085350  0.610762  0.654943\n",
       "2000-01-06 -1.366707  1.085350  0.610762  0.654943\n",
       "2000-01-07 -1.366707  1.085350  0.610762  0.654943\n",
       "2000-01-08       NaN       NaN       NaN       NaN\n",
       "2000-01-09       NaN       NaN       NaN       NaN\n",
       "2000-01-10       NaN       NaN       NaN       NaN\n",
       "2000-01-11       NaN       NaN       NaN       NaN\n",
       "2000-01-12 -0.191759  1.533443  0.387278 -1.005385"
      ]
     },
     "execution_count": 100,
     "metadata": {},
     "output_type": "execute_result"
    }
   ],
   "source": [
    "frame.resample(\"D\").ffill(limit=2)"
   ]
  },
  {
   "cell_type": "markdown",
   "id": "9b826996",
   "metadata": {},
   "source": [
    "새로운 날짜 색인은 이전 색인과 일치할 필요가 전혀 없다."
   ]
  },
  {
   "cell_type": "code",
   "execution_count": 101,
   "id": "8ddd47bc",
   "metadata": {},
   "outputs": [
    {
     "data": {
      "text/html": [
       "<div>\n",
       "<style scoped>\n",
       "    .dataframe tbody tr th:only-of-type {\n",
       "        vertical-align: middle;\n",
       "    }\n",
       "\n",
       "    .dataframe tbody tr th {\n",
       "        vertical-align: top;\n",
       "    }\n",
       "\n",
       "    .dataframe thead th {\n",
       "        text-align: right;\n",
       "    }\n",
       "</style>\n",
       "<table border=\"1\" class=\"dataframe\">\n",
       "  <thead>\n",
       "    <tr style=\"text-align: right;\">\n",
       "      <th></th>\n",
       "      <th>Colorado</th>\n",
       "      <th>Texas</th>\n",
       "      <th>New York</th>\n",
       "      <th>Ohio</th>\n",
       "    </tr>\n",
       "  </thead>\n",
       "  <tbody>\n",
       "    <tr>\n",
       "      <th>2000-01-11</th>\n",
       "      <td>-1.366707</td>\n",
       "      <td>1.085350</td>\n",
       "      <td>0.610762</td>\n",
       "      <td>0.654943</td>\n",
       "    </tr>\n",
       "    <tr>\n",
       "      <th>2000-01-18</th>\n",
       "      <td>-0.191759</td>\n",
       "      <td>1.533443</td>\n",
       "      <td>0.387278</td>\n",
       "      <td>-1.005385</td>\n",
       "    </tr>\n",
       "  </tbody>\n",
       "</table>\n",
       "</div>"
      ],
      "text/plain": [
       "            Colorado     Texas  New York      Ohio\n",
       "2000-01-11 -1.366707  1.085350  0.610762  0.654943\n",
       "2000-01-18 -0.191759  1.533443  0.387278 -1.005385"
      ]
     },
     "execution_count": 101,
     "metadata": {},
     "output_type": "execute_result"
    }
   ],
   "source": [
    "frame.resample(\"W-TUE\").ffill()"
   ]
  },
  {
   "cell_type": "markdown",
   "id": "78e6b56b",
   "metadata": {},
   "source": [
    "## 11.6.3 기간 리샘플링"
   ]
  },
  {
   "cell_type": "markdown",
   "id": "0b255fb7",
   "metadata": {},
   "source": [
    "기간으로 색인된 데이터를 리샘플링하는 것은 타임스탬프와 유사하다.\n",
    "\n",
    "업샘플링은 리샘플링 전에 새로운 빈도에서 구간의 끝을 어느 쪽에 두어야 할지 미리 결정해야 한다."
   ]
  },
  {
   "cell_type": "code",
   "execution_count": 103,
   "id": "7c762ef7",
   "metadata": {},
   "outputs": [
    {
     "data": {
      "text/html": [
       "<div>\n",
       "<style scoped>\n",
       "    .dataframe tbody tr th:only-of-type {\n",
       "        vertical-align: middle;\n",
       "    }\n",
       "\n",
       "    .dataframe tbody tr th {\n",
       "        vertical-align: top;\n",
       "    }\n",
       "\n",
       "    .dataframe thead th {\n",
       "        text-align: right;\n",
       "    }\n",
       "</style>\n",
       "<table border=\"1\" class=\"dataframe\">\n",
       "  <thead>\n",
       "    <tr style=\"text-align: right;\">\n",
       "      <th></th>\n",
       "      <th>Colorado</th>\n",
       "      <th>Texas</th>\n",
       "      <th>New York</th>\n",
       "      <th>Ohio</th>\n",
       "    </tr>\n",
       "  </thead>\n",
       "  <tbody>\n",
       "    <tr>\n",
       "      <th>2000-01</th>\n",
       "      <td>-0.094440</td>\n",
       "      <td>0.141295</td>\n",
       "      <td>0.716422</td>\n",
       "      <td>-0.741690</td>\n",
       "    </tr>\n",
       "    <tr>\n",
       "      <th>2000-02</th>\n",
       "      <td>0.562388</td>\n",
       "      <td>0.999922</td>\n",
       "      <td>-0.342568</td>\n",
       "      <td>-1.051628</td>\n",
       "    </tr>\n",
       "    <tr>\n",
       "      <th>2000-03</th>\n",
       "      <td>-1.082691</td>\n",
       "      <td>-1.765492</td>\n",
       "      <td>1.084687</td>\n",
       "      <td>1.134666</td>\n",
       "    </tr>\n",
       "    <tr>\n",
       "      <th>2000-04</th>\n",
       "      <td>1.128563</td>\n",
       "      <td>1.318597</td>\n",
       "      <td>2.736303</td>\n",
       "      <td>-0.253659</td>\n",
       "    </tr>\n",
       "    <tr>\n",
       "      <th>2000-05</th>\n",
       "      <td>-1.837711</td>\n",
       "      <td>0.941450</td>\n",
       "      <td>-1.287963</td>\n",
       "      <td>0.761583</td>\n",
       "    </tr>\n",
       "  </tbody>\n",
       "</table>\n",
       "</div>"
      ],
      "text/plain": [
       "         Colorado     Texas  New York      Ohio\n",
       "2000-01 -0.094440  0.141295  0.716422 -0.741690\n",
       "2000-02  0.562388  0.999922 -0.342568 -1.051628\n",
       "2000-03 -1.082691 -1.765492  1.084687  1.134666\n",
       "2000-04  1.128563  1.318597  2.736303 -0.253659\n",
       "2000-05 -1.837711  0.941450 -1.287963  0.761583"
      ]
     },
     "execution_count": 103,
     "metadata": {},
     "output_type": "execute_result"
    },
    {
     "data": {
      "text/html": [
       "<div>\n",
       "<style scoped>\n",
       "    .dataframe tbody tr th:only-of-type {\n",
       "        vertical-align: middle;\n",
       "    }\n",
       "\n",
       "    .dataframe tbody tr th {\n",
       "        vertical-align: top;\n",
       "    }\n",
       "\n",
       "    .dataframe thead th {\n",
       "        text-align: right;\n",
       "    }\n",
       "</style>\n",
       "<table border=\"1\" class=\"dataframe\">\n",
       "  <thead>\n",
       "    <tr style=\"text-align: right;\">\n",
       "      <th></th>\n",
       "      <th>Colorado</th>\n",
       "      <th>Texas</th>\n",
       "      <th>New York</th>\n",
       "      <th>Ohio</th>\n",
       "    </tr>\n",
       "  </thead>\n",
       "  <tbody>\n",
       "    <tr>\n",
       "      <th>2000</th>\n",
       "      <td>0.184431</td>\n",
       "      <td>0.003273</td>\n",
       "      <td>0.192659</td>\n",
       "      <td>0.457192</td>\n",
       "    </tr>\n",
       "    <tr>\n",
       "      <th>2001</th>\n",
       "      <td>0.520196</td>\n",
       "      <td>-0.092203</td>\n",
       "      <td>0.454360</td>\n",
       "      <td>0.014910</td>\n",
       "    </tr>\n",
       "  </tbody>\n",
       "</table>\n",
       "</div>"
      ],
      "text/plain": [
       "      Colorado     Texas  New York      Ohio\n",
       "2000  0.184431  0.003273  0.192659  0.457192\n",
       "2001  0.520196 -0.092203  0.454360  0.014910"
      ]
     },
     "execution_count": 103,
     "metadata": {},
     "output_type": "execute_result"
    }
   ],
   "source": [
    "frame = pd.DataFrame(np.random.standard_normal((24, 4)),\n",
    "                     index=pd.period_range(\"1-2000\", \"12-2001\", freq=\"M\"),\n",
    "                     columns=[\"Colorado\", \"Texas\", \"New York\", \"Ohio\"])\n",
    "frame.head()\n",
    "\n",
    "annual_frame = frame.resample(\"A-DEC\").mean()\n",
    "annual_frame"
   ]
  },
  {
   "cell_type": "markdown",
   "id": "e2e45fce",
   "metadata": {},
   "source": [
    "convention 인수의 기본값은 start이지만 end로 지정할 수 있다."
   ]
  },
  {
   "cell_type": "code",
   "execution_count": 104,
   "id": "7b64d020",
   "metadata": {},
   "outputs": [
    {
     "data": {
      "text/html": [
       "<div>\n",
       "<style scoped>\n",
       "    .dataframe tbody tr th:only-of-type {\n",
       "        vertical-align: middle;\n",
       "    }\n",
       "\n",
       "    .dataframe tbody tr th {\n",
       "        vertical-align: top;\n",
       "    }\n",
       "\n",
       "    .dataframe thead th {\n",
       "        text-align: right;\n",
       "    }\n",
       "</style>\n",
       "<table border=\"1\" class=\"dataframe\">\n",
       "  <thead>\n",
       "    <tr style=\"text-align: right;\">\n",
       "      <th></th>\n",
       "      <th>Colorado</th>\n",
       "      <th>Texas</th>\n",
       "      <th>New York</th>\n",
       "      <th>Ohio</th>\n",
       "    </tr>\n",
       "  </thead>\n",
       "  <tbody>\n",
       "    <tr>\n",
       "      <th>2000Q1</th>\n",
       "      <td>0.184431</td>\n",
       "      <td>0.003273</td>\n",
       "      <td>0.192659</td>\n",
       "      <td>0.457192</td>\n",
       "    </tr>\n",
       "    <tr>\n",
       "      <th>2000Q2</th>\n",
       "      <td>0.184431</td>\n",
       "      <td>0.003273</td>\n",
       "      <td>0.192659</td>\n",
       "      <td>0.457192</td>\n",
       "    </tr>\n",
       "    <tr>\n",
       "      <th>2000Q3</th>\n",
       "      <td>0.184431</td>\n",
       "      <td>0.003273</td>\n",
       "      <td>0.192659</td>\n",
       "      <td>0.457192</td>\n",
       "    </tr>\n",
       "    <tr>\n",
       "      <th>2000Q4</th>\n",
       "      <td>0.184431</td>\n",
       "      <td>0.003273</td>\n",
       "      <td>0.192659</td>\n",
       "      <td>0.457192</td>\n",
       "    </tr>\n",
       "    <tr>\n",
       "      <th>2001Q1</th>\n",
       "      <td>0.520196</td>\n",
       "      <td>-0.092203</td>\n",
       "      <td>0.454360</td>\n",
       "      <td>0.014910</td>\n",
       "    </tr>\n",
       "    <tr>\n",
       "      <th>2001Q2</th>\n",
       "      <td>0.520196</td>\n",
       "      <td>-0.092203</td>\n",
       "      <td>0.454360</td>\n",
       "      <td>0.014910</td>\n",
       "    </tr>\n",
       "    <tr>\n",
       "      <th>2001Q3</th>\n",
       "      <td>0.520196</td>\n",
       "      <td>-0.092203</td>\n",
       "      <td>0.454360</td>\n",
       "      <td>0.014910</td>\n",
       "    </tr>\n",
       "    <tr>\n",
       "      <th>2001Q4</th>\n",
       "      <td>0.520196</td>\n",
       "      <td>-0.092203</td>\n",
       "      <td>0.454360</td>\n",
       "      <td>0.014910</td>\n",
       "    </tr>\n",
       "  </tbody>\n",
       "</table>\n",
       "</div>"
      ],
      "text/plain": [
       "        Colorado     Texas  New York      Ohio\n",
       "2000Q1  0.184431  0.003273  0.192659  0.457192\n",
       "2000Q2  0.184431  0.003273  0.192659  0.457192\n",
       "2000Q3  0.184431  0.003273  0.192659  0.457192\n",
       "2000Q4  0.184431  0.003273  0.192659  0.457192\n",
       "2001Q1  0.520196 -0.092203  0.454360  0.014910\n",
       "2001Q2  0.520196 -0.092203  0.454360  0.014910\n",
       "2001Q3  0.520196 -0.092203  0.454360  0.014910\n",
       "2001Q4  0.520196 -0.092203  0.454360  0.014910"
      ]
     },
     "execution_count": 104,
     "metadata": {},
     "output_type": "execute_result"
    },
    {
     "data": {
      "text/html": [
       "<div>\n",
       "<style scoped>\n",
       "    .dataframe tbody tr th:only-of-type {\n",
       "        vertical-align: middle;\n",
       "    }\n",
       "\n",
       "    .dataframe tbody tr th {\n",
       "        vertical-align: top;\n",
       "    }\n",
       "\n",
       "    .dataframe thead th {\n",
       "        text-align: right;\n",
       "    }\n",
       "</style>\n",
       "<table border=\"1\" class=\"dataframe\">\n",
       "  <thead>\n",
       "    <tr style=\"text-align: right;\">\n",
       "      <th></th>\n",
       "      <th>Colorado</th>\n",
       "      <th>Texas</th>\n",
       "      <th>New York</th>\n",
       "      <th>Ohio</th>\n",
       "    </tr>\n",
       "  </thead>\n",
       "  <tbody>\n",
       "    <tr>\n",
       "      <th>2000Q4</th>\n",
       "      <td>0.184431</td>\n",
       "      <td>0.003273</td>\n",
       "      <td>0.192659</td>\n",
       "      <td>0.457192</td>\n",
       "    </tr>\n",
       "    <tr>\n",
       "      <th>2001Q1</th>\n",
       "      <td>NaN</td>\n",
       "      <td>NaN</td>\n",
       "      <td>NaN</td>\n",
       "      <td>NaN</td>\n",
       "    </tr>\n",
       "    <tr>\n",
       "      <th>2001Q2</th>\n",
       "      <td>NaN</td>\n",
       "      <td>NaN</td>\n",
       "      <td>NaN</td>\n",
       "      <td>NaN</td>\n",
       "    </tr>\n",
       "    <tr>\n",
       "      <th>2001Q3</th>\n",
       "      <td>NaN</td>\n",
       "      <td>NaN</td>\n",
       "      <td>NaN</td>\n",
       "      <td>NaN</td>\n",
       "    </tr>\n",
       "    <tr>\n",
       "      <th>2001Q4</th>\n",
       "      <td>0.520196</td>\n",
       "      <td>-0.092203</td>\n",
       "      <td>0.454360</td>\n",
       "      <td>0.014910</td>\n",
       "    </tr>\n",
       "  </tbody>\n",
       "</table>\n",
       "</div>"
      ],
      "text/plain": [
       "        Colorado     Texas  New York      Ohio\n",
       "2000Q4  0.184431  0.003273  0.192659  0.457192\n",
       "2001Q1       NaN       NaN       NaN       NaN\n",
       "2001Q2       NaN       NaN       NaN       NaN\n",
       "2001Q3       NaN       NaN       NaN       NaN\n",
       "2001Q4  0.520196 -0.092203  0.454360  0.014910"
      ]
     },
     "execution_count": 104,
     "metadata": {},
     "output_type": "execute_result"
    }
   ],
   "source": [
    "annual_frame.resample(\"Q-DEC\").ffill()\n",
    "\n",
    "annual_frame.resample(\"Q-DEC\", convention=\"end\").asfreq()"
   ]
  },
  {
   "cell_type": "markdown",
   "id": "47114597",
   "metadata": {},
   "source": [
    "- 다운샘플링의 경우 대상 빈도는 반드시 원본 빈도의 하위 기간이어야 한다.\n",
    "- 업샘플링의 경우 대상 빈도는 반드시 원본 빈도의 상위 기간이어야 한다."
   ]
  },
  {
   "cell_type": "code",
   "execution_count": 105,
   "id": "05bfd059",
   "metadata": {},
   "outputs": [
    {
     "data": {
      "text/html": [
       "<div>\n",
       "<style scoped>\n",
       "    .dataframe tbody tr th:only-of-type {\n",
       "        vertical-align: middle;\n",
       "    }\n",
       "\n",
       "    .dataframe tbody tr th {\n",
       "        vertical-align: top;\n",
       "    }\n",
       "\n",
       "    .dataframe thead th {\n",
       "        text-align: right;\n",
       "    }\n",
       "</style>\n",
       "<table border=\"1\" class=\"dataframe\">\n",
       "  <thead>\n",
       "    <tr style=\"text-align: right;\">\n",
       "      <th></th>\n",
       "      <th>Colorado</th>\n",
       "      <th>Texas</th>\n",
       "      <th>New York</th>\n",
       "      <th>Ohio</th>\n",
       "    </tr>\n",
       "  </thead>\n",
       "  <tbody>\n",
       "    <tr>\n",
       "      <th>2000Q4</th>\n",
       "      <td>0.184431</td>\n",
       "      <td>0.003273</td>\n",
       "      <td>0.192659</td>\n",
       "      <td>0.457192</td>\n",
       "    </tr>\n",
       "    <tr>\n",
       "      <th>2001Q1</th>\n",
       "      <td>0.184431</td>\n",
       "      <td>0.003273</td>\n",
       "      <td>0.192659</td>\n",
       "      <td>0.457192</td>\n",
       "    </tr>\n",
       "    <tr>\n",
       "      <th>2001Q2</th>\n",
       "      <td>0.184431</td>\n",
       "      <td>0.003273</td>\n",
       "      <td>0.192659</td>\n",
       "      <td>0.457192</td>\n",
       "    </tr>\n",
       "    <tr>\n",
       "      <th>2001Q3</th>\n",
       "      <td>0.184431</td>\n",
       "      <td>0.003273</td>\n",
       "      <td>0.192659</td>\n",
       "      <td>0.457192</td>\n",
       "    </tr>\n",
       "    <tr>\n",
       "      <th>2001Q4</th>\n",
       "      <td>0.520196</td>\n",
       "      <td>-0.092203</td>\n",
       "      <td>0.454360</td>\n",
       "      <td>0.014910</td>\n",
       "    </tr>\n",
       "    <tr>\n",
       "      <th>2002Q1</th>\n",
       "      <td>0.520196</td>\n",
       "      <td>-0.092203</td>\n",
       "      <td>0.454360</td>\n",
       "      <td>0.014910</td>\n",
       "    </tr>\n",
       "    <tr>\n",
       "      <th>2002Q2</th>\n",
       "      <td>0.520196</td>\n",
       "      <td>-0.092203</td>\n",
       "      <td>0.454360</td>\n",
       "      <td>0.014910</td>\n",
       "    </tr>\n",
       "    <tr>\n",
       "      <th>2002Q3</th>\n",
       "      <td>0.520196</td>\n",
       "      <td>-0.092203</td>\n",
       "      <td>0.454360</td>\n",
       "      <td>0.014910</td>\n",
       "    </tr>\n",
       "  </tbody>\n",
       "</table>\n",
       "</div>"
      ],
      "text/plain": [
       "        Colorado     Texas  New York      Ohio\n",
       "2000Q4  0.184431  0.003273  0.192659  0.457192\n",
       "2001Q1  0.184431  0.003273  0.192659  0.457192\n",
       "2001Q2  0.184431  0.003273  0.192659  0.457192\n",
       "2001Q3  0.184431  0.003273  0.192659  0.457192\n",
       "2001Q4  0.520196 -0.092203  0.454360  0.014910\n",
       "2002Q1  0.520196 -0.092203  0.454360  0.014910\n",
       "2002Q2  0.520196 -0.092203  0.454360  0.014910\n",
       "2002Q3  0.520196 -0.092203  0.454360  0.014910"
      ]
     },
     "execution_count": 105,
     "metadata": {},
     "output_type": "execute_result"
    }
   ],
   "source": [
    "annual_frame.resample(\"Q-MAR\").ffill()"
   ]
  },
  {
   "cell_type": "markdown",
   "id": "0d56efad",
   "metadata": {},
   "source": [
    "## 11.6.4 그룹화된 시간 리샘플링"
   ]
  },
  {
   "cell_type": "markdown",
   "id": "7853375e",
   "metadata": {},
   "source": [
    "시계열 데이터의 경우 resample 메서드는 의미론적으로 시간 간격에 기반한 그룹 연산이다."
   ]
  },
  {
   "cell_type": "code",
   "execution_count": 106,
   "id": "d6f8dca2",
   "metadata": {},
   "outputs": [
    {
     "data": {
      "text/html": [
       "<div>\n",
       "<style scoped>\n",
       "    .dataframe tbody tr th:only-of-type {\n",
       "        vertical-align: middle;\n",
       "    }\n",
       "\n",
       "    .dataframe tbody tr th {\n",
       "        vertical-align: top;\n",
       "    }\n",
       "\n",
       "    .dataframe thead th {\n",
       "        text-align: right;\n",
       "    }\n",
       "</style>\n",
       "<table border=\"1\" class=\"dataframe\">\n",
       "  <thead>\n",
       "    <tr style=\"text-align: right;\">\n",
       "      <th></th>\n",
       "      <th>time</th>\n",
       "      <th>value</th>\n",
       "    </tr>\n",
       "  </thead>\n",
       "  <tbody>\n",
       "    <tr>\n",
       "      <th>0</th>\n",
       "      <td>2017-05-20 00:00:00</td>\n",
       "      <td>0</td>\n",
       "    </tr>\n",
       "    <tr>\n",
       "      <th>1</th>\n",
       "      <td>2017-05-20 00:01:00</td>\n",
       "      <td>1</td>\n",
       "    </tr>\n",
       "    <tr>\n",
       "      <th>2</th>\n",
       "      <td>2017-05-20 00:02:00</td>\n",
       "      <td>2</td>\n",
       "    </tr>\n",
       "    <tr>\n",
       "      <th>3</th>\n",
       "      <td>2017-05-20 00:03:00</td>\n",
       "      <td>3</td>\n",
       "    </tr>\n",
       "    <tr>\n",
       "      <th>4</th>\n",
       "      <td>2017-05-20 00:04:00</td>\n",
       "      <td>4</td>\n",
       "    </tr>\n",
       "    <tr>\n",
       "      <th>5</th>\n",
       "      <td>2017-05-20 00:05:00</td>\n",
       "      <td>5</td>\n",
       "    </tr>\n",
       "    <tr>\n",
       "      <th>6</th>\n",
       "      <td>2017-05-20 00:06:00</td>\n",
       "      <td>6</td>\n",
       "    </tr>\n",
       "    <tr>\n",
       "      <th>7</th>\n",
       "      <td>2017-05-20 00:07:00</td>\n",
       "      <td>7</td>\n",
       "    </tr>\n",
       "    <tr>\n",
       "      <th>8</th>\n",
       "      <td>2017-05-20 00:08:00</td>\n",
       "      <td>8</td>\n",
       "    </tr>\n",
       "    <tr>\n",
       "      <th>9</th>\n",
       "      <td>2017-05-20 00:09:00</td>\n",
       "      <td>9</td>\n",
       "    </tr>\n",
       "    <tr>\n",
       "      <th>10</th>\n",
       "      <td>2017-05-20 00:10:00</td>\n",
       "      <td>10</td>\n",
       "    </tr>\n",
       "    <tr>\n",
       "      <th>11</th>\n",
       "      <td>2017-05-20 00:11:00</td>\n",
       "      <td>11</td>\n",
       "    </tr>\n",
       "    <tr>\n",
       "      <th>12</th>\n",
       "      <td>2017-05-20 00:12:00</td>\n",
       "      <td>12</td>\n",
       "    </tr>\n",
       "    <tr>\n",
       "      <th>13</th>\n",
       "      <td>2017-05-20 00:13:00</td>\n",
       "      <td>13</td>\n",
       "    </tr>\n",
       "    <tr>\n",
       "      <th>14</th>\n",
       "      <td>2017-05-20 00:14:00</td>\n",
       "      <td>14</td>\n",
       "    </tr>\n",
       "  </tbody>\n",
       "</table>\n",
       "</div>"
      ],
      "text/plain": [
       "                  time  value\n",
       "0  2017-05-20 00:00:00      0\n",
       "1  2017-05-20 00:01:00      1\n",
       "2  2017-05-20 00:02:00      2\n",
       "3  2017-05-20 00:03:00      3\n",
       "4  2017-05-20 00:04:00      4\n",
       "5  2017-05-20 00:05:00      5\n",
       "6  2017-05-20 00:06:00      6\n",
       "7  2017-05-20 00:07:00      7\n",
       "8  2017-05-20 00:08:00      8\n",
       "9  2017-05-20 00:09:00      9\n",
       "10 2017-05-20 00:10:00     10\n",
       "11 2017-05-20 00:11:00     11\n",
       "12 2017-05-20 00:12:00     12\n",
       "13 2017-05-20 00:13:00     13\n",
       "14 2017-05-20 00:14:00     14"
      ]
     },
     "execution_count": 106,
     "metadata": {},
     "output_type": "execute_result"
    }
   ],
   "source": [
    "N = 15\n",
    "times = pd.date_range(\"2017-05-20 00:00:00\", freq=\"1min\", periods=N)\n",
    "df = pd.DataFrame({\"time\": times,\n",
    "                   \"value\": np.arange(N)})\n",
    "df"
   ]
  },
  {
   "cell_type": "code",
   "execution_count": 107,
   "id": "cf30be54",
   "metadata": {},
   "outputs": [
    {
     "data": {
      "text/html": [
       "<div>\n",
       "<style scoped>\n",
       "    .dataframe tbody tr th:only-of-type {\n",
       "        vertical-align: middle;\n",
       "    }\n",
       "\n",
       "    .dataframe tbody tr th {\n",
       "        vertical-align: top;\n",
       "    }\n",
       "\n",
       "    .dataframe thead th {\n",
       "        text-align: right;\n",
       "    }\n",
       "</style>\n",
       "<table border=\"1\" class=\"dataframe\">\n",
       "  <thead>\n",
       "    <tr style=\"text-align: right;\">\n",
       "      <th></th>\n",
       "      <th>value</th>\n",
       "    </tr>\n",
       "    <tr>\n",
       "      <th>time</th>\n",
       "      <th></th>\n",
       "    </tr>\n",
       "  </thead>\n",
       "  <tbody>\n",
       "    <tr>\n",
       "      <th>2017-05-20 00:00:00</th>\n",
       "      <td>5</td>\n",
       "    </tr>\n",
       "    <tr>\n",
       "      <th>2017-05-20 00:05:00</th>\n",
       "      <td>5</td>\n",
       "    </tr>\n",
       "    <tr>\n",
       "      <th>2017-05-20 00:10:00</th>\n",
       "      <td>5</td>\n",
       "    </tr>\n",
       "  </tbody>\n",
       "</table>\n",
       "</div>"
      ],
      "text/plain": [
       "                     value\n",
       "time                      \n",
       "2017-05-20 00:00:00      5\n",
       "2017-05-20 00:05:00      5\n",
       "2017-05-20 00:10:00      5"
      ]
     },
     "execution_count": 107,
     "metadata": {},
     "output_type": "execute_result"
    }
   ],
   "source": [
    "# time으로 색인하고 리샘플링\n",
    "df.set_index(\"time\").resample(\"5min\").count()"
   ]
  },
  {
   "cell_type": "code",
   "execution_count": 109,
   "id": "485582fa",
   "metadata": {},
   "outputs": [
    {
     "data": {
      "text/html": [
       "<div>\n",
       "<style scoped>\n",
       "    .dataframe tbody tr th:only-of-type {\n",
       "        vertical-align: middle;\n",
       "    }\n",
       "\n",
       "    .dataframe tbody tr th {\n",
       "        vertical-align: top;\n",
       "    }\n",
       "\n",
       "    .dataframe thead th {\n",
       "        text-align: right;\n",
       "    }\n",
       "</style>\n",
       "<table border=\"1\" class=\"dataframe\">\n",
       "  <thead>\n",
       "    <tr style=\"text-align: right;\">\n",
       "      <th></th>\n",
       "      <th>time</th>\n",
       "      <th>key</th>\n",
       "      <th>value</th>\n",
       "    </tr>\n",
       "  </thead>\n",
       "  <tbody>\n",
       "    <tr>\n",
       "      <th>0</th>\n",
       "      <td>2017-05-20 00:00:00</td>\n",
       "      <td>a</td>\n",
       "      <td>0.0</td>\n",
       "    </tr>\n",
       "    <tr>\n",
       "      <th>1</th>\n",
       "      <td>2017-05-20 00:00:00</td>\n",
       "      <td>b</td>\n",
       "      <td>1.0</td>\n",
       "    </tr>\n",
       "    <tr>\n",
       "      <th>2</th>\n",
       "      <td>2017-05-20 00:00:00</td>\n",
       "      <td>c</td>\n",
       "      <td>2.0</td>\n",
       "    </tr>\n",
       "    <tr>\n",
       "      <th>3</th>\n",
       "      <td>2017-05-20 00:01:00</td>\n",
       "      <td>a</td>\n",
       "      <td>3.0</td>\n",
       "    </tr>\n",
       "    <tr>\n",
       "      <th>4</th>\n",
       "      <td>2017-05-20 00:01:00</td>\n",
       "      <td>b</td>\n",
       "      <td>4.0</td>\n",
       "    </tr>\n",
       "    <tr>\n",
       "      <th>5</th>\n",
       "      <td>2017-05-20 00:01:00</td>\n",
       "      <td>c</td>\n",
       "      <td>5.0</td>\n",
       "    </tr>\n",
       "    <tr>\n",
       "      <th>6</th>\n",
       "      <td>2017-05-20 00:02:00</td>\n",
       "      <td>a</td>\n",
       "      <td>6.0</td>\n",
       "    </tr>\n",
       "  </tbody>\n",
       "</table>\n",
       "</div>"
      ],
      "text/plain": [
       "                 time key  value\n",
       "0 2017-05-20 00:00:00   a    0.0\n",
       "1 2017-05-20 00:00:00   b    1.0\n",
       "2 2017-05-20 00:00:00   c    2.0\n",
       "3 2017-05-20 00:01:00   a    3.0\n",
       "4 2017-05-20 00:01:00   b    4.0\n",
       "5 2017-05-20 00:01:00   c    5.0\n",
       "6 2017-05-20 00:02:00   a    6.0"
      ]
     },
     "execution_count": 109,
     "metadata": {},
     "output_type": "execute_result"
    }
   ],
   "source": [
    "# DataFrame에 추가 그룹 키 열로 표시된 여러 시계열 데이터가 있다고 가정\n",
    "df2 = pd.DataFrame({\"time\": times.repeat(3),\n",
    "                    \"key\": np.tile([\"a\", \"b\", \"c\"], N),\n",
    "                    \"value\": np.arange(N * 3.)})\n",
    "df2.head(7)"
   ]
  },
  {
   "cell_type": "markdown",
   "id": "4553cf98",
   "metadata": {},
   "source": [
    "pandas.Grouper를 사용할 때는 시간이 Series나 DataFrame의 색인 시간이어야 한다."
   ]
  },
  {
   "cell_type": "code",
   "execution_count": 110,
   "id": "dab27d51",
   "metadata": {},
   "outputs": [],
   "source": [
    "# key의 각 값에 대해 동일한 리샘플링을 수행하려면, pandas.Grouper 객체 사용\n",
    "time_key = pd.Grouper(freq=\"5min\")"
   ]
  },
  {
   "cell_type": "code",
   "execution_count": 113,
   "id": "d162de8c",
   "metadata": {},
   "outputs": [
    {
     "data": {
      "text/html": [
       "<div>\n",
       "<style scoped>\n",
       "    .dataframe tbody tr th:only-of-type {\n",
       "        vertical-align: middle;\n",
       "    }\n",
       "\n",
       "    .dataframe tbody tr th {\n",
       "        vertical-align: top;\n",
       "    }\n",
       "\n",
       "    .dataframe thead th {\n",
       "        text-align: right;\n",
       "    }\n",
       "</style>\n",
       "<table border=\"1\" class=\"dataframe\">\n",
       "  <thead>\n",
       "    <tr style=\"text-align: right;\">\n",
       "      <th></th>\n",
       "      <th></th>\n",
       "      <th>value</th>\n",
       "    </tr>\n",
       "    <tr>\n",
       "      <th>key</th>\n",
       "      <th>time</th>\n",
       "      <th></th>\n",
       "    </tr>\n",
       "  </thead>\n",
       "  <tbody>\n",
       "    <tr>\n",
       "      <th rowspan=\"3\" valign=\"top\">a</th>\n",
       "      <th>2017-05-20 00:00:00</th>\n",
       "      <td>30.0</td>\n",
       "    </tr>\n",
       "    <tr>\n",
       "      <th>2017-05-20 00:05:00</th>\n",
       "      <td>105.0</td>\n",
       "    </tr>\n",
       "    <tr>\n",
       "      <th>2017-05-20 00:10:00</th>\n",
       "      <td>180.0</td>\n",
       "    </tr>\n",
       "    <tr>\n",
       "      <th rowspan=\"3\" valign=\"top\">b</th>\n",
       "      <th>2017-05-20 00:00:00</th>\n",
       "      <td>35.0</td>\n",
       "    </tr>\n",
       "    <tr>\n",
       "      <th>2017-05-20 00:05:00</th>\n",
       "      <td>110.0</td>\n",
       "    </tr>\n",
       "    <tr>\n",
       "      <th>2017-05-20 00:10:00</th>\n",
       "      <td>185.0</td>\n",
       "    </tr>\n",
       "    <tr>\n",
       "      <th rowspan=\"3\" valign=\"top\">c</th>\n",
       "      <th>2017-05-20 00:00:00</th>\n",
       "      <td>40.0</td>\n",
       "    </tr>\n",
       "    <tr>\n",
       "      <th>2017-05-20 00:05:00</th>\n",
       "      <td>115.0</td>\n",
       "    </tr>\n",
       "    <tr>\n",
       "      <th>2017-05-20 00:10:00</th>\n",
       "      <td>190.0</td>\n",
       "    </tr>\n",
       "  </tbody>\n",
       "</table>\n",
       "</div>"
      ],
      "text/plain": [
       "                         value\n",
       "key time                      \n",
       "a   2017-05-20 00:00:00   30.0\n",
       "    2017-05-20 00:05:00  105.0\n",
       "    2017-05-20 00:10:00  180.0\n",
       "b   2017-05-20 00:00:00   35.0\n",
       "    2017-05-20 00:05:00  110.0\n",
       "    2017-05-20 00:10:00  185.0\n",
       "c   2017-05-20 00:00:00   40.0\n",
       "    2017-05-20 00:05:00  115.0\n",
       "    2017-05-20 00:10:00  190.0"
      ]
     },
     "execution_count": 113,
     "metadata": {},
     "output_type": "execute_result"
    },
    {
     "data": {
      "text/html": [
       "<div>\n",
       "<style scoped>\n",
       "    .dataframe tbody tr th:only-of-type {\n",
       "        vertical-align: middle;\n",
       "    }\n",
       "\n",
       "    .dataframe tbody tr th {\n",
       "        vertical-align: top;\n",
       "    }\n",
       "\n",
       "    .dataframe thead th {\n",
       "        text-align: right;\n",
       "    }\n",
       "</style>\n",
       "<table border=\"1\" class=\"dataframe\">\n",
       "  <thead>\n",
       "    <tr style=\"text-align: right;\">\n",
       "      <th></th>\n",
       "      <th>key</th>\n",
       "      <th>time</th>\n",
       "      <th>value</th>\n",
       "    </tr>\n",
       "  </thead>\n",
       "  <tbody>\n",
       "    <tr>\n",
       "      <th>0</th>\n",
       "      <td>a</td>\n",
       "      <td>2017-05-20 00:00:00</td>\n",
       "      <td>30.0</td>\n",
       "    </tr>\n",
       "    <tr>\n",
       "      <th>1</th>\n",
       "      <td>a</td>\n",
       "      <td>2017-05-20 00:05:00</td>\n",
       "      <td>105.0</td>\n",
       "    </tr>\n",
       "    <tr>\n",
       "      <th>2</th>\n",
       "      <td>a</td>\n",
       "      <td>2017-05-20 00:10:00</td>\n",
       "      <td>180.0</td>\n",
       "    </tr>\n",
       "    <tr>\n",
       "      <th>3</th>\n",
       "      <td>b</td>\n",
       "      <td>2017-05-20 00:00:00</td>\n",
       "      <td>35.0</td>\n",
       "    </tr>\n",
       "    <tr>\n",
       "      <th>4</th>\n",
       "      <td>b</td>\n",
       "      <td>2017-05-20 00:05:00</td>\n",
       "      <td>110.0</td>\n",
       "    </tr>\n",
       "    <tr>\n",
       "      <th>5</th>\n",
       "      <td>b</td>\n",
       "      <td>2017-05-20 00:10:00</td>\n",
       "      <td>185.0</td>\n",
       "    </tr>\n",
       "    <tr>\n",
       "      <th>6</th>\n",
       "      <td>c</td>\n",
       "      <td>2017-05-20 00:00:00</td>\n",
       "      <td>40.0</td>\n",
       "    </tr>\n",
       "    <tr>\n",
       "      <th>7</th>\n",
       "      <td>c</td>\n",
       "      <td>2017-05-20 00:05:00</td>\n",
       "      <td>115.0</td>\n",
       "    </tr>\n",
       "    <tr>\n",
       "      <th>8</th>\n",
       "      <td>c</td>\n",
       "      <td>2017-05-20 00:10:00</td>\n",
       "      <td>190.0</td>\n",
       "    </tr>\n",
       "  </tbody>\n",
       "</table>\n",
       "</div>"
      ],
      "text/plain": [
       "  key                time  value\n",
       "0   a 2017-05-20 00:00:00   30.0\n",
       "1   a 2017-05-20 00:05:00  105.0\n",
       "2   a 2017-05-20 00:10:00  180.0\n",
       "3   b 2017-05-20 00:00:00   35.0\n",
       "4   b 2017-05-20 00:05:00  110.0\n",
       "5   b 2017-05-20 00:10:00  185.0\n",
       "6   c 2017-05-20 00:00:00   40.0\n",
       "7   c 2017-05-20 00:05:00  115.0\n",
       "8   c 2017-05-20 00:10:00  190.0"
      ]
     },
     "execution_count": 113,
     "metadata": {},
     "output_type": "execute_result"
    }
   ],
   "source": [
    "# 시간 색인을 설정하고 key와 time_key로 그룹화한 다음 집계\n",
    "resampled = (df2.set_index(\"time\").groupby([\"key\", time_key]).sum())\n",
    "resampled\n",
    "\n",
    "resampled.reset_index()"
   ]
  },
  {
   "cell_type": "markdown",
   "id": "074f9680",
   "metadata": {},
   "source": [
    "# 11.7 이동창 함수"
   ]
  },
  {
   "cell_type": "markdown",
   "id": "87a7ec3b",
   "metadata": {},
   "source": [
    "시계열 연산에서 사용되는 배열 변형에서 중요한 요소는 움직이는 창이나 지수 가중과 함께 수행하는 통계와 기타 함수이다.\n",
    "\n",
    "함수를 이용해 누락된 데이터로 인해 매끄럽지 않은 시계열 데이터를 매끄럽게 다듬는 것을 이동창 함수라고 한다."
   ]
  },
  {
   "cell_type": "code",
   "execution_count": 114,
   "id": "188ce88b",
   "metadata": {},
   "outputs": [],
   "source": [
    "# 영업일 빈도로 리샘플링\n",
    "close_px_all = pd.read_csv(\"stock_px.csv\", parse_dates=True, index_col=0)\n",
    "close_px = close_px_all[[\"AAPL\", \"MSFT\", \"XOM\"]]\n",
    "close_px = close_px.resample(\"B\").ffill()"
   ]
  },
  {
   "cell_type": "markdown",
   "id": "39ed622f",
   "metadata": {},
   "source": [
    "rolling 연산은 resample, groupby와 유사하게 작동한다.\n",
    "\n",
    "Series나 DataFrame에서 원하는 기간을 나타내는 window 값으로 호출 할 수 있다.\n",
    "\n",
    "rolling(250)이라는 표현은 groupby와 비슷해 보이지만 그룹을 생성하는 대신 250일 크기의 움직이는 창을 통해 그룹핑할 수 있는 객체를 생성한다."
   ]
  },
  {
   "cell_type": "code",
   "execution_count": 127,
   "id": "33893790",
   "metadata": {},
   "outputs": [
    {
     "data": {
      "text/plain": [
       "<Axes: >"
      ]
     },
     "execution_count": 127,
     "metadata": {},
     "output_type": "execute_result"
    },
    {
     "data": {
      "text/plain": [
       "<Axes: >"
      ]
     },
     "execution_count": 127,
     "metadata": {},
     "output_type": "execute_result"
    },
    {
     "data": {
      "image/png": "[encoded data removed]",
      "text/plain": [
       "<Figure size 640x480 with 1 Axes>"
      ]
     },
     "metadata": {},
     "output_type": "display_data"
    }
   ],
   "source": [
    "close_px[\"AAPL\"].plot()\n",
    "close_px[\"AAPL\"].rolling(250).mean().plot()"
   ]
  },
  {
   "cell_type": "markdown",
   "id": "e7db8b39",
   "metadata": {},
   "source": [
    "rolling 함수는 기본적으로 해당 창 내에는 결측치가 없기를 기대하지만 시계열의 시작 지점에서는 필연적으로 window보다 적은 기간의 데이터를 가진다."
   ]
  },
  {
   "cell_type": "code",
   "execution_count": 131,
   "id": "f293ff69",
   "metadata": {},
   "outputs": [
    {
     "data": {
      "text/plain": [
       "2003-01-09         NaN\n",
       "2003-01-10         NaN\n",
       "2003-01-13         NaN\n",
       "2003-01-14         NaN\n",
       "2003-01-15         NaN\n",
       "2003-01-16    0.009628\n",
       "2003-01-17    0.013818\n",
       "Freq: B, Name: AAPL, dtype: float64"
      ]
     },
     "execution_count": 131,
     "metadata": {},
     "output_type": "execute_result"
    },
    {
     "data": {
      "text/plain": [
       "<Axes: >"
      ]
     },
     "execution_count": 131,
     "metadata": {},
     "output_type": "execute_result"
    },
    {
     "data": {
      "image/png": "[encoded data removed]",
      "text/plain": [
       "<Figure size 640x480 with 1 Axes>"
      ]
     },
     "metadata": {},
     "output_type": "display_data"
    }
   ],
   "source": [
    "std250 = close_px[\"AAPL\"].pct_change().rolling(250, min_periods=10).std()\n",
    "std250[5:12]\n",
    "std250.plot()"
   ]
  },
  {
   "cell_type": "markdown",
   "id": "462156a3",
   "metadata": {},
   "source": [
    "확장창 평균을 구하려면 rolling 대신 expanding을 사용한다.\n",
    "\n",
    "확장창 평균은 시계열의 시작 지점에서부터 창의 크기가 시계열의 전체 크기가 될 때까지 점점 창의 크기를 늘린다."
   ]
  },
  {
   "cell_type": "code",
   "execution_count": 133,
   "id": "44a1eb1f",
   "metadata": {},
   "outputs": [],
   "source": [
    "expanding_mean = std250.expanding().mean()"
   ]
  },
  {
   "cell_type": "code",
   "execution_count": 135,
   "id": "259a7001",
   "metadata": {},
   "outputs": [
    {
     "data": {
      "text/plain": [
       "<Axes: >"
      ]
     },
     "execution_count": 135,
     "metadata": {},
     "output_type": "execute_result"
    },
    {
     "data": {
      "image/png": "[encoded data removed]",
      "text/plain": [
       "<Figure size 640x480 with 1 Axes>"
      ]
     },
     "metadata": {},
     "output_type": "display_data"
    }
   ],
   "source": [
    "import matplotlib.pyplot as plt\n",
    "\n",
    "plt.style.use(\"grayscale\")\n",
    "close_px.rolling(60).mean().plot(logy=True)"
   ]
  },
  {
   "cell_type": "code",
   "execution_count": 136,
   "id": "ef265928",
   "metadata": {},
   "outputs": [
    {
     "data": {
      "text/html": [
       "<div>\n",
       "<style scoped>\n",
       "    .dataframe tbody tr th:only-of-type {\n",
       "        vertical-align: middle;\n",
       "    }\n",
       "\n",
       "    .dataframe tbody tr th {\n",
       "        vertical-align: top;\n",
       "    }\n",
       "\n",
       "    .dataframe thead th {\n",
       "        text-align: right;\n",
       "    }\n",
       "</style>\n",
       "<table border=\"1\" class=\"dataframe\">\n",
       "  <thead>\n",
       "    <tr style=\"text-align: right;\">\n",
       "      <th></th>\n",
       "      <th>A</th>\n",
       "      <th>B</th>\n",
       "    </tr>\n",
       "  </thead>\n",
       "  <tbody>\n",
       "    <tr>\n",
       "      <th>0</th>\n",
       "      <td>0</td>\n",
       "      <td>6</td>\n",
       "    </tr>\n",
       "    <tr>\n",
       "      <th>1</th>\n",
       "      <td>1</td>\n",
       "      <td>7</td>\n",
       "    </tr>\n",
       "    <tr>\n",
       "      <th>2</th>\n",
       "      <td>2</td>\n",
       "      <td>8</td>\n",
       "    </tr>\n",
       "    <tr>\n",
       "      <th>3</th>\n",
       "      <td>3</td>\n",
       "      <td>9</td>\n",
       "    </tr>\n",
       "    <tr>\n",
       "      <th>4</th>\n",
       "      <td>4</td>\n",
       "      <td>10</td>\n",
       "    </tr>\n",
       "    <tr>\n",
       "      <th>5</th>\n",
       "      <td>5</td>\n",
       "      <td>11</td>\n",
       "    </tr>\n",
       "  </tbody>\n",
       "</table>\n",
       "</div>"
      ],
      "text/plain": [
       "   A   B\n",
       "0  0   6\n",
       "1  1   7\n",
       "2  2   8\n",
       "3  3   9\n",
       "4  4  10\n",
       "5  5  11"
      ]
     },
     "execution_count": 136,
     "metadata": {},
     "output_type": "execute_result"
    },
    {
     "data": {
      "text/html": [
       "<div>\n",
       "<style scoped>\n",
       "    .dataframe tbody tr th:only-of-type {\n",
       "        vertical-align: middle;\n",
       "    }\n",
       "\n",
       "    .dataframe tbody tr th {\n",
       "        vertical-align: top;\n",
       "    }\n",
       "\n",
       "    .dataframe thead th {\n",
       "        text-align: right;\n",
       "    }\n",
       "</style>\n",
       "<table border=\"1\" class=\"dataframe\">\n",
       "  <thead>\n",
       "    <tr style=\"text-align: right;\">\n",
       "      <th></th>\n",
       "      <th>A</th>\n",
       "      <th>B</th>\n",
       "    </tr>\n",
       "  </thead>\n",
       "  <tbody>\n",
       "    <tr>\n",
       "      <th>0</th>\n",
       "      <td>NaN</td>\n",
       "      <td>NaN</td>\n",
       "    </tr>\n",
       "    <tr>\n",
       "      <th>1</th>\n",
       "      <td>NaN</td>\n",
       "      <td>NaN</td>\n",
       "    </tr>\n",
       "    <tr>\n",
       "      <th>2</th>\n",
       "      <td>0.0</td>\n",
       "      <td>6.0</td>\n",
       "    </tr>\n",
       "    <tr>\n",
       "      <th>3</th>\n",
       "      <td>1.0</td>\n",
       "      <td>7.0</td>\n",
       "    </tr>\n",
       "    <tr>\n",
       "      <th>4</th>\n",
       "      <td>2.0</td>\n",
       "      <td>8.0</td>\n",
       "    </tr>\n",
       "    <tr>\n",
       "      <th>5</th>\n",
       "      <td>3.0</td>\n",
       "      <td>9.0</td>\n",
       "    </tr>\n",
       "  </tbody>\n",
       "</table>\n",
       "</div>"
      ],
      "text/plain": [
       "     A    B\n",
       "0  NaN  NaN\n",
       "1  NaN  NaN\n",
       "2  0.0  6.0\n",
       "3  1.0  7.0\n",
       "4  2.0  8.0\n",
       "5  3.0  9.0"
      ]
     },
     "execution_count": 136,
     "metadata": {},
     "output_type": "execute_result"
    },
    {
     "data": {
      "text/html": [
       "<div>\n",
       "<style scoped>\n",
       "    .dataframe tbody tr th:only-of-type {\n",
       "        vertical-align: middle;\n",
       "    }\n",
       "\n",
       "    .dataframe tbody tr th {\n",
       "        vertical-align: top;\n",
       "    }\n",
       "\n",
       "    .dataframe thead th {\n",
       "        text-align: right;\n",
       "    }\n",
       "</style>\n",
       "<table border=\"1\" class=\"dataframe\">\n",
       "  <thead>\n",
       "    <tr style=\"text-align: right;\">\n",
       "      <th></th>\n",
       "      <th>A</th>\n",
       "      <th>B</th>\n",
       "    </tr>\n",
       "  </thead>\n",
       "  <tbody>\n",
       "    <tr>\n",
       "      <th>0</th>\n",
       "      <td>NaN</td>\n",
       "      <td>NaN</td>\n",
       "    </tr>\n",
       "    <tr>\n",
       "      <th>1</th>\n",
       "      <td>NaN</td>\n",
       "      <td>NaN</td>\n",
       "    </tr>\n",
       "    <tr>\n",
       "      <th>2</th>\n",
       "      <td>3.0</td>\n",
       "      <td>21.0</td>\n",
       "    </tr>\n",
       "    <tr>\n",
       "      <th>3</th>\n",
       "      <td>6.0</td>\n",
       "      <td>24.0</td>\n",
       "    </tr>\n",
       "    <tr>\n",
       "      <th>4</th>\n",
       "      <td>9.0</td>\n",
       "      <td>27.0</td>\n",
       "    </tr>\n",
       "    <tr>\n",
       "      <th>5</th>\n",
       "      <td>12.0</td>\n",
       "      <td>30.0</td>\n",
       "    </tr>\n",
       "  </tbody>\n",
       "</table>\n",
       "</div>"
      ],
      "text/plain": [
       "      A     B\n",
       "0   NaN   NaN\n",
       "1   NaN   NaN\n",
       "2   3.0  21.0\n",
       "3   6.0  24.0\n",
       "4   9.0  27.0\n",
       "5  12.0  30.0"
      ]
     },
     "execution_count": 136,
     "metadata": {},
     "output_type": "execute_result"
    }
   ],
   "source": [
    "dic_var = {\"A\": [0, 1, 2, 3, 4, 5], \"B\": [6, 7, 8, 9, 10, 11]}\n",
    "data = pd.DataFrame(dic_var)\n",
    "result = data.rolling(3)\n",
    "\n",
    "data\n",
    "result.min()\n",
    "result.sum()"
   ]
  },
  {
   "cell_type": "code",
   "execution_count": 138,
   "id": "760789bd",
   "metadata": {},
   "outputs": [
    {
     "data": {
      "text/html": [
       "<div>\n",
       "<style scoped>\n",
       "    .dataframe tbody tr th:only-of-type {\n",
       "        vertical-align: middle;\n",
       "    }\n",
       "\n",
       "    .dataframe tbody tr th {\n",
       "        vertical-align: top;\n",
       "    }\n",
       "\n",
       "    .dataframe thead th {\n",
       "        text-align: right;\n",
       "    }\n",
       "</style>\n",
       "<table border=\"1\" class=\"dataframe\">\n",
       "  <thead>\n",
       "    <tr style=\"text-align: right;\">\n",
       "      <th></th>\n",
       "      <th>date</th>\n",
       "      <th>value</th>\n",
       "    </tr>\n",
       "  </thead>\n",
       "  <tbody>\n",
       "    <tr>\n",
       "      <th>0</th>\n",
       "      <td>2021-01-01</td>\n",
       "      <td>10</td>\n",
       "    </tr>\n",
       "    <tr>\n",
       "      <th>1</th>\n",
       "      <td>2021-01-02</td>\n",
       "      <td>20</td>\n",
       "    </tr>\n",
       "    <tr>\n",
       "      <th>2</th>\n",
       "      <td>2021-01-03</td>\n",
       "      <td>30</td>\n",
       "    </tr>\n",
       "    <tr>\n",
       "      <th>3</th>\n",
       "      <td>2021-01-04</td>\n",
       "      <td>40</td>\n",
       "    </tr>\n",
       "    <tr>\n",
       "      <th>4</th>\n",
       "      <td>2021-01-05</td>\n",
       "      <td>50</td>\n",
       "    </tr>\n",
       "  </tbody>\n",
       "</table>\n",
       "</div>"
      ],
      "text/plain": [
       "         date  value\n",
       "0  2021-01-01     10\n",
       "1  2021-01-02     20\n",
       "2  2021-01-03     30\n",
       "3  2021-01-04     40\n",
       "4  2021-01-05     50"
      ]
     },
     "execution_count": 138,
     "metadata": {},
     "output_type": "execute_result"
    },
    {
     "data": {
      "text/html": [
       "<div>\n",
       "<style scoped>\n",
       "    .dataframe tbody tr th:only-of-type {\n",
       "        vertical-align: middle;\n",
       "    }\n",
       "\n",
       "    .dataframe tbody tr th {\n",
       "        vertical-align: top;\n",
       "    }\n",
       "\n",
       "    .dataframe thead th {\n",
       "        text-align: right;\n",
       "    }\n",
       "</style>\n",
       "<table border=\"1\" class=\"dataframe\">\n",
       "  <thead>\n",
       "    <tr style=\"text-align: right;\">\n",
       "      <th></th>\n",
       "      <th>value</th>\n",
       "      <th>rolling_mean</th>\n",
       "    </tr>\n",
       "    <tr>\n",
       "      <th>date</th>\n",
       "      <th></th>\n",
       "      <th></th>\n",
       "    </tr>\n",
       "  </thead>\n",
       "  <tbody>\n",
       "    <tr>\n",
       "      <th>2021-01-01</th>\n",
       "      <td>10</td>\n",
       "      <td>NaN</td>\n",
       "    </tr>\n",
       "    <tr>\n",
       "      <th>2021-01-02</th>\n",
       "      <td>20</td>\n",
       "      <td>NaN</td>\n",
       "    </tr>\n",
       "    <tr>\n",
       "      <th>2021-01-03</th>\n",
       "      <td>30</td>\n",
       "      <td>20.0</td>\n",
       "    </tr>\n",
       "    <tr>\n",
       "      <th>2021-01-04</th>\n",
       "      <td>40</td>\n",
       "      <td>30.0</td>\n",
       "    </tr>\n",
       "    <tr>\n",
       "      <th>2021-01-05</th>\n",
       "      <td>50</td>\n",
       "      <td>40.0</td>\n",
       "    </tr>\n",
       "  </tbody>\n",
       "</table>\n",
       "</div>"
      ],
      "text/plain": [
       "            value  rolling_mean\n",
       "date                           \n",
       "2021-01-01     10           NaN\n",
       "2021-01-02     20           NaN\n",
       "2021-01-03     30          20.0\n",
       "2021-01-04     40          30.0\n",
       "2021-01-05     50          40.0"
      ]
     },
     "execution_count": 138,
     "metadata": {},
     "output_type": "execute_result"
    }
   ],
   "source": [
    "data = {\"date\": [\"2021-01-01\", \"2021-01-02\", \"2021-01-03\", \"2021-01-04\", \"2021-01-05\"],\n",
    "        \"value\": [10, 20, 30, 40, 50]}\n",
    "df = pd.DataFrame(data)\n",
    "df \n",
    "\n",
    "df[\"date\"] = pd.to_datetime(df[\"date\"])\n",
    "df.set_index(\"date\", inplace=True)\n",
    "\n",
    "df[\"rolling_mean\"] = df[\"value\"].rolling(window=3).mean()\n",
    "\n",
    "df"
   ]
  },
  {
   "cell_type": "code",
   "execution_count": null,
   "id": "5db8aab8",
   "metadata": {},
   "outputs": [],
   "source": []
  }
 ],
 "metadata": {
  "kernelspec": {
   "display_name": "Python 3 (ipykernel)",
   "language": "python",
   "name": "python3"
  },
  "language_info": {
   "codemirror_mode": {
    "name": "ipython",
    "version": 3
   },
   "file_extension": ".py",
   "mimetype": "text/x-python",
   "name": "python",
   "nbconvert_exporter": "python",
   "pygments_lexer": "ipython3",
   "version": "3.11.5"
  },
  "toc": {
   "base_numbering": 1,
   "nav_menu": {},
   "number_sections": true,
   "sideBar": true,
   "skip_h1_title": false,
   "title_cell": "Table of Contents",
   "title_sidebar": "Contents",
   "toc_cell": false,
   "toc_position": {
    "height": "calc(100% - 180px)",
    "left": "10px",
    "top": "150px",
    "width": "372px"
   },
   "toc_section_display": true,
   "toc_window_display": false
  }
 },
 "nbformat": 4,
 "nbformat_minor": 5
}
