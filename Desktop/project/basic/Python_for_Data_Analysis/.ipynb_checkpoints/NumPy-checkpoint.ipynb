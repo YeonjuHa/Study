{
 "cells": [
  {
   "cell_type": "code",
   "execution_count": 3,
   "id": "caef3048",
   "metadata": {},
   "outputs": [],
   "source": [
    "import numpy as np\n",
    "\n",
    "from IPython.core.interactiveshell import InteractiveShell\n",
    "InteractiveShell.ast_node_interactivity = 'all'"
   ]
  },
  {
   "cell_type": "code",
   "execution_count": 4,
   "id": "f575e67a",
   "metadata": {},
   "outputs": [
    {
     "data": {
      "text/plain": [
       "array([10, 20, 30, 40, 50])"
      ]
     },
     "execution_count": 4,
     "metadata": {},
     "output_type": "execute_result"
    },
    {
     "data": {
      "text/plain": [
       "array(['cat', 'dog', 'fish', 'turtle', 'bird'], dtype='<U6')"
      ]
     },
     "execution_count": 4,
     "metadata": {},
     "output_type": "execute_result"
    }
   ],
   "source": [
    "np.array([10, 20, 30, 40, 50])\n",
    "\n",
    "np.array(['cat', 'dog', 'fish', 'turtle', 'bird'])"
   ]
  },
  {
   "cell_type": "code",
   "execution_count": 7,
   "id": "491be567",
   "metadata": {},
   "outputs": [
    {
     "data": {
      "text/plain": [
       "array([95, 86, 79, 80, 94])"
      ]
     },
     "execution_count": 7,
     "metadata": {},
     "output_type": "execute_result"
    },
    {
     "data": {
      "text/plain": [
       "array([[ 95,  86,  79,  80,  94],\n",
       "       [ 88, 100,  84,  80,  98]])"
      ]
     },
     "execution_count": 7,
     "metadata": {},
     "output_type": "execute_result"
    },
    {
     "data": {
      "text/plain": [
       "(5,)"
      ]
     },
     "execution_count": 7,
     "metadata": {},
     "output_type": "execute_result"
    },
    {
     "data": {
      "text/plain": [
       "(2, 5)"
      ]
     },
     "execution_count": 7,
     "metadata": {},
     "output_type": "execute_result"
    }
   ],
   "source": [
    "# 배열은 차원을 갖는다.\n",
    "kor = np.array([95, 86, 79, 80, 94])\n",
    "kor\n",
    "\n",
    "score = np.array([[95, 86, 79, 80, 94],\n",
    "                  [88, 100, 84, 80, 98]])\n",
    "score\n",
    "\n",
    "kor.shape\n",
    "score.shape"
   ]
  },
  {
   "cell_type": "code",
   "execution_count": 8,
   "id": "75fb03e0",
   "metadata": {},
   "outputs": [
    {
     "data": {
      "text/plain": [
       "[20, 30, 40]"
      ]
     },
     "execution_count": 8,
     "metadata": {},
     "output_type": "execute_result"
    },
    {
     "data": {
      "text/plain": [
       "array([20, 30, 40])"
      ]
     },
     "execution_count": 8,
     "metadata": {},
     "output_type": "execute_result"
    }
   ],
   "source": [
    "# 리스트의 연산\n",
    "r1 = []\n",
    "p1 = [10, 20, 30]\n",
    "for i in p1:\n",
    "    r1.append(i+10)\n",
    "r1\n",
    "\n",
    "# 배열의 연산\n",
    "p2 = np.array([10, 20, 30])\n",
    "p2 + 10"
   ]
  },
  {
   "cell_type": "markdown",
   "id": "86b720b4",
   "metadata": {},
   "source": [
    "### 배열 생성 함수\n",
    "- `np.array([1, 2, 3])` :\n",
    "- `np.zeros()` :\n",
    "- `np.ones()` :\n",
    "- `np.arange()` :\n",
    "- `np.rand()` :"
   ]
  },
  {
   "cell_type": "code",
   "execution_count": 12,
   "id": "008bda42",
   "metadata": {},
   "outputs": [
    {
     "data": {
      "text/plain": [
       "array([1, 2, 3])"
      ]
     },
     "execution_count": 12,
     "metadata": {},
     "output_type": "execute_result"
    },
    {
     "data": {
      "text/plain": [
       "array([10, 11, 12, 13, 14, 15, 16, 17, 18, 19, 20])"
      ]
     },
     "execution_count": 12,
     "metadata": {},
     "output_type": "execute_result"
    }
   ],
   "source": [
    "list1 = [1, 2, 3]\n",
    "arr1 = np.array(list1)\n",
    "arr1\n",
    "\n",
    "arr2 = np.array(range(10, 20+1))\n",
    "arr2"
   ]
  },
  {
   "cell_type": "code",
   "execution_count": 11,
   "id": "95e4a0be",
   "metadata": {},
   "outputs": [
    {
     "data": {
      "text/plain": [
       "array([0., 0., 0., 0., 0.])"
      ]
     },
     "execution_count": 11,
     "metadata": {},
     "output_type": "execute_result"
    },
    {
     "data": {
      "text/plain": [
       "array([[0., 0., 0.],\n",
       "       [0., 0., 0.]])"
      ]
     },
     "execution_count": 11,
     "metadata": {},
     "output_type": "execute_result"
    }
   ],
   "source": [
    "np.zeros(5)\n",
    "np.zeros((2, 3))"
   ]
  },
  {
   "cell_type": "code",
   "execution_count": 13,
   "id": "5c0389aa",
   "metadata": {},
   "outputs": [
    {
     "data": {
      "text/plain": [
       "array([[[ 0,  1,  2],\n",
       "        [ 3,  4,  5],\n",
       "        [ 6,  7,  8]],\n",
       "\n",
       "       [[ 9, 10, 11],\n",
       "        [12, 13, 14],\n",
       "        [15, 16, 17]],\n",
       "\n",
       "       [[18, 19, 20],\n",
       "        [21, 22, 23],\n",
       "        [24, 25, 26]]])"
      ]
     },
     "execution_count": 13,
     "metadata": {},
     "output_type": "execute_result"
    }
   ],
   "source": [
    "arr2d = np.arange(27).reshape(3, 3, 3)\n",
    "arr2d"
   ]
  },
  {
   "cell_type": "code",
   "execution_count": null,
   "id": "eff248c6",
   "metadata": {},
   "outputs": [],
   "source": []
  }
 ],
 "metadata": {
  "kernelspec": {
   "display_name": "Python 3 (ipykernel)",
   "language": "python",
   "name": "python3"
  },
  "language_info": {
   "codemirror_mode": {
    "name": "ipython",
    "version": 3
   },
   "file_extension": ".py",
   "mimetype": "text/x-python",
   "name": "python",
   "nbconvert_exporter": "python",
   "pygments_lexer": "ipython3",
   "version": "3.11.5"
  }
 },
 "nbformat": 4,
 "nbformat_minor": 5
}
