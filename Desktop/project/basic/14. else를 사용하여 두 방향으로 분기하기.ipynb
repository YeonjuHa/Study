{
 "cells": [
  {
   "cell_type": "markdown",
   "id": "10455309",
   "metadata": {},
   "source": [
    "## 14. else를 사용하여 두 방향으로 분기하기"
   ]
  },
  {
   "cell_type": "markdown",
   "id": "3ca30592",
   "metadata": {},
   "source": [
    "### 1. else 사용하기"
   ]
  },
  {
   "cell_type": "code",
   "execution_count": 1,
   "id": "15926555",
   "metadata": {},
   "outputs": [
    {
     "name": "stdout",
     "output_type": "stream",
     "text": [
      "10입니다.\n"
     ]
    }
   ],
   "source": [
    "x = 10\n",
    "\n",
    "if x == 10:\n",
    "    print('10입니다.')\n",
    "else:\n",
    "    print('10이 아닙니다.')"
   ]
  },
  {
   "cell_type": "code",
   "execution_count": 2,
   "id": "a91a53eb",
   "metadata": {},
   "outputs": [
    {
     "name": "stdout",
     "output_type": "stream",
     "text": [
      "10이 아닙니다.\n"
     ]
    }
   ],
   "source": [
    "x = 5\n",
    "\n",
    "if x != 10:\n",
    "    print('10이 아닙니다.')\n",
    "else:\n",
    "    print('10입니다.')"
   ]
  },
  {
   "cell_type": "markdown",
   "id": "bd37b13e",
   "metadata": {},
   "source": [
    "### 2. else와 들여쓰기"
   ]
  },
  {
   "cell_type": "code",
   "execution_count": 3,
   "id": "ec8b36e3",
   "metadata": {},
   "outputs": [
    {
     "ename": "IndentationError",
     "evalue": "expected an indented block after 'else' statement on line 5 (3975703910.py, line 6)",
     "output_type": "error",
     "traceback": [
      "\u001b[1;36m  Cell \u001b[1;32mIn[3], line 6\u001b[1;36m\u001b[0m\n\u001b[1;33m    print('10이 아닙니다.')\u001b[0m\n\u001b[1;37m    ^\u001b[0m\n\u001b[1;31mIndentationError\u001b[0m\u001b[1;31m:\u001b[0m expected an indented block after 'else' statement on line 5\n"
     ]
    }
   ],
   "source": [
    "x = 5\n",
    "\n",
    "if x == 10:\n",
    "    print('10입니다.')\n",
    "else:\n",
    "print('10이 아닙니다.')"
   ]
  },
  {
   "cell_type": "code",
   "execution_count": 6,
   "id": "4c9e8917",
   "metadata": {},
   "outputs": [
    {
     "name": "stdout",
     "output_type": "stream",
     "text": [
      "x에 들어있는 숫자는\n",
      "10이 아닙니다.\n"
     ]
    }
   ],
   "source": [
    "if x == 10:\n",
    "    print('10입니다.')\n",
    "else:\n",
    "    print('x에 들어있는 숫자는')\n",
    "    print('10이 아닙니다.')"
   ]
  },
  {
   "cell_type": "code",
   "execution_count": 7,
   "id": "5ab82f40",
   "metadata": {},
   "outputs": [
    {
     "name": "stdout",
     "output_type": "stream",
     "text": [
      "10입니다.\n",
      "10이 아닙니다.\n"
     ]
    }
   ],
   "source": [
    "x =10 \n",
    "\n",
    "if x == 10:\n",
    "    print('10입니다.')\n",
    "else:\n",
    "    print('x에 들어있는 숫자는')\n",
    "print('10이 아닙니다.')"
   ]
  },
  {
   "cell_type": "markdown",
   "id": "86ecff60",
   "metadata": {},
   "source": [
    "### 3. if 조건문의 동작 방식 알아보기"
   ]
  },
  {
   "cell_type": "code",
   "execution_count": 8,
   "id": "d412a275",
   "metadata": {},
   "outputs": [
    {
     "name": "stdout",
     "output_type": "stream",
     "text": [
      "참\n",
      "거짓\n",
      "거짓\n"
     ]
    }
   ],
   "source": [
    "if True:\n",
    "    print('참')\n",
    "else:\n",
    "    print('거짓')\n",
    "\n",
    "if False:\n",
    "    print('참')\n",
    "else:\n",
    "    print('거짓')\n",
    "    \n",
    "if None:\n",
    "    print('참')\n",
    "else:\n",
    "    print('거짓')"
   ]
  },
  {
   "cell_type": "markdown",
   "id": "075fc44d",
   "metadata": {},
   "source": [
    "### 1) if 조건문에 숫자 지정하기"
   ]
  },
  {
   "cell_type": "code",
   "execution_count": 9,
   "id": "dbea9461",
   "metadata": {},
   "outputs": [
    {
     "name": "stdout",
     "output_type": "stream",
     "text": [
      "거짓\n",
      "참\n",
      "참\n",
      "참\n",
      "참\n"
     ]
    }
   ],
   "source": [
    "if 0:\n",
    "    print('참')\n",
    "else:\n",
    "    print('거짓')\n",
    "    \n",
    "if 1:\n",
    "    print('참')\n",
    "else:\n",
    "    print('거짓')\n",
    "    \n",
    "if 0x1F:    # 16진수\n",
    "    print('참')\n",
    "else:\n",
    "    print('거짓')\n",
    "    \n",
    "if 0b1000:    # 2진수\n",
    "    print('참')\n",
    "else:\n",
    "    print('거짓')\n",
    "    \n",
    "if 13.5:   # 실수\n",
    "    print('참')\n",
    "else:\n",
    "    print('거짓')"
   ]
  },
  {
   "cell_type": "markdown",
   "id": "86838ee9",
   "metadata": {},
   "source": [
    "### 2) if 조건문에 문자열 지정하기"
   ]
  },
  {
   "cell_type": "code",
   "execution_count": 10,
   "id": "aba1705d",
   "metadata": {},
   "outputs": [
    {
     "name": "stdout",
     "output_type": "stream",
     "text": [
      "참\n",
      "거짓\n"
     ]
    }
   ],
   "source": [
    "if 'Hello':\n",
    "    print('참')\n",
    "else:\n",
    "    print('거짓')\n",
    "\n",
    "if '':\n",
    "    print('참')\n",
    "else:\n",
    "    print('거짓')"
   ]
  },
  {
   "cell_type": "code",
   "execution_count": 1,
   "id": "27c56a7b",
   "metadata": {},
   "outputs": [
    {
     "name": "stdout",
     "output_type": "stream",
     "text": [
      "참\n",
      "참\n",
      "참\n"
     ]
    }
   ],
   "source": [
    "if not 0:\n",
    "    print('참')\n",
    "\n",
    "if not None:\n",
    "    print('참')\n",
    "\n",
    "if not'':\n",
    "    print('참')"
   ]
  },
  {
   "cell_type": "markdown",
   "id": "abb8bd6a",
   "metadata": {},
   "source": [
    "### 4. 조건식을 여러 개 지정하기"
   ]
  },
  {
   "cell_type": "code",
   "execution_count": 11,
   "id": "f7fa9d4c",
   "metadata": {},
   "outputs": [
    {
     "name": "stdout",
     "output_type": "stream",
     "text": [
      "참\n"
     ]
    }
   ],
   "source": [
    "x = 10\n",
    "y = 20\n",
    "\n",
    "if x == 10 and y == 20:\n",
    "    print('참')\n",
    "else:\n",
    "    print('거짓')"
   ]
  },
  {
   "cell_type": "markdown",
   "id": "02a5db54",
   "metadata": {},
   "source": [
    "### 1) 중첩 if 조건문과 논리 연산자"
   ]
  },
  {
   "cell_type": "code",
   "execution_count": 12,
   "id": "fa72b95a",
   "metadata": {},
   "outputs": [
    {
     "name": "stdout",
     "output_type": "stream",
     "text": [
      "20보다 작은 양수입니다.\n"
     ]
    }
   ],
   "source": [
    "if x > 0:\n",
    "    if x < 20:\n",
    "        print('20보다 작은 양수입니다.')"
   ]
  },
  {
   "cell_type": "code",
   "execution_count": 13,
   "id": "c74644ad",
   "metadata": {},
   "outputs": [
    {
     "name": "stdout",
     "output_type": "stream",
     "text": [
      "20보다 작은 양수입니다.\n"
     ]
    }
   ],
   "source": [
    "if x > 0 and x < 20:\n",
    "    print('20보다 작은 양수입니다.')"
   ]
  },
  {
   "cell_type": "code",
   "execution_count": 14,
   "id": "4582bb1a",
   "metadata": {},
   "outputs": [
    {
     "name": "stdout",
     "output_type": "stream",
     "text": [
      "20보다 작은 양수입니다.\n"
     ]
    }
   ],
   "source": [
    "if 0 < x < 20:\n",
    "    print('20보다 작은 양수입니다.')"
   ]
  },
  {
   "cell_type": "markdown",
   "id": "f90593fd",
   "metadata": {},
   "source": [
    "## 14.6 연습문제: 합격 여부 판단하기\n",
    "#### A 기업의 입사 시험은 필기시험 점수가 80점 이상이면서 코딩 시험을 통과해야 합격이라고 정했습니다(코딩 시험 통과 여부는 True, False로 구분).\n",
    "#### 다음 소스 코드를 완성하여 '합격', '불합격'이 출력되게 만드세요."
   ]
  },
  {
   "cell_type": "code",
   "execution_count": 15,
   "id": "8e5af3cf",
   "metadata": {},
   "outputs": [
    {
     "name": "stdout",
     "output_type": "stream",
     "text": [
      "불합격\n"
     ]
    }
   ],
   "source": [
    "written_test = 75\n",
    "coding_test = True\n",
    "\n",
    "if written_test >= 80 and coding_test == True:\n",
    "    print('합격')\n",
    "else:\n",
    "    print('불합격')"
   ]
  },
  {
   "cell_type": "markdown",
   "id": "d5c849fa",
   "metadata": {},
   "source": [
    "## 14.7 심사문제: 합격 여부 판단하기\n",
    "#### 표준 입력으로 국어, 영어, 수학, 과학 점수가 입력됩니다. 여기서 네 과목의 평균 점수가 80점 이상일 때 합격이라고 정했습니다.\n",
    "#### 평균 점수에 따라 '합격', '불합격'을 출력하는 프로그램을 만드세요(input에서 안내 문자열은 출력하지 않아야 합니다).\n",
    "#### 단, 점수는 0점부터 100점까지만 입력받을 수 있으며 범위를 벗어났다면 '잘못된 점수'를 출력하고 합격, 불학겹 여부는 출력하지 않아야 합니다."
   ]
  },
  {
   "cell_type": "code",
   "execution_count": 32,
   "id": "7dab6290",
   "metadata": {},
   "outputs": [
    {
     "name": "stdout",
     "output_type": "stream",
     "text": [
      "89 72 93 82\n",
      "합격\n"
     ]
    }
   ],
   "source": [
    "# 합격인 경우\n",
    "korean, english, mathematics, science = map(int, input().split())\n",
    "\n",
    "if 0 <= korean <= 100 and 0 <= english <= 100 and 0 <= mathematics <= 100 and 0 <= science <= 100:\n",
    "\n",
    "    if (korean + english + mathematics + science)/4 >= 80:\n",
    "        print('합격')\n",
    "    else:\n",
    "        print('불합격')\n",
    "    \n",
    "else:\n",
    "    print('잘못된 점수')"
   ]
  },
  {
   "cell_type": "code",
   "execution_count": 33,
   "id": "ced13682",
   "metadata": {},
   "outputs": [
    {
     "name": "stdout",
     "output_type": "stream",
     "text": [
      "100 79 68 71\n",
      "불합격\n"
     ]
    }
   ],
   "source": [
    "# 불합격인 경우\n",
    "korean, english, mathematics, science = map(int, input().split())\n",
    "\n",
    "if 0 <= korean <= 100 and 0 <= english <= 100 and 0 <= mathematics <= 100 and 0 <= science <= 100:\n",
    "\n",
    "    if (korean + english + mathematics + science)/4 >= 80:\n",
    "        print('합격')\n",
    "    else:\n",
    "        print('불합격')\n",
    "    \n",
    "else:\n",
    "    print('잘못된 점수')"
   ]
  },
  {
   "cell_type": "code",
   "execution_count": 31,
   "id": "67989d76",
   "metadata": {},
   "outputs": [
    {
     "name": "stdout",
     "output_type": "stream",
     "text": [
      "1000 2000 3000 4000\n",
      "잘못된 점수\n"
     ]
    }
   ],
   "source": [
    "# 점수가 범위를 벗어난 경우\n",
    "korean, english, mathematics, science = map(int, input().split())\n",
    "\n",
    "if 0 <= korean <= 100 and 0 <= english <= 100 and 0 <= mathematics <= 100 and 0 <= science <= 100:\n",
    "\n",
    "    if (korean + english + mathematics + science)/4 >= 80:\n",
    "        print('합격')\n",
    "    else:\n",
    "        print('불합격')\n",
    "    \n",
    "else:\n",
    "    print('잘못된 점수')"
   ]
  },
  {
   "cell_type": "code",
   "execution_count": 34,
   "id": "cf5485ac",
   "metadata": {},
   "outputs": [
    {
     "name": "stdout",
     "output_type": "stream",
     "text": [
      "100 50 70 90\n",
      "불합격\n"
     ]
    }
   ],
   "source": [
    "# 국어 : k, 영어 : e, 수학 : m, 과학 : s\n",
    "k, e, m, s = map(int, input().split()) \n",
    "\n",
    "if (0 <= k) and (k <= 100) and (0 <= e) and (e <= 100) and (0 <= m) and (m <= 100) and (0 <= s) and (s <=100):\n",
    "    if (k + e + m + s)/4 >=80:\n",
    "        print(\"합격\")\n",
    "    else:\n",
    "        print(\"불합격\")\n",
    "else:\n",
    "    print(\"잘못된 점수\")"
   ]
  }
 ],
 "metadata": {
  "kernelspec": {
   "display_name": "Python 3 (ipykernel)",
   "language": "python",
   "name": "python3"
  },
  "language_info": {
   "codemirror_mode": {
    "name": "ipython",
    "version": 3
   },
   "file_extension": ".py",
   "mimetype": "text/x-python",
   "name": "python",
   "nbconvert_exporter": "python",
   "pygments_lexer": "ipython3",
   "version": "3.11.4"
  }
 },
 "nbformat": 4,
 "nbformat_minor": 5
}
